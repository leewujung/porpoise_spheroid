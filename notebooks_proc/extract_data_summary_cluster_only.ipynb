{
 "cells": [
  {
   "cell_type": "markdown",
   "id": "46187b42",
   "metadata": {},
   "source": [
    "# Organize summary data for AR=1.3 clusters\n",
    "\n",
    "This notebook takes outputs from `extract_data_summary_all.ipynb` and `fig_clustering_dendrogram.ipynb` to produced organized dataframe for statistical analysis for behavior attributes of AR=1.3 clusters."
   ]
  },
  {
   "cell_type": "code",
   "execution_count": 1,
   "id": "70bab6af",
   "metadata": {},
   "outputs": [],
   "source": [
    "from pathlib import Path\n",
    "import pandas as pd\n",
    "\n",
    "import pickle"
   ]
  },
  {
   "cell_type": "code",
   "execution_count": 2,
   "id": "ff1772bc",
   "metadata": {},
   "outputs": [],
   "source": [
    "from pp_utils.core import generate_data_path_dict\n",
    "from pp_utils import utils"
   ]
  },
  {
   "cell_type": "markdown",
   "id": "e79f29b1",
   "metadata": {},
   "source": [
    "## Set paths, load main info df and clusters"
   ]
  },
  {
   "cell_type": "code",
   "execution_count": 3,
   "id": "f098e960",
   "metadata": {},
   "outputs": [],
   "source": [
    "data_path = generate_data_path_dict(Path(\"../data_processed/\"))"
   ]
  },
  {
   "cell_type": "code",
   "execution_count": 4,
   "id": "ce07c00e",
   "metadata": {},
   "outputs": [],
   "source": [
    "output_path = data_path[\"main\"] / \"data_summary\"\n",
    "\n",
    "with open(output_path / \"clustering_7_rostrum_only.pickle\", \"rb\") as filein:\n",
    "    cluster_fnameprefix_7 = pickle.load(filein)"
   ]
  },
  {
   "cell_type": "markdown",
   "id": "b71c4346",
   "metadata": {},
   "source": [
    "### Load compiled trial info"
   ]
  },
  {
   "cell_type": "code",
   "execution_count": 5,
   "id": "594082d6",
   "metadata": {},
   "outputs": [],
   "source": [
    "df_summary = pd.read_csv(output_path / \"data_summary_all.csv\", index_col=0)"
   ]
  },
  {
   "cell_type": "markdown",
   "id": "a01f17c1",
   "metadata": {},
   "source": [
    "## Sort clusters"
   ]
  },
  {
   "cell_type": "markdown",
   "id": "c18faa7a",
   "metadata": {},
   "source": [
    "### 7clusters"
   ]
  },
  {
   "cell_type": "code",
   "execution_count": 6,
   "id": "bec9093d",
   "metadata": {},
   "outputs": [],
   "source": [
    "# Clean up clusters\n",
    "# 0: TC-straight, 1: TC-very curved, 2: TC-curved (need to change sequence to: 0-2-1)\n",
    "# 3: CT-very curved, 4: CT-curved, 6: CT-straight (need to change sequence to: 6-4-3)\n",
    "df_cluster_7 = []\n",
    "for seq, fp_list in enumerate(cluster_fnameprefix_7):\n",
    "    df_sel = utils.sort_df_in_cluster(fp_list, df_summary)\n",
    "    df_cluster_7.append(df_sel)"
   ]
  },
  {
   "cell_type": "code",
   "execution_count": 7,
   "id": "b7a1d939",
   "metadata": {},
   "outputs": [],
   "source": [
    "# Change sequence\n",
    "new_seq = [0, 2, 1, 6, 4, 3]\n",
    "df_cluster_clean_7 = []\n",
    "for seq in new_seq:\n",
    "    df_cluster_clean_7.append(df_cluster_7[seq])"
   ]
  },
  {
   "cell_type": "code",
   "execution_count": 8,
   "id": "e88261d5",
   "metadata": {},
   "outputs": [
    {
     "name": "stdout",
     "output_type": "stream",
     "text": [
      "[16, 9, 16, 6, 8, 1, 23]\n",
      "[16, 16, 9, 23, 8, 6]\n"
     ]
    }
   ],
   "source": [
    "# Sanity check that we've swapped things correctly\n",
    "print([len(df) for df in df_cluster_7])\n",
    "print([len(df) for df in df_cluster_clean_7])"
   ]
  },
  {
   "cell_type": "markdown",
   "id": "0a643518",
   "metadata": {},
   "source": [
    "### Build dataframe"
   ]
  },
  {
   "cell_type": "code",
   "execution_count": 9,
   "id": "dee8ca4a",
   "metadata": {},
   "outputs": [],
   "source": [
    "# Cluster names\n",
    "cluster_names = [\"TC_Straight\", \"TC_Curved-1\", \"TC_Curved-2\", \"CT_Straight\", \"CT_Curved-1\", \"CT_Curved-2\"]"
   ]
  },
  {
   "cell_type": "code",
   "execution_count": 10,
   "id": "5f768d33",
   "metadata": {},
   "outputs": [],
   "source": [
    "# Fill in new columns\n",
    "cluster_all = []\n",
    "\n",
    "for trial_idx in df_summary.index:\n",
    "    fname_prefix = df_summary.loc[trial_idx][\"fname_prefix\"]\n",
    "    cluster_fill = \"X\"\n",
    "    for seq in range(6):\n",
    "        if fname_prefix in df_cluster_clean_7[seq][\"fname_prefix\"].values:\n",
    "            cluster_fill = cluster_names[seq]\n",
    "            break\n",
    "    cluster_all.append(cluster_fill)"
   ]
  },
  {
   "cell_type": "code",
   "execution_count": 11,
   "id": "94d45d89",
   "metadata": {},
   "outputs": [],
   "source": [
    "# Sanity check\n",
    "assert len(cluster_all) == 247"
   ]
  },
  {
   "cell_type": "code",
   "execution_count": 12,
   "id": "42fde694",
   "metadata": {},
   "outputs": [],
   "source": [
    "df_summary[\"cluster\"] = cluster_all"
   ]
  },
  {
   "cell_type": "code",
   "execution_count": 13,
   "id": "a9cb8225",
   "metadata": {},
   "outputs": [],
   "source": [
    "df_sel = df_summary[df_summary[\"cluster\"]!=\"X\"]"
   ]
  },
  {
   "cell_type": "code",
   "execution_count": 14,
   "id": "6093681c",
   "metadata": {},
   "outputs": [
    {
     "data": {
      "text/plain": [
       "78"
      ]
     },
     "execution_count": 14,
     "metadata": {},
     "output_type": "execute_result"
    }
   ],
   "source": [
    "len(df_sel)"
   ]
  },
  {
   "cell_type": "code",
   "execution_count": 15,
   "id": "1e157ea9",
   "metadata": {},
   "outputs": [],
   "source": [
    "# Sanity check\n",
    "assert len(df_sel[df_sel[\"cluster\"]==\"X\"]) == 0"
   ]
  },
  {
   "cell_type": "markdown",
   "id": "491835ac",
   "metadata": {},
   "source": [
    "### Export to CSV"
   ]
  },
  {
   "cell_type": "code",
   "execution_count": 16,
   "id": "7cacef83",
   "metadata": {},
   "outputs": [],
   "source": [
    "df_sel.to_csv(output_path / \"data_summary_cluster_only.csv\")"
   ]
  },
  {
   "cell_type": "code",
   "execution_count": null,
   "id": "b112e7a0",
   "metadata": {},
   "outputs": [],
   "source": []
  },
  {
   "cell_type": "code",
   "execution_count": null,
   "id": "5400cc87",
   "metadata": {},
   "outputs": [],
   "source": []
  },
  {
   "cell_type": "code",
   "execution_count": null,
   "id": "ddf8b7bc",
   "metadata": {},
   "outputs": [],
   "source": []
  }
 ],
 "metadata": {
  "kernelspec": {
   "display_name": "Python [conda env:porpoise_spheroid]",
   "language": "python",
   "name": "conda-env-porpoise_spheroid-py"
  },
  "language_info": {
   "codemirror_mode": {
    "name": "ipython",
    "version": 3
   },
   "file_extension": ".py",
   "mimetype": "text/x-python",
   "name": "python",
   "nbconvert_exporter": "python",
   "pygments_lexer": "ipython3",
   "version": "3.9.16"
  }
 },
 "nbformat": 4,
 "nbformat_minor": 5
}
