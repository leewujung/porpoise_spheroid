{
 "cells": [
  {
   "cell_type": "markdown",
   "id": "80d634b8",
   "metadata": {
    "papermill": {
     "duration": 0.014979,
     "end_time": "2023-04-29T03:27:59.311395",
     "exception": false,
     "start_time": "2023-04-29T03:27:59.296416",
     "status": "completed"
    },
    "tags": []
   },
   "source": [
    "# Extract target hydrophone click segments\n",
    "\n",
    "This notebook extracts click segmented detected on target hydrophones for later computation of click attributes such as RL and SNR.\n",
    "\n",
    "The click segnments are saved in `.npy` files under `hydrophone/extracted_clicks`."
   ]
  },
  {
   "cell_type": "code",
   "execution_count": 1,
   "id": "fcd0f7e9",
   "metadata": {
    "execution": {
     "iopub.execute_input": "2023-04-29T03:27:59.329663Z",
     "iopub.status.busy": "2023-04-29T03:27:59.329183Z",
     "iopub.status.idle": "2023-04-29T03:27:59.624212Z",
     "shell.execute_reply": "2023-04-29T03:27:59.623879Z"
    },
    "papermill": {
     "duration": 0.304036,
     "end_time": "2023-04-29T03:27:59.625372",
     "exception": false,
     "start_time": "2023-04-29T03:27:59.321336",
     "status": "completed"
    },
    "tags": []
   },
   "outputs": [],
   "source": [
    "from pathlib import Path\n",
    "\n",
    "import numpy as np\n",
    "import pandas as pd\n",
    "\n",
    "import soundfile as sf"
   ]
  },
  {
   "cell_type": "code",
   "execution_count": 2,
   "id": "6feb46f1",
   "metadata": {
    "execution": {
     "iopub.execute_input": "2023-04-29T03:27:59.629572Z",
     "iopub.status.busy": "2023-04-29T03:27:59.629427Z",
     "iopub.status.idle": "2023-04-29T03:27:59.691318Z",
     "shell.execute_reply": "2023-04-29T03:27:59.690998Z"
    },
    "papermill": {
     "duration": 0.065157,
     "end_time": "2023-04-29T03:27:59.692491",
     "exception": false,
     "start_time": "2023-04-29T03:27:59.627334",
     "status": "completed"
    },
    "tags": []
   },
   "outputs": [],
   "source": [
    "import pp_utils.file_handling as fd\n",
    "import pp_utils.hydro_clicks as hc"
   ]
  },
  {
   "cell_type": "markdown",
   "id": "e79f29b1",
   "metadata": {
    "papermill": {
     "duration": 0.001492,
     "end_time": "2023-04-29T03:27:59.695595",
     "exception": false,
     "start_time": "2023-04-29T03:27:59.694103",
     "status": "completed"
    },
    "tags": []
   },
   "source": [
    "## Set paths"
   ]
  },
  {
   "cell_type": "code",
   "execution_count": 3,
   "id": "10a40bf8",
   "metadata": {
    "execution": {
     "iopub.execute_input": "2023-04-29T03:27:59.699083Z",
     "iopub.status.busy": "2023-04-29T03:27:59.698955Z",
     "iopub.status.idle": "2023-04-29T03:27:59.700955Z",
     "shell.execute_reply": "2023-04-29T03:27:59.700678Z"
    },
    "papermill": {
     "duration": 0.004796,
     "end_time": "2023-04-29T03:27:59.701864",
     "exception": false,
     "start_time": "2023-04-29T03:27:59.697068",
     "status": "completed"
    },
    "tags": []
   },
   "outputs": [],
   "source": [
    "analysis_path = Path('../data_processed/')\n",
    "raw_path = Path('../data_raw/')\n",
    "\n",
    "# hydrophone click detection folders\n",
    "hydro_wav_path = analysis_path / 'hydrophone/wav_filtered/'\n",
    "hydro_click_path = analysis_path / 'hydrophone/click_reclean_202103/points_cleaned_20211019/'"
   ]
  },
  {
   "cell_type": "code",
   "execution_count": 4,
   "id": "fd82eb97",
   "metadata": {
    "execution": {
     "iopub.execute_input": "2023-04-29T03:27:59.705411Z",
     "iopub.status.busy": "2023-04-29T03:27:59.705291Z",
     "iopub.status.idle": "2023-04-29T03:27:59.707108Z",
     "shell.execute_reply": "2023-04-29T03:27:59.706872Z"
    },
    "papermill": {
     "duration": 0.004593,
     "end_time": "2023-04-29T03:27:59.707995",
     "exception": false,
     "start_time": "2023-04-29T03:27:59.703402",
     "status": "completed"
    },
    "tags": []
   },
   "outputs": [],
   "source": [
    "# click output folder\n",
    "output_click_path = analysis_path / \"hydrophone/extracted_clicks\"\n",
    "\n",
    "if not output_click_path.exists():\n",
    "    output_click_path.mkdir()"
   ]
  },
  {
   "cell_type": "markdown",
   "id": "86000333",
   "metadata": {
    "papermill": {
     "duration": 0.001398,
     "end_time": "2023-04-29T03:27:59.711025",
     "exception": false,
     "start_time": "2023-04-29T03:27:59.709627",
     "status": "completed"
    },
    "tags": []
   },
   "source": [
    "Load dataframe with all info:"
   ]
  },
  {
   "cell_type": "code",
   "execution_count": 5,
   "id": "0710f314",
   "metadata": {
    "execution": {
     "iopub.execute_input": "2023-04-29T03:27:59.714413Z",
     "iopub.status.busy": "2023-04-29T03:27:59.714296Z",
     "iopub.status.idle": "2023-04-29T03:27:59.722281Z",
     "shell.execute_reply": "2023-04-29T03:27:59.722014Z"
    },
    "papermill": {
     "duration": 0.010757,
     "end_time": "2023-04-29T03:27:59.723244",
     "exception": false,
     "start_time": "2023-04-29T03:27:59.712487",
     "status": "completed"
    },
    "tags": []
   },
   "outputs": [],
   "source": [
    "# main dataframe with all info\n",
    "df_main = pd.read_csv(\n",
    "    analysis_path / 'all_info_csv/main_info_append_09.csv',\n",
    "    index_col=0\n",
    ")"
   ]
  },
  {
   "cell_type": "code",
   "execution_count": 6,
   "id": "e6a80f0a",
   "metadata": {
    "execution": {
     "iopub.execute_input": "2023-04-29T03:27:59.726651Z",
     "iopub.status.busy": "2023-04-29T03:27:59.726539Z",
     "iopub.status.idle": "2023-04-29T03:27:59.730449Z",
     "shell.execute_reply": "2023-04-29T03:27:59.730184Z"
    },
    "papermill": {
     "duration": 0.006561,
     "end_time": "2023-04-29T03:27:59.731289",
     "exception": false,
     "start_time": "2023-04-29T03:27:59.724728",
     "status": "completed"
    },
    "tags": []
   },
   "outputs": [],
   "source": [
    "# filename prefix\n",
    "df_main['fname_prefix'] = df_main.apply(\n",
    "    lambda x: '%s_s%s_t%s' % ((x['DATE']), x['SESSION'], x['TRIAL']), axis=1\n",
    ")"
   ]
  },
  {
   "cell_type": "markdown",
   "id": "4f684815",
   "metadata": {
    "papermill": {
     "duration": 0.001578,
     "end_time": "2023-04-29T03:27:59.734568",
     "exception": false,
     "start_time": "2023-04-29T03:27:59.732990",
     "status": "completed"
    },
    "tags": []
   },
   "source": [
    "Get hydrophone sampling rate"
   ]
  },
  {
   "cell_type": "code",
   "execution_count": 7,
   "id": "fd8ced97",
   "metadata": {
    "execution": {
     "iopub.execute_input": "2023-04-29T03:27:59.738104Z",
     "iopub.status.busy": "2023-04-29T03:27:59.737895Z",
     "iopub.status.idle": "2023-04-29T03:27:59.739681Z",
     "shell.execute_reply": "2023-04-29T03:27:59.739428Z"
    },
    "papermill": {
     "duration": 0.004452,
     "end_time": "2023-04-29T03:27:59.740528",
     "exception": false,
     "start_time": "2023-04-29T03:27:59.736076",
     "status": "completed"
    },
    "tags": []
   },
   "outputs": [],
   "source": [
    "# arbitrarily pick one file to get hydrophone sampling rate\n",
    "hydro_raw_path = raw_path / \"20190628/session2/target\"\n",
    "hydro_raw_file = hydro_raw_path / \"trial_2_1.0V(peak)__28-06-2019_11_36_29.wav\""
   ]
  },
  {
   "cell_type": "code",
   "execution_count": 8,
   "id": "2fce7f1d",
   "metadata": {
    "execution": {
     "iopub.execute_input": "2023-04-29T03:27:59.743805Z",
     "iopub.status.busy": "2023-04-29T03:27:59.743692Z",
     "iopub.status.idle": "2023-04-29T03:27:59.746191Z",
     "shell.execute_reply": "2023-04-29T03:27:59.745935Z"
    },
    "papermill": {
     "duration": 0.005175,
     "end_time": "2023-04-29T03:27:59.747110",
     "exception": false,
     "start_time": "2023-04-29T03:27:59.741935",
     "status": "completed"
    },
    "tags": []
   },
   "outputs": [],
   "source": [
    "_, fs_hydro = sf.read(hydro_raw_file, 1)"
   ]
  },
  {
   "cell_type": "markdown",
   "id": "7271c975",
   "metadata": {
    "papermill": {
     "duration": 0.001408,
     "end_time": "2023-04-29T03:27:59.749905",
     "exception": false,
     "start_time": "2023-04-29T03:27:59.748497",
     "status": "completed"
    },
    "tags": []
   },
   "source": [
    "## Extract clicks from all trials"
   ]
  },
  {
   "cell_type": "code",
   "execution_count": 9,
   "id": "c71833e5",
   "metadata": {
    "execution": {
     "iopub.execute_input": "2023-04-29T03:27:59.753160Z",
     "iopub.status.busy": "2023-04-29T03:27:59.753047Z",
     "iopub.status.idle": "2023-04-29T03:27:59.754798Z",
     "shell.execute_reply": "2023-04-29T03:27:59.754536Z"
    },
    "papermill": {
     "duration": 0.004363,
     "end_time": "2023-04-29T03:27:59.755658",
     "exception": false,
     "start_time": "2023-04-29T03:27:59.751295",
     "status": "completed"
    },
    "tags": []
   },
   "outputs": [],
   "source": [
    "window_len_sec = 256e-6  # window length to include\n",
    "perc_before_pk = 50      # percentage of time window to shift before the detected peak"
   ]
  },
  {
   "cell_type": "code",
   "execution_count": 10,
   "id": "36c5b25c",
   "metadata": {
    "execution": {
     "iopub.execute_input": "2023-04-29T03:27:59.759085Z",
     "iopub.status.busy": "2023-04-29T03:27:59.758980Z",
     "iopub.status.idle": "2023-04-29T03:30:02.574366Z",
     "shell.execute_reply": "2023-04-29T03:30:02.574039Z"
    },
    "papermill": {
     "duration": 122.818265,
     "end_time": "2023-04-29T03:30:02.575499",
     "exception": false,
     "start_time": "2023-04-29T03:27:59.757234",
     "status": "completed"
    },
    "scrolled": false,
    "tags": []
   },
   "outputs": [
    {
     "name": "stdout",
     "output_type": "stream",
     "text": [
      "\n",
      "\n",
      "trial 0: 20190625_s1_t0\n",
      "  -- wav file:       t000_40dBgain_trial__0_1.0V(peak)__25-06-2019_10_19_28.wav\n",
      "No detection file, do not consider this trial\n",
      "\n",
      "\n",
      "\n",
      "\n",
      "trial 1: 20190625_s1_t0\n",
      "  -- wav file:       t001_40dBgain_trial__0_1.0V(peak)__25-06-2019_10_19_45.wav\n",
      "  -- detection file: t001_hydrophone_cleaned.npz\n",
      "One channel not detected, do not consider this trial\n",
      "\n",
      "\n",
      "\n",
      "\n",
      "trial 2: 20190625_s1_t1\n",
      "  -- wav file:       t002_40dBgain_trial__1_1.0V(peak)__25-06-2019_10_21_55.wav\n",
      "  -- detection file: t002_hydrophone_cleaned.npz\n"
     ]
    },
    {
     "name": "stdout",
     "output_type": "stream",
     "text": [
      "\n",
      "\n",
      "trial 3: 20190625_s1_t2\n",
      "  -- wav file:       t003_40dBgain_trial__2_1.0V(peak)__25-06-2019_10_24_23.wav\n",
      "  -- detection file: t003_hydrophone_cleaned.npz\n"
     ]
    },
    {
     "name": "stdout",
     "output_type": "stream",
     "text": [
      "\n",
      "\n",
      "trial 4: 20190625_s1_t3\n",
      "  -- wav file:       t004_40dBgain_trial__3_1.0V(peak)__25-06-2019_10_25_54.wav\n",
      "  -- detection file: t004_hydrophone_cleaned.npz\n"
     ]
    },
    {
     "name": "stdout",
     "output_type": "stream",
     "text": [
      "\n",
      "\n",
      "trial 5: 20190625_s1_t4\n",
      "  -- wav file:       t005_40dBgain_trial__4_1.0V(peak)__25-06-2019_10_27_42.wav\n",
      "  -- detection file: t005_hydrophone_cleaned.npz\n"
     ]
    },
    {
     "name": "stdout",
     "output_type": "stream",
     "text": [
      "\n",
      "\n",
      "trial 6: 20190625_s1_t5\n",
      "  -- wav file:       t006_40dBgain_trial__5_1.0V(peak)__25-06-2019_10_29_52.wav\n",
      "  -- detection file: t006_hydrophone_cleaned.npz\n"
     ]
    },
    {
     "name": "stdout",
     "output_type": "stream",
     "text": [
      "\n",
      "\n",
      "trial 7: 20190625_s1_t6\n",
      "  -- wav file:       t007_40dBgain_trial__6_1.0V(peak)__25-06-2019_10_31_21.wav\n",
      "  -- detection file: t007_hydrophone_cleaned.npz\n"
     ]
    },
    {
     "name": "stdout",
     "output_type": "stream",
     "text": [
      "\n",
      "\n",
      "trial 8: 20190625_s2_t1\n",
      "  -- wav file:       t008_trial_1_1.0V(peak)__25-06-2019_11_36_54.wav\n",
      "  -- detection file: t008_hydrophone_cleaned.npz\n"
     ]
    },
    {
     "name": "stdout",
     "output_type": "stream",
     "text": [
      "\n",
      "\n",
      "trial 9: 20190625_s2_t2\n",
      "  -- wav file:       t009_trial_2_1.0V(peak)__25-06-2019_11_38_33.wav\n",
      "  -- detection file: t009_hydrophone_cleaned.npz\n"
     ]
    },
    {
     "name": "stdout",
     "output_type": "stream",
     "text": [
      "\n",
      "\n",
      "trial 10: 20190625_s2_t3\n",
      "  -- wav file:       t010_trial_3_1.0V(peak)__25-06-2019_11_40_13.wav\n",
      "  -- detection file: t010_hydrophone_cleaned.npz\n"
     ]
    },
    {
     "name": "stdout",
     "output_type": "stream",
     "text": [
      "\n",
      "\n",
      "trial 11: 20190625_s2_t4\n",
      "  -- wav file:       t011_trial_4_1.0V(peak)__25-06-2019_11_41_28.wav\n",
      "  -- detection file: t011_hydrophone_cleaned.npz\n"
     ]
    },
    {
     "name": "stdout",
     "output_type": "stream",
     "text": [
      "\n",
      "\n",
      "trial 12: 20190625_s2_t5\n",
      "  -- wav file:       t012_trial_5_1.0V(peak)__25-06-2019_11_42_52.wav\n",
      "  -- detection file: t012_hydrophone_cleaned.npz\n"
     ]
    },
    {
     "name": "stdout",
     "output_type": "stream",
     "text": [
      "\n",
      "\n",
      "trial 13: 20190625_s2_t6\n",
      "  -- wav file:       t013_trial_6_1.0V(peak)__25-06-2019_11_44_20.wav\n",
      "  -- detection file: t013_hydrophone_cleaned.npz\n"
     ]
    },
    {
     "name": "stdout",
     "output_type": "stream",
     "text": [
      "\n",
      "\n",
      "trial 14: 20190625_s2_t7\n",
      "  -- wav file:       t014_trial_7_1.0V(peak)__25-06-2019_11_45_44.wav\n",
      "  -- detection file: t014_hydrophone_cleaned.npz\n"
     ]
    },
    {
     "name": "stdout",
     "output_type": "stream",
     "text": [
      "\n",
      "\n",
      "trial 15: 20190625_s2_t8\n",
      "  -- wav file:       t015_trial_8_1.0V(peak)__25-06-2019_11_47_14.wav\n",
      "  -- detection file: t015_hydrophone_cleaned.npz\n"
     ]
    },
    {
     "name": "stdout",
     "output_type": "stream",
     "text": [
      "\n",
      "\n",
      "trial 16: 20190625_s3_t1\n",
      "  -- wav file:       t016_trial_1_1.0V(peak)__25-06-2019_13_37_52.wav\n",
      "  -- detection file: t016_hydrophone_cleaned.npz\n"
     ]
    },
    {
     "name": "stdout",
     "output_type": "stream",
     "text": [
      "\n",
      "\n",
      "trial 17: 20190625_s3_t2\n",
      "  -- wav file:       t017_trial_2_1.0V(peak)__25-06-2019_13_39_02.wav\n",
      "  -- detection file: t017_hydrophone_cleaned.npz\n"
     ]
    },
    {
     "name": "stdout",
     "output_type": "stream",
     "text": [
      "\n",
      "\n",
      "trial 18: 20190625_s3_t3\n",
      "  -- wav file:       t018_trial_3_1.0V(peak)__25-06-2019_13_39_53.wav\n",
      "  -- detection file: t018_hydrophone_cleaned.npz\n"
     ]
    },
    {
     "name": "stdout",
     "output_type": "stream",
     "text": [
      "\n",
      "\n",
      "trial 19: 20190625_s3_t4\n",
      "  -- wav file:       t019_trial_4_1.0V(peak)__25-06-2019_13_41_03.wav\n",
      "  -- detection file: t019_hydrophone_cleaned.npz\n"
     ]
    },
    {
     "name": "stdout",
     "output_type": "stream",
     "text": [
      "\n",
      "\n",
      "trial 20: 20190625_s3_t5\n",
      "  -- wav file:       t020_trial_5_1.0V(peak)__25-06-2019_13_42_33.wav\n",
      "  -- detection file: t020_hydrophone_cleaned.npz\n"
     ]
    },
    {
     "name": "stdout",
     "output_type": "stream",
     "text": [
      "\n",
      "\n",
      "trial 21: 20190625_s3_t6\n",
      "  -- wav file:       t021_trial_6_1.0V(peak)__25-06-2019_13_44_03.wav\n",
      "  -- detection file: t021_hydrophone_cleaned.npz\n"
     ]
    },
    {
     "name": "stdout",
     "output_type": "stream",
     "text": [
      "\n",
      "\n",
      "trial 22: 20190625_s3_t7\n",
      "  -- wav file:       t022_trial_7_1.0V(peak)__25-06-2019_13_45_31.wav\n",
      "  -- detection file: t022_hydrophone_cleaned.npz\n"
     ]
    },
    {
     "name": "stdout",
     "output_type": "stream",
     "text": [
      "\n",
      "\n",
      "trial 23: 20190625_s3_t8\n",
      "  -- wav file:       t023_trial_8_1.0V(peak)__25-06-2019_13_46_49.wav\n",
      "  -- detection file: t023_hydrophone_cleaned.npz\n"
     ]
    },
    {
     "name": "stdout",
     "output_type": "stream",
     "text": [
      "\n",
      "\n",
      "trial 24: 20190625_s3_t9\n",
      "  -- wav file:       t024_trial_9_1.0V(peak)__25-06-2019_13_47_37.wav\n",
      "  -- detection file: t024_hydrophone_cleaned.npz\n"
     ]
    },
    {
     "name": "stdout",
     "output_type": "stream",
     "text": [
      "\n",
      "\n",
      "trial 25: 20190625_s3_t10\n",
      "  -- wav file:       t025_trial_10_1.0V(peak)__25-06-2019_13_49_07.wav\n",
      "  -- detection file: t025_hydrophone_cleaned.npz\n"
     ]
    },
    {
     "name": "stdout",
     "output_type": "stream",
     "text": [
      "\n",
      "\n",
      "trial 26: 20190626_s1_t1\n",
      "  -- wav file:       t026_40dBgain_trial_1_1.0V(peak)__26-06-2019_10_02_22.wav\n",
      "  -- detection file: t026_hydrophone_cleaned.npz\n"
     ]
    },
    {
     "name": "stdout",
     "output_type": "stream",
     "text": [
      "\n",
      "\n",
      "trial 27: 20190626_s1_t2\n",
      "  -- wav file:       t027_40dBgain_trial_2_1.0V(peak)__26-06-2019_10_03_18.wav\n",
      "  -- detection file: t027_hydrophone_cleaned.npz\n"
     ]
    },
    {
     "name": "stdout",
     "output_type": "stream",
     "text": [
      "\n",
      "\n",
      "trial 28: 20190626_s1_t3\n",
      "  -- wav file:       t028_40dBgain_trial_3_1.0V(peak)__26-06-2019_10_03_59.wav\n",
      "  -- detection file: t028_hydrophone_cleaned.npz\n"
     ]
    },
    {
     "name": "stdout",
     "output_type": "stream",
     "text": [
      "\n",
      "\n",
      "trial 29: 20190626_s1_t4\n",
      "  -- wav file:       t029_40dBgain_trial_4_1.0V(peak)__26-06-2019_10_04_58.wav\n",
      "  -- detection file: t029_hydrophone_cleaned.npz\n"
     ]
    },
    {
     "name": "stdout",
     "output_type": "stream",
     "text": [
      "\n",
      "\n",
      "trial 30: 20190626_s1_t5\n",
      "  -- wav file:       t030_40dBgain_trial_5_1.0V(peak)__26-06-2019_10_05_49.wav\n",
      "  -- detection file: t030_hydrophone_cleaned.npz\n"
     ]
    },
    {
     "name": "stdout",
     "output_type": "stream",
     "text": [
      "\n",
      "\n",
      "trial 31: 20190626_s1_t6\n",
      "  -- wav file:       t031_40dBgain_trial_6_1.0V(peak)__26-06-2019_10_06_54.wav\n",
      "  -- detection file: t031_hydrophone_cleaned.npz\n"
     ]
    },
    {
     "name": "stdout",
     "output_type": "stream",
     "text": [
      "\n",
      "\n",
      "trial 32: 20190626_s1_t7\n",
      "  -- wav file:       t032_40dBgain_trial_7_1.0V(peak)__26-06-2019_10_08_06.wav\n",
      "  -- detection file: t032_hydrophone_cleaned.npz\n"
     ]
    },
    {
     "name": "stdout",
     "output_type": "stream",
     "text": [
      "\n",
      "\n",
      "trial 33: 20190626_s1_t8\n",
      "  -- wav file:       t033_40dBgain_trial_8_1.0V(peak)__26-06-2019_10_09_03.wav\n",
      "  -- detection file: t033_hydrophone_cleaned.npz\n"
     ]
    },
    {
     "name": "stdout",
     "output_type": "stream",
     "text": [
      "\n",
      "\n",
      "trial 34: 20190626_s1_t9\n",
      "  -- wav file:       t034_40dBgain_trial_9_1.0V(peak)__26-06-2019_10_09_48.wav\n",
      "  -- detection file: t034_hydrophone_cleaned.npz\n"
     ]
    },
    {
     "name": "stdout",
     "output_type": "stream",
     "text": [
      "\n",
      "\n",
      "trial 35: 20190626_s1_t10\n",
      "  -- wav file:       t035_40dBgain_trial_10_1.0V(peak)__26-06-2019_10_10_45.wav\n",
      "  -- detection file: t035_hydrophone_cleaned.npz\n"
     ]
    },
    {
     "name": "stdout",
     "output_type": "stream",
     "text": [
      "\n",
      "\n",
      "trial 36: 20190626_s2_t1\n",
      "  -- wav file:       t036_trial_1_1.0V(peak)__26-06-2019_11_35_43.wav\n",
      "  -- detection file: t036_hydrophone_cleaned.npz\n"
     ]
    },
    {
     "name": "stdout",
     "output_type": "stream",
     "text": [
      "\n",
      "\n",
      "trial 37: 20190626_s2_t2\n",
      "  -- wav file:       t037_trial_2_1.0V(peak)__26-06-2019_11_36_38.wav\n",
      "  -- detection file: t037_hydrophone_cleaned.npz\n"
     ]
    },
    {
     "name": "stdout",
     "output_type": "stream",
     "text": [
      "\n",
      "\n",
      "trial 38: 20190626_s2_t3\n",
      "  -- wav file:       t038_trial_3_1.0V(peak)__26-06-2019_11_37_40.wav\n",
      "  -- detection file: t038_hydrophone_cleaned.npz\n"
     ]
    },
    {
     "name": "stdout",
     "output_type": "stream",
     "text": [
      "\n",
      "\n",
      "trial 39: 20190626_s2_t4\n",
      "  -- wav file:       t039_trial_4_1.0V(peak)__26-06-2019_11_38_53.wav\n",
      "  -- detection file: t039_hydrophone_cleaned.npz\n"
     ]
    },
    {
     "name": "stdout",
     "output_type": "stream",
     "text": [
      "\n",
      "\n",
      "trial 40: 20190626_s2_t5\n",
      "  -- wav file:       t040_trial_5_1.0V(peak)__26-06-2019_11_39_47.wav\n",
      "  -- detection file: t040_hydrophone_cleaned.npz\n"
     ]
    },
    {
     "name": "stdout",
     "output_type": "stream",
     "text": [
      "\n",
      "\n",
      "trial 41: 20190626_s2_t6\n",
      "  -- wav file:       t041_trial_6_1.0V(peak)__26-06-2019_11_40_44.wav\n",
      "  -- detection file: t041_hydrophone_cleaned.npz\n"
     ]
    },
    {
     "name": "stdout",
     "output_type": "stream",
     "text": [
      "\n",
      "\n",
      "trial 42: 20190626_s2_t7\n",
      "  -- wav file:       t042_trial_7_1.0V(peak)__26-06-2019_11_41_50.wav\n",
      "  -- detection file: t042_hydrophone_cleaned.npz\n"
     ]
    },
    {
     "name": "stdout",
     "output_type": "stream",
     "text": [
      "\n",
      "\n",
      "trial 43: 20190626_s2_t8\n",
      "  -- wav file:       t043_trial_8_1.0V(peak)__26-06-2019_11_42_51.wav\n",
      "  -- detection file: t043_hydrophone_cleaned.npz\n"
     ]
    },
    {
     "name": "stdout",
     "output_type": "stream",
     "text": [
      "\n",
      "\n",
      "trial 44: 20190626_s2_t9\n",
      "  -- wav file:       t044_trial_9_1.0V(peak)__26-06-2019_11_43_48.wav\n",
      "  -- detection file: t044_hydrophone_cleaned.npz\n"
     ]
    },
    {
     "name": "stdout",
     "output_type": "stream",
     "text": [
      "\n",
      "\n",
      "trial 45: 20190626_s2_t10\n",
      "  -- wav file:       t045_trial_10_1.0V(peak)__26-06-2019_11_44_47.wav\n",
      "  -- detection file: t045_hydrophone_cleaned.npz\n"
     ]
    },
    {
     "name": "stdout",
     "output_type": "stream",
     "text": [
      "\n",
      "\n",
      "trial 46: 20190626_s3_t1\n",
      "  -- wav file:       t046_40dBgain_trial_1_1.0V(peak)__26-06-2019_13_40_01.wav\n",
      "  -- detection file: t046_hydrophone_cleaned.npz\n"
     ]
    },
    {
     "name": "stdout",
     "output_type": "stream",
     "text": [
      "\n",
      "\n",
      "trial 47: 20190626_s3_t2\n",
      "  -- wav file:       t047_40dBgain_trial_2_1.0V(peak)__26-06-2019_13_40_57.wav\n",
      "  -- detection file: t047_hydrophone_cleaned.npz\n"
     ]
    },
    {
     "name": "stdout",
     "output_type": "stream",
     "text": [
      "\n",
      "\n",
      "trial 48: 20190626_s3_t3\n",
      "  -- wav file:       t048_40dBgain_trial_3_1.0V(peak)__26-06-2019_13_41_56.wav\n",
      "  -- detection file: t048_hydrophone_cleaned.npz\n"
     ]
    },
    {
     "name": "stdout",
     "output_type": "stream",
     "text": [
      "\n",
      "\n",
      "trial 49: 20190626_s3_t4\n",
      "  -- wav file:       t049_40dBgain_trial_4_1.0V(peak)__26-06-2019_13_43_01.wav\n",
      "  -- detection file: t049_hydrophone_cleaned.npz\n"
     ]
    },
    {
     "name": "stdout",
     "output_type": "stream",
     "text": [
      "\n",
      "\n",
      "trial 50: 20190626_s3_t5\n",
      "  -- wav file:       t050_40dBgain_trial_5_1.0V(peak)__26-06-2019_13_44_00.wav\n",
      "  -- detection file: t050_hydrophone_cleaned.npz\n"
     ]
    },
    {
     "name": "stdout",
     "output_type": "stream",
     "text": [
      "\n",
      "\n",
      "trial 51: 20190626_s3_t6\n",
      "  -- wav file:       t051_40dBgain_trial_6_1.0V(peak)__26-06-2019_13_45_18.wav\n",
      "  -- detection file: t051_hydrophone_cleaned.npz\n"
     ]
    },
    {
     "name": "stdout",
     "output_type": "stream",
     "text": [
      "\n",
      "\n",
      "trial 52: 20190626_s3_t7\n",
      "  -- wav file:       t052_40dBgain_trial_7_1.0V(peak)__26-06-2019_13_46_14.wav\n",
      "  -- detection file: t052_hydrophone_cleaned.npz\n"
     ]
    },
    {
     "name": "stdout",
     "output_type": "stream",
     "text": [
      "\n",
      "\n",
      "trial 53: 20190626_s3_t8\n",
      "  -- wav file:       t053_40dBgain_trial_8_1.0V(peak)__26-06-2019_13_47_05.wav\n",
      "  -- detection file: t053_hydrophone_cleaned.npz\n"
     ]
    },
    {
     "name": "stdout",
     "output_type": "stream",
     "text": [
      "\n",
      "\n",
      "trial 54: 20190626_s3_t9\n",
      "  -- wav file:       t054_40dBgain_trial_9_1.0V(peak)__26-06-2019_13_48_09.wav\n",
      "  -- detection file: t054_hydrophone_cleaned.npz\n"
     ]
    },
    {
     "name": "stdout",
     "output_type": "stream",
     "text": [
      "\n",
      "\n",
      "trial 55: 20190626_s3_t10\n",
      "  -- wav file:       t055_40dBgain_trial_10_1.0V(peak)__26-06-2019_13_49_07.wav\n",
      "  -- detection file: t055_hydrophone_cleaned.npz\n"
     ]
    },
    {
     "name": "stdout",
     "output_type": "stream",
     "text": [
      "\n",
      "\n",
      "trial 56: 20190627_s1_t1\n",
      "  -- wav file:       t056_test_3_1.0V(peak)__27-06-2019_10_13_23.wav\n",
      "  -- detection file: t056_hydrophone_cleaned.npz\n"
     ]
    },
    {
     "name": "stdout",
     "output_type": "stream",
     "text": [
      "\n",
      "\n",
      "trial 57: 20190627_s1_t2\n",
      "  -- wav file:       t057_trial_4_1.0V(peak)__27-06-2019_10_14_41.wav\n",
      "  -- detection file: t057_hydrophone_cleaned.npz\n"
     ]
    },
    {
     "name": "stdout",
     "output_type": "stream",
     "text": [
      "\n",
      "\n",
      "trial 58: 20190627_s1_t3\n",
      "  -- wav file:       t058_trial_5_1.0V(peak)__27-06-2019_10_15_49.wav\n",
      "  -- detection file: t058_hydrophone_cleaned.npz\n"
     ]
    },
    {
     "name": "stdout",
     "output_type": "stream",
     "text": [
      "\n",
      "\n",
      "trial 59: 20190627_s1_t4\n",
      "  -- wav file:       t059_trial_6_1.0V(peak)__27-06-2019_10_16_56.wav\n",
      "  -- detection file: t059_hydrophone_cleaned.npz\n"
     ]
    },
    {
     "name": "stdout",
     "output_type": "stream",
     "text": [
      "\n",
      "\n",
      "trial 60: 20190627_s1_t5\n",
      "  -- wav file:       t060_trial_7_1.0V(peak)__27-06-2019_10_18_12.wav\n",
      "  -- detection file: t060_hydrophone_cleaned.npz\n"
     ]
    },
    {
     "name": "stdout",
     "output_type": "stream",
     "text": [
      "\n",
      "\n",
      "trial 61: 20190627_s1_t6\n",
      "  -- wav file:       t061_trial_8_1.0V(peak)__27-06-2019_10_19_07.wav\n",
      "  -- detection file: t061_hydrophone_cleaned.npz\n"
     ]
    },
    {
     "name": "stdout",
     "output_type": "stream",
     "text": [
      "\n",
      "\n",
      "trial 62: 20190627_s1_t7\n",
      "  -- wav file:       t062_trial_9_1.0V(peak)__27-06-2019_10_19_59.wav\n",
      "  -- detection file: t062_hydrophone_cleaned.npz\n"
     ]
    },
    {
     "name": "stdout",
     "output_type": "stream",
     "text": [
      "\n",
      "\n",
      "trial 63: 20190627_s1_t8\n",
      "  -- wav file:       t063_trial_10_1.0V(peak)__27-06-2019_10_21_07.wav\n",
      "  -- detection file: t063_hydrophone_cleaned.npz\n"
     ]
    },
    {
     "name": "stdout",
     "output_type": "stream",
     "text": [
      "\n",
      "\n",
      "trial 64: 20190627_s1_t9\n",
      "  -- wav file:       t064_trial_11_1.0V(peak)__27-06-2019_10_21_53.wav\n",
      "  -- detection file: t064_hydrophone_cleaned.npz\n"
     ]
    },
    {
     "name": "stdout",
     "output_type": "stream",
     "text": [
      "\n",
      "\n",
      "trial 65: 20190627_s1_t10\n",
      "  -- wav file:       t065_trial_12_1.0V(peak)__27-06-2019_10_22_51.wav\n",
      "  -- detection file: t065_hydrophone_cleaned.npz\n"
     ]
    },
    {
     "name": "stdout",
     "output_type": "stream",
     "text": [
      "\n",
      "\n",
      "trial 66: 20190627_s1_t11\n",
      "  -- wav file:       t066_trial_13_1.0V(peak)__27-06-2019_10_24_20.wav\n",
      "  -- detection file: t066_hydrophone_cleaned.npz\n"
     ]
    },
    {
     "name": "stdout",
     "output_type": "stream",
     "text": [
      "\n",
      "\n",
      "trial 67: 20190627_s2_t1\n",
      "  -- wav file:       t067_trial_4_1.0V(peak)__27-06-2019_13_40_53.wav\n",
      "  -- detection file: t067_hydrophone_cleaned.npz\n"
     ]
    },
    {
     "name": "stdout",
     "output_type": "stream",
     "text": [
      "\n",
      "\n",
      "trial 68: 20190627_s2_t2\n",
      "  -- wav file:       t068_trial_5_1.0V(peak)__27-06-2019_13_42_15.wav\n",
      "  -- detection file: t068_hydrophone_cleaned.npz\n"
     ]
    },
    {
     "name": "stdout",
     "output_type": "stream",
     "text": [
      "\n",
      "\n",
      "trial 69: 20190627_s2_t3\n",
      "  -- wav file:       t069_trial_6_1.0V(peak)__27-06-2019_13_43_02.wav\n",
      "  -- detection file: t069_hydrophone_cleaned.npz\n"
     ]
    },
    {
     "name": "stdout",
     "output_type": "stream",
     "text": [
      "\n",
      "\n",
      "trial 70: 20190627_s2_t4\n",
      "  -- wav file:       t070_trial_7_1.0V(peak)__27-06-2019_13_44_16.wav\n",
      "  -- detection file: t070_hydrophone_cleaned.npz\n"
     ]
    },
    {
     "name": "stdout",
     "output_type": "stream",
     "text": [
      "\n",
      "\n",
      "trial 71: 20190627_s2_t5\n",
      "  -- wav file:       t071_trial_8_1.0V(peak)__27-06-2019_13_45_05.wav\n",
      "  -- detection file: t071_hydrophone_cleaned.npz\n"
     ]
    },
    {
     "name": "stdout",
     "output_type": "stream",
     "text": [
      "\n",
      "\n",
      "trial 72: 20190627_s2_t6\n",
      "  -- wav file:       t072_trial_9_1.0V(peak)__27-06-2019_13_46_05.wav\n",
      "  -- detection file: t072_hydrophone_cleaned.npz\n"
     ]
    },
    {
     "name": "stdout",
     "output_type": "stream",
     "text": [
      "\n",
      "\n",
      "trial 73: 20190627_s2_t7\n",
      "  -- wav file:       t073_trial_10_1.0V(peak)__27-06-2019_13_47_18.wav\n",
      "  -- detection file: t073_hydrophone_cleaned.npz\n"
     ]
    },
    {
     "name": "stdout",
     "output_type": "stream",
     "text": [
      "\n",
      "\n",
      "trial 74: 20190627_s2_t8\n",
      "  -- wav file:       t074_trial_11_1.0V(peak)__27-06-2019_13_48_27.wav\n",
      "  -- detection file: t074_hydrophone_cleaned.npz\n"
     ]
    },
    {
     "name": "stdout",
     "output_type": "stream",
     "text": [
      "\n",
      "\n",
      "trial 75: 20190627_s2_t9\n",
      "  -- wav file:       t075_trial_12_1.0V(peak)__27-06-2019_13_49_31.wav\n",
      "  -- detection file: t075_hydrophone_cleaned.npz\n"
     ]
    },
    {
     "name": "stdout",
     "output_type": "stream",
     "text": [
      "\n",
      "\n",
      "trial 76: 20190627_s2_t10\n",
      "  -- wav file:       t076_trial_13_1.0V(peak)__27-06-2019_13_50_37.wav\n",
      "  -- detection file: t076_hydrophone_cleaned.npz\n"
     ]
    },
    {
     "name": "stdout",
     "output_type": "stream",
     "text": [
      "\n",
      "\n",
      "trial 77: 20190627_s2_t11\n",
      "  -- wav file:       t077_trial_14_1.0V(peak)__27-06-2019_13_51_28.wav\n",
      "  -- detection file: t077_hydrophone_cleaned.npz\n"
     ]
    },
    {
     "name": "stdout",
     "output_type": "stream",
     "text": [
      "\n",
      "\n",
      "trial 78: 20190627_s3_t1\n",
      "  -- wav file:       t078_trial_1_1.0V(peak)__27-06-2019_15_06_26.wav\n",
      "  -- detection file: t078_hydrophone_cleaned.npz\n"
     ]
    },
    {
     "name": "stdout",
     "output_type": "stream",
     "text": [
      "\n",
      "\n",
      "trial 79: 20190627_s3_t2\n",
      "  -- wav file:       t079_trial_2_1.0V(peak)__27-06-2019_15_07_27.wav\n",
      "  -- detection file: t079_hydrophone_cleaned.npz\n"
     ]
    },
    {
     "name": "stdout",
     "output_type": "stream",
     "text": [
      "\n",
      "\n",
      "trial 80: 20190627_s3_t3\n",
      "  -- wav file:       t080_trial_3_1.0V(peak)__27-06-2019_15_08_25.wav\n",
      "  -- detection file: t080_hydrophone_cleaned.npz\n"
     ]
    },
    {
     "name": "stdout",
     "output_type": "stream",
     "text": [
      "\n",
      "\n",
      "trial 81: 20190627_s3_t4\n",
      "  -- wav file:       t081_combine.wav\n",
      "  -- detection file: t081_hydrophone_cleaned.npz\n"
     ]
    },
    {
     "name": "stdout",
     "output_type": "stream",
     "text": [
      "\n",
      "\n",
      "trial 82: 20190627_s3_t5\n",
      "  -- wav file:       t082_trial_5_1.0V(peak)__27-06-2019_15_10_31.wav\n",
      "  -- detection file: t082_hydrophone_cleaned.npz\n"
     ]
    },
    {
     "name": "stdout",
     "output_type": "stream",
     "text": [
      "\n",
      "\n",
      "trial 83: 20190627_s3_t6\n",
      "  -- wav file:       t083_trial_6_1.0V(peak)__27-06-2019_15_11_29.wav\n",
      "  -- detection file: t083_hydrophone_cleaned.npz\n"
     ]
    },
    {
     "name": "stdout",
     "output_type": "stream",
     "text": [
      "\n",
      "\n",
      "trial 84: 20190627_s3_t7\n",
      "  -- wav file:       t084_trial_7_1.0V(peak)__27-06-2019_15_12_39.wav\n",
      "  -- detection file: t084_hydrophone_cleaned.npz\n"
     ]
    },
    {
     "name": "stdout",
     "output_type": "stream",
     "text": [
      "\n",
      "\n",
      "trial 85: 20190627_s3_t8\n",
      "  -- wav file:       t085_trial_8_1.0V(peak)__27-06-2019_15_13_35.wav\n",
      "  -- detection file: t085_hydrophone_cleaned.npz\n"
     ]
    },
    {
     "name": "stdout",
     "output_type": "stream",
     "text": [
      "\n",
      "\n",
      "trial 86: 20190627_s3_t9\n",
      "  -- wav file:       t086_trial_9_1.0V(peak)__27-06-2019_15_14_37.wav\n",
      "  -- detection file: t086_hydrophone_cleaned.npz\n"
     ]
    },
    {
     "name": "stdout",
     "output_type": "stream",
     "text": [
      "\n",
      "\n",
      "trial 87: 20190627_s3_t10\n",
      "  -- wav file:       t087_trial_10_1.0V(peak)__27-06-2019_15_15_30.wav\n",
      "  -- detection file: t087_hydrophone_cleaned.npz\n"
     ]
    },
    {
     "name": "stdout",
     "output_type": "stream",
     "text": [
      "\n",
      "\n",
      "trial 88: 20190627_s3_t11\n",
      "  -- wav file:       t088_trial_11_1.0V(peak)__27-06-2019_15_16_34.wav\n",
      "  -- detection file: t088_hydrophone_cleaned.npz\n",
      "One channel not detected, do not consider this trial\n",
      "\n",
      "\n",
      "\n",
      "\n",
      "trial 89: 20190628_s1_t1\n",
      "  -- wav file:       t089_trial_1_1.0V(peak)__28-06-2019_09_58_20.wav\n",
      "  -- detection file: t089_hydrophone_cleaned.npz\n"
     ]
    },
    {
     "name": "stdout",
     "output_type": "stream",
     "text": [
      "\n",
      "\n",
      "trial 90: 20190628_s1_t2\n",
      "  -- wav file:       t090_trial_2_1.0V(peak)__28-06-2019_09_59_26.wav\n",
      "  -- detection file: t090_hydrophone_cleaned.npz\n"
     ]
    },
    {
     "name": "stdout",
     "output_type": "stream",
     "text": [
      "\n",
      "\n",
      "trial 91: 20190628_s1_t3\n",
      "  -- wav file:       t091_trial_3_1.0V(peak)__28-06-2019_10_00_10.wav\n",
      "  -- detection file: t091_hydrophone_cleaned.npz\n"
     ]
    },
    {
     "name": "stdout",
     "output_type": "stream",
     "text": [
      "\n",
      "\n",
      "trial 92: 20190628_s1_t4\n",
      "  -- wav file:       t092_trial_4_1.0V(peak)__28-06-2019_10_01_10.wav\n",
      "  -- detection file: t092_hydrophone_cleaned.npz\n"
     ]
    },
    {
     "name": "stdout",
     "output_type": "stream",
     "text": [
      "\n",
      "\n",
      "trial 93: 20190628_s1_t5\n",
      "  -- wav file:       t093_trial_5_1.0V(peak)__28-06-2019_10_01_58.wav\n",
      "  -- detection file: t093_hydrophone_cleaned.npz\n"
     ]
    },
    {
     "name": "stdout",
     "output_type": "stream",
     "text": [
      "\n",
      "\n",
      "trial 94: 20190628_s1_t6\n",
      "  -- wav file:       t094_trial_6_1.0V(peak)__28-06-2019_10_02_46.wav\n",
      "  -- detection file: t094_hydrophone_cleaned.npz\n"
     ]
    },
    {
     "name": "stdout",
     "output_type": "stream",
     "text": [
      "\n",
      "\n",
      "trial 95: 20190628_s1_t7\n",
      "  -- wav file:       t095_trial_7_1.0V(peak)__28-06-2019_10_03_35.wav\n",
      "  -- detection file: t095_hydrophone_cleaned.npz\n"
     ]
    },
    {
     "name": "stdout",
     "output_type": "stream",
     "text": [
      "\n",
      "\n",
      "trial 96: 20190628_s1_t8\n",
      "  -- wav file:       t096_trial_8_1.0V(peak)__28-06-2019_10_04_42.wav\n",
      "  -- detection file: t096_hydrophone_cleaned.npz\n"
     ]
    },
    {
     "name": "stdout",
     "output_type": "stream",
     "text": [
      "\n",
      "\n",
      "trial 97: 20190628_s1_t9\n",
      "  -- wav file:       t097_trial_9_1.0V(peak)__28-06-2019_10_05_25.wav\n",
      "  -- detection file: t097_hydrophone_cleaned.npz\n"
     ]
    },
    {
     "name": "stdout",
     "output_type": "stream",
     "text": [
      "\n",
      "\n",
      "trial 98: 20190628_s1_t10\n",
      "  -- wav file:       t098_trial_10_1.0V(peak)__28-06-2019_10_06_17.wav\n",
      "  -- detection file: t098_hydrophone_cleaned.npz\n"
     ]
    },
    {
     "name": "stdout",
     "output_type": "stream",
     "text": [
      "\n",
      "\n",
      "trial 99: 20190628_s2_t1\n",
      "  -- wav file:       t099_trial_1_1.0V(peak)__28-06-2019_11_35_33.wav\n",
      "  -- detection file: t099_hydrophone_cleaned.npz\n"
     ]
    },
    {
     "name": "stdout",
     "output_type": "stream",
     "text": [
      "\n",
      "\n",
      "trial 100: 20190628_s2_t2\n",
      "  -- wav file:       t100_trial_2_1.0V(peak)__28-06-2019_11_36_29.wav\n",
      "  -- detection file: t100_hydrophone_cleaned.npz\n"
     ]
    },
    {
     "name": "stdout",
     "output_type": "stream",
     "text": [
      "\n",
      "\n",
      "trial 101: 20190628_s2_t3\n",
      "  -- wav file:       t101_trial_3_1.0V(peak)__28-06-2019_11_37_14.wav\n",
      "  -- detection file: t101_hydrophone_cleaned.npz\n"
     ]
    },
    {
     "name": "stdout",
     "output_type": "stream",
     "text": [
      "\n",
      "\n",
      "trial 102: 20190628_s2_t4\n",
      "  -- wav file:       t102_trial_4_1.0V(peak)__28-06-2019_11_38_24.wav\n",
      "  -- detection file: t102_hydrophone_cleaned.npz\n"
     ]
    },
    {
     "name": "stdout",
     "output_type": "stream",
     "text": [
      "\n",
      "\n",
      "trial 103: 20190628_s2_t5\n",
      "  -- wav file:       t103_trial_5_1.0V(peak)__28-06-2019_11_39_17.wav\n",
      "  -- detection file: t103_hydrophone_cleaned.npz\n"
     ]
    },
    {
     "name": "stdout",
     "output_type": "stream",
     "text": [
      "\n",
      "\n",
      "trial 104: 20190628_s2_t6\n",
      "  -- wav file:       t104_trial_6_1.0V(peak)__28-06-2019_11_40_25.wav\n",
      "  -- detection file: t104_hydrophone_cleaned.npz\n"
     ]
    },
    {
     "name": "stdout",
     "output_type": "stream",
     "text": [
      "\n",
      "\n",
      "trial 105: 20190628_s2_t7\n",
      "  -- wav file:       t105_trial_7_1.0V(peak)__28-06-2019_11_41_13.wav\n",
      "  -- detection file: t105_hydrophone_cleaned.npz\n"
     ]
    },
    {
     "name": "stdout",
     "output_type": "stream",
     "text": [
      "\n",
      "\n",
      "trial 106: 20190628_s2_t8\n",
      "  -- wav file:       t106_trial_8_1.0V(peak)__28-06-2019_11_42_19.wav\n",
      "  -- detection file: t106_hydrophone_cleaned.npz\n"
     ]
    },
    {
     "name": "stdout",
     "output_type": "stream",
     "text": [
      "\n",
      "\n",
      "trial 107: 20190628_s2_t9\n",
      "  -- wav file:       t107_trial_9_1.0V(peak)__28-06-2019_11_43_13.wav\n",
      "  -- detection file: t107_hydrophone_cleaned.npz\n"
     ]
    },
    {
     "name": "stdout",
     "output_type": "stream",
     "text": [
      "\n",
      "\n",
      "trial 108: 20190628_s2_t10\n",
      "  -- wav file:       t108_trial_10_1.0V(peak)__28-06-2019_11_44_01.wav\n",
      "  -- detection file: t108_hydrophone_cleaned.npz\n"
     ]
    },
    {
     "name": "stdout",
     "output_type": "stream",
     "text": [
      "\n",
      "\n",
      "trial 109: 20190628_s2_t11\n",
      "  -- wav file:       t109_trial_11_1.0V(peak)__28-06-2019_11_44_38.wav\n",
      "  -- detection file: t109_hydrophone_cleaned.npz\n"
     ]
    },
    {
     "name": "stdout",
     "output_type": "stream",
     "text": [
      "\n",
      "\n",
      "trial 110: 20190628_s2_t12\n",
      "  -- wav file:       t110_trial_12_1.0V(peak)__28-06-2019_11_45_34.wav\n",
      "  -- detection file: t110_hydrophone_cleaned.npz\n",
      "One channel not detected, do not consider this trial\n",
      "\n",
      "\n",
      "\n",
      "\n",
      "trial 111: 20190628_s3_t1\n",
      "  -- wav file:       t111_trial_1_1.0V(peak)__28-06-2019_15_07_58.wav\n",
      "  -- detection file: t111_hydrophone_cleaned.npz\n"
     ]
    },
    {
     "name": "stdout",
     "output_type": "stream",
     "text": [
      "\n",
      "\n",
      "trial 112: 20190628_s3_t2\n",
      "  -- wav file:       t112_trial_2_1.0V(peak)__28-06-2019_15_09_17.wav\n",
      "  -- detection file: t112_hydrophone_cleaned.npz\n"
     ]
    },
    {
     "name": "stdout",
     "output_type": "stream",
     "text": [
      "\n",
      "\n",
      "trial 113: 20190628_s3_t3\n",
      "  -- wav file:       t113_trial_3_1.0V(peak)__28-06-2019_15_10_16.wav\n",
      "  -- detection file: t113_hydrophone_cleaned.npz\n"
     ]
    },
    {
     "name": "stdout",
     "output_type": "stream",
     "text": [
      "\n",
      "\n",
      "trial 114: 20190628_s3_t4\n",
      "  -- wav file:       t114_trial_4_1.0V(peak)__28-06-2019_15_11_13.wav\n",
      "  -- detection file: t114_hydrophone_cleaned.npz\n"
     ]
    },
    {
     "name": "stdout",
     "output_type": "stream",
     "text": [
      "\n",
      "\n",
      "trial 115: 20190628_s3_t5\n",
      "  -- wav file:       t115_trial_5_1.0V(peak)__28-06-2019_15_12_14.wav\n",
      "  -- detection file: t115_hydrophone_cleaned.npz\n"
     ]
    },
    {
     "name": "stdout",
     "output_type": "stream",
     "text": [
      "\n",
      "\n",
      "trial 116: 20190628_s3_t6\n",
      "  -- wav file:       t116_trial_6_1.0V(peak)__28-06-2019_15_13_11.wav\n",
      "  -- detection file: t116_hydrophone_cleaned.npz\n"
     ]
    },
    {
     "name": "stdout",
     "output_type": "stream",
     "text": [
      "\n",
      "\n",
      "trial 117: 20190628_s3_t7\n",
      "  -- wav file:       t117_trial_7_1.0V(peak)__28-06-2019_15_14_09.wav\n",
      "  -- detection file: t117_hydrophone_cleaned.npz\n"
     ]
    },
    {
     "name": "stdout",
     "output_type": "stream",
     "text": [
      "\n",
      "\n",
      "trial 118: 20190628_s3_t8\n",
      "  -- wav file:       t118_trial_8_1.0V(peak)__28-06-2019_15_14_55.wav\n",
      "  -- detection file: t118_hydrophone_cleaned.npz\n"
     ]
    },
    {
     "name": "stdout",
     "output_type": "stream",
     "text": [
      "\n",
      "\n",
      "trial 119: 20190628_s3_t9\n",
      "  -- wav file:       t119_trial_9_1.0V(peak)__28-06-2019_15_15_45.wav\n",
      "  -- detection file: t119_hydrophone_cleaned.npz\n"
     ]
    },
    {
     "name": "stdout",
     "output_type": "stream",
     "text": [
      "\n",
      "\n",
      "trial 120: 20190628_s3_t10\n",
      "  -- wav file:       t120_trial_10_1.0V(peak)__28-06-2019_15_16_37.wav\n",
      "  -- detection file: t120_hydrophone_cleaned.npz\n"
     ]
    },
    {
     "name": "stdout",
     "output_type": "stream",
     "text": [
      "\n",
      "\n",
      "trial 121: 20190701_s1_t1\n",
      "  -- wav file:       t121_trial_1_1.0V(peak)__01-07-2019_10_02_46.wav\n",
      "  -- detection file: t121_hydrophone_cleaned.npz\n"
     ]
    },
    {
     "name": "stdout",
     "output_type": "stream",
     "text": [
      "\n",
      "\n",
      "trial 122: 20190701_s1_t2\n",
      "  -- wav file:       t122_trial_2_1.0V(peak)__01-07-2019_10_03_45.wav\n",
      "  -- detection file: t122_hydrophone_cleaned.npz\n"
     ]
    },
    {
     "name": "stdout",
     "output_type": "stream",
     "text": [
      "\n",
      "\n",
      "trial 123: 20190701_s1_t3\n",
      "  -- wav file:       t123_trial_3_1.0V(peak)__01-07-2019_10_05_07.wav\n",
      "  -- detection file: t123_hydrophone_cleaned.npz\n"
     ]
    },
    {
     "name": "stdout",
     "output_type": "stream",
     "text": [
      "\n",
      "\n",
      "trial 124: 20190701_s1_t4\n",
      "  -- wav file:       t124_trial_4_1.0V(peak)__01-07-2019_10_06_14.wav\n",
      "  -- detection file: t124_hydrophone_cleaned.npz\n"
     ]
    },
    {
     "name": "stdout",
     "output_type": "stream",
     "text": [
      "\n",
      "\n",
      "trial 125: 20190701_s1_t5\n",
      "  -- wav file:       t125_trial_5_1.0V(peak)__01-07-2019_10_07_18.wav\n",
      "  -- detection file: t125_hydrophone_cleaned.npz\n"
     ]
    },
    {
     "name": "stdout",
     "output_type": "stream",
     "text": [
      "\n",
      "\n",
      "trial 126: 20190701_s1_t6\n",
      "  -- wav file:       t126_trial_6_1.0V(peak)__01-07-2019_10_08_35.wav\n",
      "  -- detection file: t126_hydrophone_cleaned.npz\n"
     ]
    },
    {
     "name": "stdout",
     "output_type": "stream",
     "text": [
      "\n",
      "\n",
      "trial 127: 20190701_s1_t7\n",
      "  -- wav file:       t127_trial_7_1.0V(peak)__01-07-2019_10_09_37.wav\n",
      "  -- detection file: t127_hydrophone_cleaned.npz\n"
     ]
    },
    {
     "name": "stdout",
     "output_type": "stream",
     "text": [
      "\n",
      "\n",
      "trial 128: 20190701_s1_t8\n",
      "  -- wav file:       t128_trial_8_1.0V(peak)__01-07-2019_10_10_31.wav\n",
      "  -- detection file: t128_hydrophone_cleaned.npz\n"
     ]
    },
    {
     "name": "stdout",
     "output_type": "stream",
     "text": [
      "\n",
      "\n",
      "trial 129: 20190701_s1_t9\n",
      "  -- wav file:       t129_trial_9_1.0V(peak)__01-07-2019_10_11_29.wav\n",
      "  -- detection file: t129_hydrophone_cleaned.npz\n"
     ]
    },
    {
     "name": "stdout",
     "output_type": "stream",
     "text": [
      "\n",
      "\n",
      "trial 130: 20190701_s1_t10\n",
      "  -- wav file:       t130_trial_10_1.0V(peak)__01-07-2019_10_12_47.wav\n",
      "  -- detection file: t130_hydrophone_cleaned.npz\n"
     ]
    },
    {
     "name": "stdout",
     "output_type": "stream",
     "text": [
      "\n",
      "\n",
      "trial 131: 20190701_s2_t1\n",
      "  -- wav file:       t131_trial_1_1.0V(peak)__01-07-2019_11_51_49.wav\n",
      "  -- detection file: t131_hydrophone_cleaned.npz\n"
     ]
    },
    {
     "name": "stdout",
     "output_type": "stream",
     "text": [
      "\n",
      "\n",
      "trial 132: 20190701_s2_t2\n",
      "  -- wav file:       t132_trial_2_1.0V(peak)__01-07-2019_11_52_52.wav\n",
      "  -- detection file: t132_hydrophone_cleaned.npz\n"
     ]
    },
    {
     "name": "stdout",
     "output_type": "stream",
     "text": [
      "\n",
      "\n",
      "trial 133: 20190701_s2_t3\n",
      "  -- wav file:       t133_trial_3_1.0V(peak)__01-07-2019_11_54_06.wav\n",
      "  -- detection file: t133_hydrophone_cleaned.npz\n"
     ]
    },
    {
     "name": "stdout",
     "output_type": "stream",
     "text": [
      "\n",
      "\n",
      "trial 134: 20190701_s2_t4\n",
      "  -- wav file:       t134_trial_4_1.0V(peak)__01-07-2019_11_55_14.wav\n",
      "  -- detection file: t134_hydrophone_cleaned.npz\n"
     ]
    },
    {
     "name": "stdout",
     "output_type": "stream",
     "text": [
      "\n",
      "\n",
      "trial 135: 20190701_s2_t5\n",
      "  -- wav file:       t135_trial_5_1.0V(peak)__01-07-2019_11_56_33.wav\n",
      "  -- detection file: t135_hydrophone_cleaned.npz\n"
     ]
    },
    {
     "name": "stdout",
     "output_type": "stream",
     "text": [
      "\n",
      "\n",
      "trial 136: 20190701_s2_t6\n",
      "  -- wav file:       t136_trial_6_1.0V(peak)__01-07-2019_11_58_00.wav\n",
      "  -- detection file: t136_hydrophone_cleaned.npz\n"
     ]
    },
    {
     "name": "stdout",
     "output_type": "stream",
     "text": [
      "\n",
      "\n",
      "trial 137: 20190701_s2_t7\n",
      "  -- wav file:       t137_trial_7_1.0V(peak)__01-07-2019_11_58_46.wav\n",
      "  -- detection file: t137_hydrophone_cleaned.npz\n"
     ]
    },
    {
     "name": "stdout",
     "output_type": "stream",
     "text": [
      "\n",
      "\n",
      "trial 138: 20190701_s2_t8\n",
      "  -- wav file:       t138_trial_8_1.0V(peak)__01-07-2019_11_59_49.wav\n",
      "  -- detection file: t138_hydrophone_cleaned.npz\n"
     ]
    },
    {
     "name": "stdout",
     "output_type": "stream",
     "text": [
      "\n",
      "\n",
      "trial 139: 20190701_s2_t9\n",
      "  -- wav file:       t139_trial_9_1.0V(peak)__01-07-2019_12_00_40.wav\n",
      "  -- detection file: t139_hydrophone_cleaned.npz\n"
     ]
    },
    {
     "name": "stdout",
     "output_type": "stream",
     "text": [
      "\n",
      "\n",
      "trial 140: 20190701_s2_t10\n",
      "  -- wav file:       t140_trial_10_1.0V(peak)__01-07-2019_12_01_44.wav\n",
      "  -- detection file: t140_hydrophone_cleaned.npz\n"
     ]
    },
    {
     "name": "stdout",
     "output_type": "stream",
     "text": [
      "\n",
      "\n",
      "trial 141: 20190701_s2_t11\n",
      "  -- wav file:       t141_trial_11_1.0V(peak)__01-07-2019_12_02_21.wav\n",
      "  -- detection file: t141_hydrophone_cleaned.npz\n"
     ]
    },
    {
     "name": "stdout",
     "output_type": "stream",
     "text": [
      "\n",
      "\n",
      "trial 142: 20190701_s3_t1\n",
      "  -- wav file:       t142_trial_1_1.0V(peak)__01-07-2019_14_44_42.wav\n",
      "  -- detection file: t142_hydrophone_cleaned.npz\n"
     ]
    },
    {
     "name": "stdout",
     "output_type": "stream",
     "text": [
      "\n",
      "\n",
      "trial 143: 20190701_s3_t2\n",
      "  -- wav file:       t143_trial_2_1.0V(peak)__01-07-2019_14_45_53.wav\n",
      "  -- detection file: t143_hydrophone_cleaned.npz\n"
     ]
    },
    {
     "name": "stdout",
     "output_type": "stream",
     "text": [
      "\n",
      "\n",
      "trial 144: 20190701_s3_t3\n",
      "  -- wav file:       t144_trial_3_1.0V(peak)__01-07-2019_14_47_40.wav\n",
      "  -- detection file: t144_hydrophone_cleaned.npz\n"
     ]
    },
    {
     "name": "stdout",
     "output_type": "stream",
     "text": [
      "\n",
      "\n",
      "trial 145: 20190701_s3_t4\n",
      "  -- wav file:       t145_trial_4_1.0V(peak)__01-07-2019_14_49_57.wav\n",
      "  -- detection file: t145_hydrophone_cleaned.npz\n"
     ]
    },
    {
     "name": "stdout",
     "output_type": "stream",
     "text": [
      "\n",
      "\n",
      "trial 146: 20190701_s3_t5\n",
      "  -- wav file:       t146_trial_5_1.0V(peak)__01-07-2019_14_51_18.wav\n",
      "  -- detection file: t146_hydrophone_cleaned.npz\n"
     ]
    },
    {
     "name": "stdout",
     "output_type": "stream",
     "text": [
      "\n",
      "\n",
      "trial 147: 20190701_s3_t6\n",
      "  -- wav file:       t147_trial_6_1.0V(peak)__01-07-2019_14_52_17.wav\n",
      "  -- detection file: t147_hydrophone_cleaned.npz\n"
     ]
    },
    {
     "name": "stdout",
     "output_type": "stream",
     "text": [
      "\n",
      "\n",
      "trial 148: 20190701_s3_t7\n",
      "  -- wav file:       t148_trial_7_1.0V(peak)__01-07-2019_14_53_29.wav\n",
      "  -- detection file: t148_hydrophone_cleaned.npz\n"
     ]
    },
    {
     "name": "stdout",
     "output_type": "stream",
     "text": [
      "\n",
      "\n",
      "trial 149: 20190701_s3_t8\n",
      "  -- wav file:       t149_trial_8_1.0V(peak)__01-07-2019_14_54_31.wav\n",
      "  -- detection file: t149_hydrophone_cleaned.npz\n"
     ]
    },
    {
     "name": "stdout",
     "output_type": "stream",
     "text": [
      "\n",
      "\n",
      "trial 150: 20190701_s3_t9\n",
      "  -- wav file:       t150_trial_9_1.0V(peak)__01-07-2019_14_55_28.wav\n",
      "  -- detection file: t150_hydrophone_cleaned.npz\n"
     ]
    },
    {
     "name": "stdout",
     "output_type": "stream",
     "text": [
      "\n",
      "\n",
      "trial 151: 20190701_s3_t10\n",
      "  -- wav file:       t151_trial_10_1.0V(peak)__01-07-2019_14_56_49.wav\n",
      "  -- detection file: t151_hydrophone_cleaned.npz\n"
     ]
    },
    {
     "name": "stdout",
     "output_type": "stream",
     "text": [
      "\n",
      "\n",
      "trial 152: 20190702_s1_t1\n",
      "  -- wav file:       t152_trial_1_1.0V(peak)__02-07-2019_10_27_39.wav\n",
      "  -- detection file: t152_hydrophone_cleaned.npz\n"
     ]
    },
    {
     "name": "stdout",
     "output_type": "stream",
     "text": [
      "\n",
      "\n",
      "trial 153: 20190702_s1_t2\n",
      "  -- wav file:       t153_trial_2_1.0V(peak)__02-07-2019_10_29_21.wav\n",
      "  -- detection file: t153_hydrophone_cleaned.npz\n"
     ]
    },
    {
     "name": "stdout",
     "output_type": "stream",
     "text": [
      "\n",
      "\n",
      "trial 154: 20190702_s1_t3\n",
      "  -- wav file:       t154_trial_3_1.0V(peak)__02-07-2019_10_30_11.wav\n",
      "  -- detection file: t154_hydrophone_cleaned.npz\n"
     ]
    },
    {
     "name": "stdout",
     "output_type": "stream",
     "text": [
      "\n",
      "\n",
      "trial 155: 20190702_s1_t4\n",
      "  -- wav file:       t155_trial_4_1.0V(peak)__02-07-2019_10_31_08.wav\n",
      "  -- detection file: t155_hydrophone_cleaned.npz\n"
     ]
    },
    {
     "name": "stdout",
     "output_type": "stream",
     "text": [
      "\n",
      "\n",
      "trial 156: 20190702_s1_t5\n",
      "  -- wav file:       t156_trial_5_1.0V(peak)__02-07-2019_10_32_07.wav\n",
      "  -- detection file: t156_hydrophone_cleaned.npz\n"
     ]
    },
    {
     "name": "stdout",
     "output_type": "stream",
     "text": [
      "\n",
      "\n",
      "trial 157: 20190702_s1_t6\n",
      "  -- wav file:       t157_trial_6_1.0V(peak)__02-07-2019_10_33_06.wav\n",
      "  -- detection file: t157_hydrophone_cleaned.npz\n"
     ]
    },
    {
     "name": "stdout",
     "output_type": "stream",
     "text": [
      "\n",
      "\n",
      "trial 158: 20190702_s1_t7\n",
      "  -- wav file:       t158_trial_7_1.0V(peak)__02-07-2019_10_34_04.wav\n",
      "  -- detection file: t158_hydrophone_cleaned.npz\n"
     ]
    },
    {
     "name": "stdout",
     "output_type": "stream",
     "text": [
      "\n",
      "\n",
      "trial 159: 20190702_s1_t8\n",
      "  -- wav file:       t159_trial_8_1.0V(peak)__02-07-2019_10_35_03.wav\n",
      "  -- detection file: t159_hydrophone_cleaned.npz\n"
     ]
    },
    {
     "name": "stdout",
     "output_type": "stream",
     "text": [
      "\n",
      "\n",
      "trial 160: 20190702_s1_t9\n",
      "  -- wav file:       t160_trial_9_1.0V(peak)__02-07-2019_10_35_54.wav\n",
      "  -- detection file: t160_hydrophone_cleaned.npz\n"
     ]
    },
    {
     "name": "stdout",
     "output_type": "stream",
     "text": [
      "\n",
      "\n",
      "trial 161: 20190702_s1_t10\n",
      "  -- wav file:       t161_trial_10_1.0V(peak)__02-07-2019_10_36_56.wav\n",
      "  -- detection file: t161_hydrophone_cleaned.npz\n"
     ]
    },
    {
     "name": "stdout",
     "output_type": "stream",
     "text": [
      "\n",
      "\n",
      "trial 162: 20190702_s2_t1\n",
      "  -- wav file:       t162_trial_1_1.0V(peak)__02-07-2019_11_37_51.wav\n",
      "  -- detection file: t162_hydrophone_cleaned.npz\n"
     ]
    },
    {
     "name": "stdout",
     "output_type": "stream",
     "text": [
      "\n",
      "\n",
      "trial 163: 20190702_s2_t2\n",
      "  -- wav file:       t163_trial_2_1.0V(peak)__02-07-2019_11_38_53.wav\n",
      "  -- detection file: t163_hydrophone_cleaned.npz\n"
     ]
    },
    {
     "name": "stdout",
     "output_type": "stream",
     "text": [
      "\n",
      "\n",
      "trial 164: 20190702_s2_t3\n",
      "  -- wav file:       t164_trial_3_1.0V(peak)__02-07-2019_11_39_49.wav\n",
      "  -- detection file: t164_hydrophone_cleaned.npz\n"
     ]
    },
    {
     "name": "stdout",
     "output_type": "stream",
     "text": [
      "\n",
      "\n",
      "trial 165: 20190702_s2_t4\n",
      "  -- wav file:       t165_trial_4_1.0V(peak)__02-07-2019_11_40_50.wav\n",
      "  -- detection file: t165_hydrophone_cleaned.npz\n"
     ]
    },
    {
     "name": "stdout",
     "output_type": "stream",
     "text": [
      "\n",
      "\n",
      "trial 166: 20190702_s2_t5\n",
      "  -- wav file:       t166_trial_5_1.0V(peak)__02-07-2019_11_41_55.wav\n",
      "  -- detection file: t166_hydrophone_cleaned.npz\n"
     ]
    },
    {
     "name": "stdout",
     "output_type": "stream",
     "text": [
      "\n",
      "\n",
      "trial 167: 20190702_s2_t6\n",
      "  -- wav file:       t167_trial_6_1.0V(peak)__02-07-2019_11_42_53.wav\n",
      "  -- detection file: t167_hydrophone_cleaned.npz\n"
     ]
    },
    {
     "name": "stdout",
     "output_type": "stream",
     "text": [
      "\n",
      "\n",
      "trial 168: 20190702_s2_t7\n",
      "  -- wav file:       t168_trial_7_1.0V(peak)__02-07-2019_11_43_38.wav\n",
      "  -- detection file: t168_hydrophone_cleaned.npz\n"
     ]
    },
    {
     "name": "stdout",
     "output_type": "stream",
     "text": [
      "\n",
      "\n",
      "trial 169: 20190702_s2_t8\n",
      "  -- wav file:       t169_trial_8_1.0V(peak)__02-07-2019_11_44_46.wav\n",
      "  -- detection file: t169_hydrophone_cleaned.npz\n"
     ]
    },
    {
     "name": "stdout",
     "output_type": "stream",
     "text": [
      "\n",
      "\n",
      "trial 170: 20190702_s2_t9\n",
      "  -- wav file:       t170_trial_9_1.0V(peak)__02-07-2019_11_45_31.wav\n",
      "  -- detection file: t170_hydrophone_cleaned.npz\n"
     ]
    },
    {
     "name": "stdout",
     "output_type": "stream",
     "text": [
      "\n",
      "\n",
      "trial 171: 20190702_s2_t10\n",
      "  -- wav file:       t171_trial_10_1.0V(peak)__02-07-2019_11_46_31.wav\n",
      "  -- detection file: t171_hydrophone_cleaned.npz\n"
     ]
    },
    {
     "name": "stdout",
     "output_type": "stream",
     "text": [
      "\n",
      "\n",
      "trial 172: 20190702_s2_t11\n",
      "  -- wav file:       t172_trial_11_1.0V(peak)__02-07-2019_11_47_08.wav\n",
      "  -- detection file: t172_hydrophone_cleaned.npz\n"
     ]
    },
    {
     "name": "stdout",
     "output_type": "stream",
     "text": [
      "\n",
      "\n",
      "trial 173: 20190702_s3_t1\n",
      "  -- wav file:       t173_trial_1_1.0V(peak)__02-07-2019_15_11_54.wav\n",
      "  -- detection file: t173_hydrophone_cleaned.npz\n"
     ]
    },
    {
     "name": "stdout",
     "output_type": "stream",
     "text": [
      "\n",
      "\n",
      "trial 174: 20190702_s3_t2\n",
      "  -- wav file:       t174_trial_2_1.0V(peak)__02-07-2019_15_12_51.wav\n",
      "  -- detection file: t174_hydrophone_cleaned.npz\n"
     ]
    },
    {
     "name": "stdout",
     "output_type": "stream",
     "text": [
      "\n",
      "\n",
      "trial 175: 20190702_s3_t3\n",
      "  -- wav file:       t175_trial_3_1.0V(peak)__02-07-2019_15_13_49.wav\n",
      "  -- detection file: t175_hydrophone_cleaned.npz\n"
     ]
    },
    {
     "name": "stdout",
     "output_type": "stream",
     "text": [
      "\n",
      "\n",
      "trial 176: 20190702_s3_t4\n",
      "  -- wav file:       t176_trial_4_1.0V(peak)__02-07-2019_15_15_08.wav\n",
      "  -- detection file: t176_hydrophone_cleaned.npz\n"
     ]
    },
    {
     "name": "stdout",
     "output_type": "stream",
     "text": [
      "\n",
      "\n",
      "trial 177: 20190702_s3_t5\n",
      "  -- wav file:       t177_trial_5_1.0V(peak)__02-07-2019_15_16_08.wav\n",
      "  -- detection file: t177_hydrophone_cleaned.npz\n"
     ]
    },
    {
     "name": "stdout",
     "output_type": "stream",
     "text": [
      "\n",
      "\n",
      "trial 178: 20190702_s3_t6\n",
      "  -- wav file:       t178_trial_6_1.0V(peak)__02-07-2019_15_17_09.wav\n",
      "  -- detection file: t178_hydrophone_cleaned.npz\n"
     ]
    },
    {
     "name": "stdout",
     "output_type": "stream",
     "text": [
      "\n",
      "\n",
      "trial 179: 20190702_s3_t7\n",
      "  -- wav file:       t179_trial_7_1.0V(peak)__02-07-2019_15_18_31.wav\n",
      "  -- detection file: t179_hydrophone_cleaned.npz\n"
     ]
    },
    {
     "name": "stdout",
     "output_type": "stream",
     "text": [
      "\n",
      "\n",
      "trial 180: 20190702_s3_t8\n",
      "  -- wav file:       t180_trial_8_1.0V(peak)__02-07-2019_15_19_44.wav\n",
      "  -- detection file: t180_hydrophone_cleaned.npz\n"
     ]
    },
    {
     "name": "stdout",
     "output_type": "stream",
     "text": [
      "\n",
      "\n",
      "trial 181: 20190702_s3_t9\n",
      "  -- wav file:       t181_trial_9_1.0V(peak)__02-07-2019_15_20_41.wav\n",
      "  -- detection file: t181_hydrophone_cleaned.npz\n"
     ]
    },
    {
     "name": "stdout",
     "output_type": "stream",
     "text": [
      "\n",
      "\n",
      "trial 182: 20190702_s3_t10\n",
      "  -- wav file:       t182_trial_10_1.0V(peak)__02-07-2019_15_21_34.wav\n",
      "  -- detection file: t182_hydrophone_cleaned.npz\n"
     ]
    },
    {
     "name": "stdout",
     "output_type": "stream",
     "text": [
      "\n",
      "\n",
      "trial 183: 20190703_s1_t1\n",
      "  -- wav file:       t183_trial_1_1.0V(peak)__03-07-2019_10_28_28.wav\n",
      "  -- detection file: t183_hydrophone_cleaned.npz\n"
     ]
    },
    {
     "name": "stdout",
     "output_type": "stream",
     "text": [
      "\n",
      "\n",
      "trial 184: 20190703_s1_t2\n",
      "  -- wav file:       t184_trial_2_1.0V(peak)__03-07-2019_10_29_23.wav\n",
      "  -- detection file: t184_hydrophone_cleaned.npz\n"
     ]
    },
    {
     "name": "stdout",
     "output_type": "stream",
     "text": [
      "\n",
      "\n",
      "trial 185: 20190703_s1_t3\n",
      "  -- wav file:       t185_trial_3_1.0V(peak)__03-07-2019_10_30_07.wav\n",
      "  -- detection file: t185_hydrophone_cleaned.npz\n"
     ]
    },
    {
     "name": "stdout",
     "output_type": "stream",
     "text": [
      "\n",
      "\n",
      "trial 186: 20190703_s1_t4\n",
      "  -- wav file:       t186_trial_4_1.0V(peak)__03-07-2019_10_31_09.wav\n",
      "  -- detection file: t186_hydrophone_cleaned.npz\n"
     ]
    },
    {
     "name": "stdout",
     "output_type": "stream",
     "text": [
      "\n",
      "\n",
      "trial 187: 20190703_s1_t5\n",
      "  -- wav file:       t187_trial_5_1.0V(peak)__03-07-2019_10_32_06.wav\n",
      "  -- detection file: t187_hydrophone_cleaned.npz\n"
     ]
    },
    {
     "name": "stdout",
     "output_type": "stream",
     "text": [
      "\n",
      "\n",
      "trial 188: 20190703_s1_t6\n",
      "  -- wav file:       t188_trial_6_1.0V(peak)__03-07-2019_10_33_11.wav\n",
      "  -- detection file: t188_hydrophone_cleaned.npz\n"
     ]
    },
    {
     "name": "stdout",
     "output_type": "stream",
     "text": [
      "\n",
      "\n",
      "trial 189: 20190703_s1_t7\n",
      "  -- wav file:       t189_trial_7_1.0V(peak)__03-07-2019_10_33_56.wav\n",
      "  -- detection file: t189_hydrophone_cleaned.npz\n"
     ]
    },
    {
     "name": "stdout",
     "output_type": "stream",
     "text": [
      "\n",
      "\n",
      "trial 190: 20190703_s1_t8\n",
      "  -- wav file:       t190_trial_8_1.0V(peak)__03-07-2019_10_34_55.wav\n",
      "  -- detection file: t190_hydrophone_cleaned.npz\n"
     ]
    },
    {
     "name": "stdout",
     "output_type": "stream",
     "text": [
      "\n",
      "\n",
      "trial 191: 20190703_s1_t9\n",
      "  -- wav file:       t191_trial_9_1.0V(peak)__03-07-2019_10_35_53.wav\n",
      "  -- detection file: t191_hydrophone_cleaned.npz\n"
     ]
    },
    {
     "name": "stdout",
     "output_type": "stream",
     "text": [
      "\n",
      "\n",
      "trial 192: 20190703_s1_t10\n",
      "  -- wav file:       t192_trial_10_1.0V(peak)__03-07-2019_10_36_52.wav\n",
      "  -- detection file: t192_hydrophone_cleaned.npz\n"
     ]
    },
    {
     "name": "stdout",
     "output_type": "stream",
     "text": [
      "\n",
      "\n",
      "trial 193: 20190703_s2_t1\n",
      "  -- wav file:       t193_trial_1_1.0V(peak)__03-07-2019_11_40_04.wav\n",
      "  -- detection file: t193_hydrophone_cleaned.npz\n"
     ]
    },
    {
     "name": "stdout",
     "output_type": "stream",
     "text": [
      "\n",
      "\n",
      "trial 194: 20190703_s2_t2\n",
      "  -- wav file:       t194_trial_2_1.0V(peak)__03-07-2019_11_41_19.wav\n",
      "  -- detection file: t194_hydrophone_cleaned.npz\n"
     ]
    },
    {
     "name": "stdout",
     "output_type": "stream",
     "text": [
      "\n",
      "\n",
      "trial 195: 20190703_s2_t3\n",
      "  -- wav file:       t195_trial_3_1.0V(peak)__03-07-2019_11_42_13.wav\n",
      "  -- detection file: t195_hydrophone_cleaned.npz\n"
     ]
    },
    {
     "name": "stdout",
     "output_type": "stream",
     "text": [
      "\n",
      "\n",
      "trial 196: 20190703_s2_t4\n",
      "  -- wav file:       t196_trial_4_1.0V(peak)__03-07-2019_11_43_13.wav\n",
      "  -- detection file: t196_hydrophone_cleaned.npz\n"
     ]
    },
    {
     "name": "stdout",
     "output_type": "stream",
     "text": [
      "\n",
      "\n",
      "trial 197: 20190703_s2_t5\n",
      "  -- wav file:       t197_trial_5_1.0V(peak)__03-07-2019_11_44_05.wav\n",
      "  -- detection file: t197_hydrophone_cleaned.npz\n"
     ]
    },
    {
     "name": "stdout",
     "output_type": "stream",
     "text": [
      "\n",
      "\n",
      "trial 198: 20190703_s2_t6\n",
      "  -- wav file:       t198_trial_6_1.0V(peak)__03-07-2019_11_44_58.wav\n",
      "  -- detection file: t198_hydrophone_cleaned.npz\n"
     ]
    },
    {
     "name": "stdout",
     "output_type": "stream",
     "text": [
      "\n",
      "\n",
      "trial 199: 20190703_s2_t7\n",
      "  -- wav file:       t199_trial_7_1.0V(peak)__03-07-2019_11_45_46.wav\n",
      "  -- detection file: t199_hydrophone_cleaned.npz\n"
     ]
    },
    {
     "name": "stdout",
     "output_type": "stream",
     "text": [
      "\n",
      "\n",
      "trial 200: 20190703_s2_t8\n",
      "  -- wav file:       t200_trial_8_1.0V(peak)__03-07-2019_11_46_45.wav\n",
      "  -- detection file: t200_hydrophone_cleaned.npz\n"
     ]
    },
    {
     "name": "stdout",
     "output_type": "stream",
     "text": [
      "\n",
      "\n",
      "trial 201: 20190703_s2_t9\n",
      "  -- wav file:       t201_trial_9_1.0V(peak)__03-07-2019_11_47_32.wav\n",
      "  -- detection file: t201_hydrophone_cleaned.npz\n"
     ]
    },
    {
     "name": "stdout",
     "output_type": "stream",
     "text": [
      "\n",
      "\n",
      "trial 202: 20190703_s2_t10\n",
      "  -- wav file:       t202_trial_10_1.0V(peak)__03-07-2019_11_48_26.wav\n",
      "  -- detection file: t202_hydrophone_cleaned.npz\n"
     ]
    },
    {
     "name": "stdout",
     "output_type": "stream",
     "text": [
      "\n",
      "\n",
      "trial 203: 20190703_s2_t11\n",
      "  -- wav file:       t203_trial_11_1.0V(peak)__03-07-2019_11_49_23.wav\n",
      "  -- detection file: t203_hydrophone_cleaned.npz\n"
     ]
    },
    {
     "name": "stdout",
     "output_type": "stream",
     "text": [
      "\n",
      "\n",
      "trial 204: 20190703_s3_t1\n",
      "  -- wav file:       t204_trial_1_1.0V(peak)__03-07-2019_15_00_36.wav\n",
      "  -- detection file: t204_hydrophone_cleaned.npz\n"
     ]
    },
    {
     "name": "stdout",
     "output_type": "stream",
     "text": [
      "\n",
      "\n",
      "trial 205: 20190703_s3_t2\n",
      "  -- wav file:       t205_trial_2_1.0V(peak)__03-07-2019_15_01_33.wav\n",
      "  -- detection file: t205_hydrophone_cleaned.npz\n"
     ]
    },
    {
     "name": "stdout",
     "output_type": "stream",
     "text": [
      "\n",
      "\n",
      "trial 206: 20190703_s3_t3\n",
      "  -- wav file:       t206_trial_3_1.0V(peak)__03-07-2019_15_02_32.wav\n",
      "  -- detection file: t206_hydrophone_cleaned.npz\n"
     ]
    },
    {
     "name": "stdout",
     "output_type": "stream",
     "text": [
      "\n",
      "\n",
      "trial 207: 20190703_s3_t4\n",
      "  -- wav file:       t207_trial_4_1.0V(peak)__03-07-2019_15_03_32.wav\n",
      "  -- detection file: t207_hydrophone_cleaned.npz\n"
     ]
    },
    {
     "name": "stdout",
     "output_type": "stream",
     "text": [
      "\n",
      "\n",
      "trial 208: 20190703_s3_t5\n",
      "  -- wav file:       t208_trial_5_1.0V(peak)__03-07-2019_15_04_22.wav\n",
      "  -- detection file: t208_hydrophone_cleaned.npz\n"
     ]
    },
    {
     "name": "stdout",
     "output_type": "stream",
     "text": [
      "\n",
      "\n",
      "trial 209: 20190703_s3_t6\n",
      "  -- wav file:       t209_trial_6_1.0V(peak)__03-07-2019_15_05_26.wav\n",
      "  -- detection file: t209_hydrophone_cleaned.npz\n"
     ]
    },
    {
     "name": "stdout",
     "output_type": "stream",
     "text": [
      "\n",
      "\n",
      "trial 210: 20190703_s3_t7\n",
      "  -- wav file:       t210_trial_7_1.0V(peak)__03-07-2019_15_06_33.wav\n",
      "  -- detection file: t210_hydrophone_cleaned.npz\n"
     ]
    },
    {
     "name": "stdout",
     "output_type": "stream",
     "text": [
      "\n",
      "\n",
      "trial 211: 20190703_s3_t8\n",
      "  -- wav file:       t211_trial_8_1.0V(peak)__03-07-2019_15_07_43.wav\n",
      "  -- detection file: t211_hydrophone_cleaned.npz\n"
     ]
    },
    {
     "name": "stdout",
     "output_type": "stream",
     "text": [
      "\n",
      "\n",
      "trial 212: 20190703_s3_t9\n",
      "  -- wav file:       t212_trial_9_1.0V(peak)__03-07-2019_15_09_07.wav\n",
      "  -- detection file: t212_hydrophone_cleaned.npz\n"
     ]
    },
    {
     "name": "stdout",
     "output_type": "stream",
     "text": [
      "\n",
      "\n",
      "trial 213: 20190703_s3_t10\n",
      "  -- wav file:       t213_trial_10_1.0V(peak)__03-07-2019_15_10_14.wav\n",
      "  -- detection file: t213_hydrophone_cleaned.npz\n"
     ]
    },
    {
     "name": "stdout",
     "output_type": "stream",
     "text": [
      "\n",
      "\n",
      "trial 214: 20190704_s1_t1\n",
      "  -- wav file:       t214_trial_1_1.0V(peak)__04-07-2019_10_10_31.wav\n",
      "  -- detection file: t214_hydrophone_cleaned.npz\n"
     ]
    },
    {
     "name": "stdout",
     "output_type": "stream",
     "text": [
      "\n",
      "\n",
      "trial 215: 20190704_s1_t2\n",
      "  -- wav file:       t215_trial_2_1.0V(peak)__04-07-2019_10_11_23.wav\n",
      "  -- detection file: t215_hydrophone_cleaned.npz\n"
     ]
    },
    {
     "name": "stdout",
     "output_type": "stream",
     "text": [
      "\n",
      "\n",
      "trial 216: 20190704_s1_t3\n",
      "  -- wav file:       t216_trial_3_1.0V(peak)__04-07-2019_10_12_06.wav\n",
      "  -- detection file: t216_hydrophone_cleaned.npz\n"
     ]
    },
    {
     "name": "stdout",
     "output_type": "stream",
     "text": [
      "\n",
      "\n",
      "trial 217: 20190704_s1_t4\n",
      "  -- wav file:       t217_trial_4_1.0V(peak)__04-07-2019_10_12_57.wav\n",
      "  -- detection file: t217_hydrophone_cleaned.npz\n"
     ]
    },
    {
     "name": "stdout",
     "output_type": "stream",
     "text": [
      "\n",
      "\n",
      "trial 218: 20190704_s1_t5\n",
      "  -- wav file:       t218_trial_5_1.0V(peak)__04-07-2019_10_14_45.wav\n",
      "  -- detection file: t218_hydrophone_cleaned.npz\n"
     ]
    },
    {
     "name": "stdout",
     "output_type": "stream",
     "text": [
      "\n",
      "\n",
      "trial 219: 20190704_s1_t6\n",
      "  -- wav file:       t219_trial_6_1.0V(peak)__04-07-2019_10_15_35.wav\n",
      "  -- detection file: t219_hydrophone_cleaned.npz\n"
     ]
    },
    {
     "name": "stdout",
     "output_type": "stream",
     "text": [
      "\n",
      "\n",
      "trial 220: 20190704_s1_t7\n",
      "  -- wav file:       t220_trial_7_1.0V(peak)__04-07-2019_10_16_35.wav\n",
      "  -- detection file: t220_hydrophone_cleaned.npz\n"
     ]
    },
    {
     "name": "stdout",
     "output_type": "stream",
     "text": [
      "\n",
      "\n",
      "trial 221: 20190704_s1_t8\n",
      "  -- wav file:       t221_trial_8_1.0V(peak)__04-07-2019_10_17_28.wav\n",
      "  -- detection file: t221_hydrophone_cleaned.npz\n"
     ]
    },
    {
     "name": "stdout",
     "output_type": "stream",
     "text": [
      "\n",
      "\n",
      "trial 222: 20190704_s1_t9\n",
      "  -- wav file:       t222_trial_9_1.0V(peak)__04-07-2019_10_18_16.wav\n",
      "  -- detection file: t222_hydrophone_cleaned.npz\n"
     ]
    },
    {
     "name": "stdout",
     "output_type": "stream",
     "text": [
      "\n",
      "\n",
      "trial 223: 20190704_s1_t10\n",
      "  -- wav file:       t223_trial_10_1.0V(peak)__04-07-2019_10_19_07.wav\n",
      "  -- detection file: t223_hydrophone_cleaned.npz\n"
     ]
    },
    {
     "name": "stdout",
     "output_type": "stream",
     "text": [
      "\n",
      "\n",
      "trial 224: 20190704_s2_t1\n",
      "  -- wav file:       t224_trial_1_1.0V(peak)__04-07-2019_11_42_14.wav\n",
      "  -- detection file: t224_hydrophone_cleaned.npz\n"
     ]
    },
    {
     "name": "stdout",
     "output_type": "stream",
     "text": [
      "\n",
      "\n",
      "trial 225: 20190704_s2_t2\n",
      "  -- wav file:       t225_trial_2_1.0V(peak)__04-07-2019_11_43_09.wav\n",
      "  -- detection file: t225_hydrophone_cleaned.npz\n"
     ]
    },
    {
     "name": "stdout",
     "output_type": "stream",
     "text": [
      "\n",
      "\n",
      "trial 226: 20190704_s2_t3\n",
      "  -- wav file:       t226_trial_3_1.0V(peak)__04-07-2019_11_43_56.wav\n",
      "  -- detection file: t226_hydrophone_cleaned.npz\n"
     ]
    },
    {
     "name": "stdout",
     "output_type": "stream",
     "text": [
      "\n",
      "\n",
      "trial 227: 20190704_s2_t4\n",
      "  -- wav file:       t227_trial_4_1.0V(peak)__04-07-2019_11_44_59.wav\n",
      "  -- detection file: t227_hydrophone_cleaned.npz\n"
     ]
    },
    {
     "name": "stdout",
     "output_type": "stream",
     "text": [
      "\n",
      "\n",
      "trial 228: 20190704_s2_t5\n",
      "  -- wav file:       t228_trial_5_1.0V(peak)__04-07-2019_11_45_51.wav\n",
      "  -- detection file: t228_hydrophone_cleaned.npz\n"
     ]
    },
    {
     "name": "stdout",
     "output_type": "stream",
     "text": [
      "\n",
      "\n",
      "trial 229: 20190704_s2_t6\n",
      "  -- wav file:       t229_trial_6_1.0V(peak)__04-07-2019_11_47_05.wav\n",
      "  -- detection file: t229_hydrophone_cleaned.npz\n"
     ]
    },
    {
     "name": "stdout",
     "output_type": "stream",
     "text": [
      "\n",
      "\n",
      "trial 230: 20190704_s2_t7\n",
      "  -- wav file:       t230_trial_7_1.0V(peak)__04-07-2019_11_47_47.wav\n",
      "  -- detection file: t230_hydrophone_cleaned.npz\n"
     ]
    },
    {
     "name": "stdout",
     "output_type": "stream",
     "text": [
      "\n",
      "\n",
      "trial 231: 20190704_s2_t8\n",
      "  -- wav file:       t231_trial_8_1.0V(peak)__04-07-2019_11_48_49.wav\n",
      "  -- detection file: t231_hydrophone_cleaned.npz\n"
     ]
    },
    {
     "name": "stdout",
     "output_type": "stream",
     "text": [
      "\n",
      "\n",
      "trial 232: 20190704_s2_t9\n",
      "  -- wav file:       t232_trial_9_1.0V(peak)__04-07-2019_11_50_03.wav\n",
      "  -- detection file: t232_hydrophone_cleaned.npz\n"
     ]
    },
    {
     "name": "stdout",
     "output_type": "stream",
     "text": [
      "\n",
      "\n",
      "trial 233: 20190704_s2_t10\n",
      "  -- wav file:       t233_trial_10_1.0V(peak)__04-07-2019_11_50_58.wav\n",
      "  -- detection file: t233_hydrophone_cleaned.npz\n"
     ]
    },
    {
     "name": "stdout",
     "output_type": "stream",
     "text": [
      "\n",
      "\n",
      "trial 234: 20190704_s2_t11\n",
      "  -- wav file:       t234_trial_11_1.0V(peak)__04-07-2019_11_51_43.wav\n",
      "  -- detection file: t234_hydrophone_cleaned.npz\n"
     ]
    },
    {
     "name": "stdout",
     "output_type": "stream",
     "text": [
      "\n",
      "\n",
      "trial 235: 20190704_s3_t1\n",
      "  -- wav file:       t235_trial_1_1.0V(peak)__04-07-2019_14_45_50.wav\n",
      "  -- detection file: t235_hydrophone_cleaned.npz\n"
     ]
    },
    {
     "name": "stdout",
     "output_type": "stream",
     "text": [
      "\n",
      "\n",
      "trial 236: 20190704_s3_t2\n",
      "  -- wav file:       t236_trial_2_1.0V(peak)__04-07-2019_14_46_50.wav\n",
      "  -- detection file: t236_hydrophone_cleaned.npz\n"
     ]
    },
    {
     "name": "stdout",
     "output_type": "stream",
     "text": [
      "\n",
      "\n",
      "trial 237: 20190704_s3_t3\n",
      "  -- wav file:       t237_trial_3_1.0V(peak)__04-07-2019_14_48_23.wav\n",
      "  -- detection file: t237_hydrophone_cleaned.npz\n"
     ]
    },
    {
     "name": "stdout",
     "output_type": "stream",
     "text": [
      "\n",
      "\n",
      "trial 238: 20190704_s3_t4\n",
      "  -- wav file:       t238_trial_4_1.0V(peak)__04-07-2019_14_49_34.wav\n",
      "  -- detection file: t238_hydrophone_cleaned.npz\n"
     ]
    },
    {
     "name": "stdout",
     "output_type": "stream",
     "text": [
      "\n",
      "\n",
      "trial 239: 20190704_s3_t5\n",
      "  -- wav file:       t239_trial_5_1.0V(peak)__04-07-2019_14_50_33.wav\n",
      "  -- detection file: t239_hydrophone_cleaned.npz\n"
     ]
    },
    {
     "name": "stdout",
     "output_type": "stream",
     "text": [
      "\n",
      "\n",
      "trial 240: 20190704_s3_t6\n",
      "  -- wav file:       t240_trial_6_1.0V(peak)__04-07-2019_14_51_35.wav\n",
      "  -- detection file: t240_hydrophone_cleaned.npz\n"
     ]
    },
    {
     "name": "stdout",
     "output_type": "stream",
     "text": [
      "\n",
      "\n",
      "trial 241: 20190704_s3_t7\n",
      "  -- wav file:       t241_trial_7_1.0V(peak)__04-07-2019_14_52_27.wav\n",
      "  -- detection file: t241_hydrophone_cleaned.npz\n"
     ]
    },
    {
     "name": "stdout",
     "output_type": "stream",
     "text": [
      "\n",
      "\n",
      "trial 242: 20190704_s3_t8\n",
      "  -- wav file:       t242_trial_8_1.0V(peak)__04-07-2019_14_53_32.wav\n",
      "  -- detection file: t242_hydrophone_cleaned.npz\n"
     ]
    },
    {
     "name": "stdout",
     "output_type": "stream",
     "text": [
      "\n",
      "\n",
      "trial 243: 20190704_s3_t9\n",
      "  -- wav file:       t243_trial_9_1.0V(peak)__04-07-2019_14_54_32.wav\n",
      "  -- detection file: t243_hydrophone_cleaned.npz\n"
     ]
    },
    {
     "name": "stdout",
     "output_type": "stream",
     "text": [
      "\n",
      "\n",
      "trial 244: 20190704_s3_t10\n",
      "  -- wav file:       t244_trial_10_1.0V(peak)__04-07-2019_14_55_29.wav\n",
      "  -- detection file: t244_hydrophone_cleaned.npz\n"
     ]
    },
    {
     "name": "stdout",
     "output_type": "stream",
     "text": [
      "\n",
      "\n",
      "trial 245: 20190704_s3_t11\n",
      "  -- wav file:       t245_trial_11_1.0V(peak)__04-07-2019_14_56_14.wav\n",
      "  -- detection file: t245_hydrophone_cleaned.npz\n"
     ]
    },
    {
     "name": "stdout",
     "output_type": "stream",
     "text": [
      "\n",
      "\n",
      "trial 246: 20190704_s3_t12\n",
      "  -- wav file:       t246_trial_12_1.0V(peak)__04-07-2019_14_58_22.wav\n",
      "  -- detection file: t246_hydrophone_cleaned.npz\n"
     ]
    }
   ],
   "source": [
    "for trial_idx in df_main.index:\n",
    "\n",
    "    fname_prefix = df_main.loc[trial_idx, \"fname_prefix\"]\n",
    "    print(f\"\\n\\ntrial {trial_idx}: {fname_prefix}\")\n",
    "    hydro_wav_file = list(hydro_wav_path.glob(f\"t{trial_idx:03d}_*.wav\"))\n",
    "    \n",
    "    # trial: 81: combine the 2 wav files\n",
    "    if trial_idx == 81:\n",
    "        hydro_wav_file_combine = hydro_wav_path / \"t081_combine.wav\"\n",
    "        if not hydro_wav_file_combine.exists():\n",
    "            data1, fs = sf.read(hydro_wav_file[0])\n",
    "            data2, fs = sf.read(hydro_wav_file[1])\n",
    "            sf.write(hydro_wav_file_combine, np.vstack((data1, data2)), fs)\n",
    "        hydro_wav_file = hydro_wav_file_combine\n",
    "    # all other trials: use the first hydro wav file\n",
    "    else:\n",
    "        hydro_wav_file = hydro_wav_file[0]\n",
    "    \n",
    "    print(f'  -- wav file:       {hydro_wav_file.name}')\n",
    "    \n",
    "    # load detection\n",
    "    try:\n",
    "        hydro_click_file = hydro_click_path / (f\"t{trial_idx:03d}_hydrophone_cleaned.npz\")\n",
    "        df_ch0, df_ch1 = hc.load_detected_click_dfs(hydro_click_file)\n",
    "        print(f'  -- detection file: {hydro_click_file.name}')\n",
    "    except FileNotFoundError:\n",
    "        print('No detection file, do not consider this trial')\n",
    "        print('')\n",
    "        print('')\n",
    "        continue\n",
    "        \n",
    "    if len(df_ch0) == 0 or len(df_ch1) == 0:\n",
    "        print('One channel not detected, do not consider this trial')\n",
    "        print('')\n",
    "        print('')\n",
    "        continue\n",
    "    \n",
    "    # extract and gather clicks\n",
    "    clicks_mtx0 = hc.gather_clicks(\n",
    "        clk_file=hydro_wav_file, \n",
    "        df_clk=df_ch0, \n",
    "        fs_hydro=fs_hydro,\n",
    "        ch=0,\n",
    "        click_len_sec=window_len_sec, \n",
    "        perc_before_pk=perc_before_pk\n",
    "    )\n",
    "    clicks_mtx1 = hc.gather_clicks(\n",
    "        clk_file=hydro_wav_file, \n",
    "        df_clk=df_ch1, \n",
    "        fs_hydro=fs_hydro,\n",
    "        ch=1,\n",
    "        click_len_sec=window_len_sec, \n",
    "        perc_before_pk=perc_before_pk\n",
    "    )\n",
    "    \n",
    "    # save extracted clicks\n",
    "    np.save(output_click_path / f\"{fname_prefix}_extracted_clicks_ch0.npy\", clicks_mtx0)\n",
    "    np.save(output_click_path / f\"{fname_prefix}_extracted_clicks_ch1.npy\", clicks_mtx1)\n"
   ]
  },
  {
   "cell_type": "code",
   "execution_count": null,
   "id": "4ab3e5c5",
   "metadata": {
    "papermill": {
     "duration": 0.006743,
     "end_time": "2023-04-29T03:30:02.589394",
     "exception": false,
     "start_time": "2023-04-29T03:30:02.582651",
     "status": "completed"
    },
    "tags": []
   },
   "outputs": [],
   "source": []
  },
  {
   "cell_type": "code",
   "execution_count": null,
   "id": "6ef7b100",
   "metadata": {
    "papermill": {
     "duration": 0.006733,
     "end_time": "2023-04-29T03:30:02.602752",
     "exception": false,
     "start_time": "2023-04-29T03:30:02.596019",
     "status": "completed"
    },
    "tags": []
   },
   "outputs": [],
   "source": []
  },
  {
   "cell_type": "code",
   "execution_count": null,
   "id": "75710dce",
   "metadata": {
    "papermill": {
     "duration": 0.00652,
     "end_time": "2023-04-29T03:30:02.615841",
     "exception": false,
     "start_time": "2023-04-29T03:30:02.609321",
     "status": "completed"
    },
    "tags": []
   },
   "outputs": [],
   "source": []
  },
  {
   "cell_type": "code",
   "execution_count": null,
   "id": "9f450f34",
   "metadata": {
    "papermill": {
     "duration": 0.006496,
     "end_time": "2023-04-29T03:30:02.628828",
     "exception": false,
     "start_time": "2023-04-29T03:30:02.622332",
     "status": "completed"
    },
    "tags": []
   },
   "outputs": [],
   "source": []
  }
 ],
 "metadata": {
  "kernelspec": {
   "display_name": "porpoise_spheroid",
   "language": "python",
   "name": "porpoise_spheroid"
  },
  "language_info": {
   "codemirror_mode": {
    "name": "ipython",
    "version": 3
   },
   "file_extension": ".py",
   "mimetype": "text/x-python",
   "name": "python",
   "nbconvert_exporter": "python",
   "pygments_lexer": "ipython3",
   "version": "3.9.16"
  },
  "papermill": {
   "default_parameters": {},
   "duration": 124.334911,
   "end_time": "2023-04-29T03:30:02.751673",
   "environment_variables": {},
   "exception": null,
   "input_path": "./11_extract-hydro-click-segments.ipynb",
   "output_path": "./11_extract-hydro-click-segments.ipynb",
   "parameters": {},
   "start_time": "2023-04-29T03:27:58.416762",
   "version": "2.3.4"
  }
 },
 "nbformat": 4,
 "nbformat_minor": 5
}