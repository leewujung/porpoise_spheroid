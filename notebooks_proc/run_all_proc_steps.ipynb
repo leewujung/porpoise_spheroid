{
 "cells": [
  {
   "cell_type": "code",
   "execution_count": 1,
   "metadata": {},
   "outputs": [],
   "source": [
    "import papermill as pm"
   ]
  },
  {
   "cell_type": "markdown",
   "metadata": {},
   "source": [
    "## 00. Make main dataframe\n",
    "\n",
    "This generates `main_info.csv` in folder `'../data_processed/all_info_csv'`"
   ]
  },
  {
   "cell_type": "code",
   "execution_count": 2,
   "metadata": {},
   "outputs": [
    {
     "data": {
      "application/vnd.jupyter.widget-view+json": {
       "model_id": "5de77756ecf243719d0b3b6360d4ff2b",
       "version_major": 2,
       "version_minor": 0
      },
      "text/plain": [
       "Executing:   0%|          | 0/76 [00:00<?, ?cell/s]"
      ]
     },
     "metadata": {},
     "output_type": "display_data"
    }
   ],
   "source": [
    "nb = pm.execute_notebook(\n",
    "    input_path='./00_make-main-dataframe.ipynb',\n",
    "    output_path='./00_make-main-dataframe.ipynb',\n",
    "    kernel_name='porpoise_spheroid',\n",
    ")"
   ]
  },
  {
   "cell_type": "markdown",
   "metadata": {},
   "source": [
    "## 01. Make target csv file\n",
    "\n",
    "This notebook \n",
    "- compiles all target locations that were hand-marked from all trials, and put them in a single dataframe\n",
    "- save outputs in `../data_processed/tracks/targets.csv`\n",
    "- generates `../data_processed/all_info_csv/main_info_append_01.csv`"
   ]
  },
  {
   "cell_type": "code",
   "execution_count": 3,
   "metadata": {},
   "outputs": [
    {
     "data": {
      "application/vnd.jupyter.widget-view+json": {
       "model_id": "dae9360fd07142a7a3f70d214413196f",
       "version_major": 2,
       "version_minor": 0
      },
      "text/plain": [
       "Executing:   0%|          | 0/52 [00:00<?, ?cell/s]"
      ]
     },
     "metadata": {},
     "output_type": "display_data"
    }
   ],
   "source": [
    "nb = pm.execute_notebook(\n",
    "    input_path='./01_generate-targets-csv.ipynb',\n",
    "    output_path='./01_generate-targets-csv.ipynb',\n",
    "    kernel_name='porpoise_spheroid',\n",
    ")"
   ]
  },
  {
   "cell_type": "markdown",
   "metadata": {},
   "source": [
    "## 02. Calibrate target locations\n",
    "\n",
    "This notebook:\n",
    "- calibrates all target locations\n",
    "- save calibrated target locations to `'../data_processed/tracks/targets_cal/'`\n",
    "- generates `../data_processed/all_info_csv/main_info_append_02.csv`"
   ]
  },
  {
   "cell_type": "code",
   "execution_count": 4,
   "metadata": {},
   "outputs": [
    {
     "data": {
      "application/vnd.jupyter.widget-view+json": {
       "model_id": "c7416c84071243c580d637232226fe0c",
       "version_major": 2,
       "version_minor": 0
      },
      "text/plain": [
       "Executing:   0%|          | 0/31 [00:00<?, ?cell/s]"
      ]
     },
     "metadata": {},
     "output_type": "display_data"
    }
   ],
   "source": [
    "nb = pm.execute_notebook(\n",
    "    input_path='./02_calibrate-target-locs.ipynb',\n",
    "    output_path='./02_calibrate-target-locs.ipynb',\n",
    "    kernel_name='porpoise_spheroid',\n",
    ")"
   ]
  },
  {
   "cell_type": "markdown",
   "metadata": {},
   "source": [
    "## 03. Transform target locations\n",
    "\n",
    "This notebook:\n",
    "- transform all calibrated target locations to target-clutter axis\n",
    "- save outputs to `'../data_processed/tracks/targets_cal_transformed/'`\n",
    "- generate `../data_processed/all_info_csv/main_info_append_03.csv`"
   ]
  },
  {
   "cell_type": "code",
   "execution_count": 5,
   "metadata": {},
   "outputs": [
    {
     "data": {
      "application/vnd.jupyter.widget-view+json": {
       "model_id": "165c523714d14e42856a52a10c423243",
       "version_major": 2,
       "version_minor": 0
      },
      "text/plain": [
       "Executing:   0%|          | 0/16 [00:00<?, ?cell/s]"
      ]
     },
     "metadata": {},
     "output_type": "display_data"
    }
   ],
   "source": [
    "nb = pm.execute_notebook(\n",
    "    input_path='./03_transform-target-locs.ipynb',\n",
    "    output_path='./03_transform-target-locs.ipynb',\n",
    "    kernel_name='porpoise_spheroid',\n",
    ")"
   ]
  },
  {
   "cell_type": "markdown",
   "metadata": {},
   "source": [
    "## 04. Create track xypressure files\n",
    "\n",
    "This notebook:\n",
    "- get depth info from Dtag by syncing video track and Dtag recording\n",
    "- save xypressure files to `../data_processed/tracks/xypressure`\n",
    "- generate `../data_processed/all_info_csv/main_info_append_04.csv`"
   ]
  },
  {
   "cell_type": "code",
   "execution_count": 6,
   "metadata": {},
   "outputs": [
    {
     "data": {
      "application/vnd.jupyter.widget-view+json": {
       "model_id": "5db2f63777544be2a20a2c40f21a19e9",
       "version_major": 2,
       "version_minor": 0
      },
      "text/plain": [
       "Executing:   0%|          | 0/52 [00:00<?, ?cell/s]"
      ]
     },
     "metadata": {},
     "output_type": "display_data"
    }
   ],
   "source": [
    "nb = pm.execute_notebook(\n",
    "    input_path='./04_create-xypressure-files.ipynb',\n",
    "    output_path='./04_create-xypressure-files.ipynb',\n",
    "    kernel_name='porpoise_spheroid',\n",
    ")"
   ]
  },
  {
   "cell_type": "markdown",
   "metadata": {},
   "source": [
    "## 05. Calibrate all tracks\n",
    "\n",
    "This notebook:\n",
    "- calibrate all tracks\n",
    "- save xypressure files to `../data_processed/tracks/xypressure_cal`\n",
    "- generate `../data_processed/all_info_csv/main_info_append_05.csv`"
   ]
  },
  {
   "cell_type": "code",
   "execution_count": 7,
   "metadata": {},
   "outputs": [
    {
     "data": {
      "application/vnd.jupyter.widget-view+json": {
       "model_id": "b213e6a1e3be4c4b9810035de6b586f4",
       "version_major": 2,
       "version_minor": 0
      },
      "text/plain": [
       "Executing:   0%|          | 0/39 [00:00<?, ?cell/s]"
      ]
     },
     "metadata": {},
     "output_type": "display_data"
    }
   ],
   "source": [
    "nb = pm.execute_notebook(\n",
    "    input_path='./05_calibrate-all-tracks.ipynb',\n",
    "    output_path='./05_calibrate-all-tracks.ipynb',\n",
    "    kernel_name='porpoise_spheroid',\n",
    ")"
   ]
  },
  {
   "cell_type": "markdown",
   "metadata": {},
   "source": [
    "## 06. Transform all tracks\n",
    "\n",
    "This notebook:\n",
    "- transform all tracks\n",
    "- save xypressure files to `../data_processed/tracks/xypressure_cal_transformed`\n",
    "- generate `../data_processed/all_info_csv/main_info_append_06.csv`"
   ]
  },
  {
   "cell_type": "code",
   "execution_count": 8,
   "metadata": {},
   "outputs": [
    {
     "data": {
      "application/vnd.jupyter.widget-view+json": {
       "model_id": "45783e0044534f5da6e61301cd97a6b2",
       "version_major": 2,
       "version_minor": 0
      },
      "text/plain": [
       "Executing:   0%|          | 0/27 [00:00<?, ?cell/s]"
      ]
     },
     "metadata": {},
     "output_type": "display_data"
    }
   ],
   "source": [
    "nb = pm.execute_notebook(\n",
    "    input_path='./06_transform-all-tracks.ipynb',\n",
    "    output_path='./06_transform-all-tracks.ipynb',\n",
    "    kernel_name='porpoise_spheroid',\n",
    ")"
   ]
  },
  {
   "cell_type": "markdown",
   "metadata": {},
   "source": [
    "## 07. Sync clicks with all tracks\n",
    "\n",
    "This notebook:\n",
    "- \"process\" tracks by filling in gaps and smoothing them\n",
    "- sync all click detections and tracks based on specific track label (DTAG or ROSTRUM) based on chirp emitted at the beginning of hydrophone recording\n",
    "- generate `../data_processed/all_info_csv/main_info_append_07.csv`\n",
    "- outputs are saved under `../data_processed/click_sync/.../TRACK_LABEL`"
   ]
  },
  {
   "cell_type": "markdown",
   "metadata": {},
   "source": [
    "#### ROSTRUM track label"
   ]
  },
  {
   "cell_type": "code",
   "execution_count": 9,
   "metadata": {
    "scrolled": false
   },
   "outputs": [
    {
     "data": {
      "application/vnd.jupyter.widget-view+json": {
       "model_id": "85109c68e53d4d0bb1787dc213c74cd8",
       "version_major": 2,
       "version_minor": 0
      },
      "text/plain": [
       "Executing:   0%|          | 0/32 [00:00<?, ?cell/s]"
      ]
     },
     "metadata": {},
     "output_type": "display_data"
    }
   ],
   "source": [
    "track_label = 'ROSTRUM'\n",
    "nb = pm.execute_notebook(\n",
    "    input_path='./07_sync-click-track-all-trial-processed-track.ipynb',\n",
    "    output_path=f'./07_sync-click-track-all-trial-processed-track-{track_label}.ipynb',\n",
    "    parameters={'track_label': track_label},\n",
    "    kernel_name='porpoise_spheroid',\n",
    ")"
   ]
  },
  {
   "cell_type": "markdown",
   "metadata": {},
   "source": [
    "#### DTAG track label"
   ]
  },
  {
   "cell_type": "code",
   "execution_count": 10,
   "metadata": {
    "scrolled": false
   },
   "outputs": [
    {
     "data": {
      "application/vnd.jupyter.widget-view+json": {
       "model_id": "40528596ed2743a8aae2affff81a2890",
       "version_major": 2,
       "version_minor": 0
      },
      "text/plain": [
       "Executing:   0%|          | 0/32 [00:00<?, ?cell/s]"
      ]
     },
     "metadata": {},
     "output_type": "display_data"
    }
   ],
   "source": [
    "track_label = 'DTAG'\n",
    "nb = pm.execute_notebook(\n",
    "    input_path='./07_sync-click-track-all-trial-processed-track.ipynb',\n",
    "    output_path=f'./07_sync-click-track-all-trial-processed-track-{track_label}.ipynb',\n",
    "    parameters={'track_label': track_label},\n",
    "    kernel_name='porpoise_spheroid',\n",
    ")"
   ]
  },
  {
   "cell_type": "markdown",
   "metadata": {},
   "source": [
    "## 08. Sync clicks with all tracks based on LED\n",
    "\n",
    "This notebook:\n",
    "- \"process\" tracks by filling in gaps and smoothing them\n",
    "- sync all click detections and tracks based on specific track label (DTAG or ROSTRUM) based on LED flash at the beginning of trial\n",
    "- generate `../data_processed/all_info_csv/main_info_append_08.csv`\n",
    "- outputs are saved under `../data_processed/click_sync_LED/.../TRACK_LABEL` below"
   ]
  },
  {
   "cell_type": "markdown",
   "metadata": {},
   "source": [
    "#### ROSTRUM track label"
   ]
  },
  {
   "cell_type": "code",
   "execution_count": 11,
   "metadata": {},
   "outputs": [
    {
     "data": {
      "application/vnd.jupyter.widget-view+json": {
       "model_id": "fc456649d80142cbb12dffe8b88d76de",
       "version_major": 2,
       "version_minor": 0
      },
      "text/plain": [
       "Executing:   0%|          | 0/24 [00:00<?, ?cell/s]"
      ]
     },
     "metadata": {},
     "output_type": "display_data"
    }
   ],
   "source": [
    "track_label = 'ROSTRUM'\n",
    "nb = pm.execute_notebook(\n",
    "    input_path='./08_sync-click-track-all-trial-LED-processed-track.ipynb',\n",
    "    output_path=f'./08_sync-click-track-all-trial-LED-processed-track-{track_label}.ipynb',\n",
    "    parameters={'track_label': track_label},\n",
    "    kernel_name='porpoise_spheroid',\n",
    ")"
   ]
  },
  {
   "cell_type": "markdown",
   "metadata": {},
   "source": [
    "#### DTAG track label"
   ]
  },
  {
   "cell_type": "code",
   "execution_count": 12,
   "metadata": {},
   "outputs": [
    {
     "data": {
      "application/vnd.jupyter.widget-view+json": {
       "model_id": "041ab03b66974405a960f3bd030ef649",
       "version_major": 2,
       "version_minor": 0
      },
      "text/plain": [
       "Executing:   0%|          | 0/24 [00:00<?, ?cell/s]"
      ]
     },
     "metadata": {},
     "output_type": "display_data"
    }
   ],
   "source": [
    "track_label = 'DTAG'\n",
    "nb = pm.execute_notebook(\n",
    "    input_path='./08_sync-click-track-all-trial-LED-processed-track.ipynb',\n",
    "    output_path=f'./08_sync-click-track-all-trial-LED-processed-track-{track_label}.ipynb',\n",
    "    parameters={'track_label': track_label},\n",
    "    kernel_name='porpoise_spheroid',\n",
    ")"
   ]
  },
  {
   "cell_type": "markdown",
   "metadata": {},
   "source": [
    "## 09. Compare sync time between chirp and LED approach\n",
    "\n",
    "This notebook:\n",
    "- compares the syncing time between the chirp and the LED approach (outputs from 07 and 08 notebooks)\n",
    "- append columns on whether a given trial can be synced by chirp, LED, or both\n",
    "- generate `../data_processed/all_info_csv/main_info_append_09.csv`"
   ]
  },
  {
   "cell_type": "code",
   "execution_count": 13,
   "metadata": {},
   "outputs": [
    {
     "data": {
      "application/vnd.jupyter.widget-view+json": {
       "model_id": "c86f75f3424742eabf0942ffbd588ae9",
       "version_major": 2,
       "version_minor": 0
      },
      "text/plain": [
       "Executing:   0%|          | 0/22 [00:00<?, ?cell/s]"
      ]
     },
     "metadata": {},
     "output_type": "display_data"
    }
   ],
   "source": [
    "nb = pm.execute_notebook(\n",
    "    input_path='./09_compare-sync-time-chirp-LED-processed-track.ipynb',\n",
    "    output_path='./09_compare-sync-time-chirp-LED-processed-track.ipynb',\n",
    "    kernel_name='porpoise_spheroid',\n",
    ")"
   ]
  },
  {
   "cell_type": "markdown",
   "metadata": {},
   "source": [
    "## 10. Filter hydrophone wav files\n",
    "\n",
    "This notebook filters all hydrophone wav files and save the filtered signals into new wav files."
   ]
  },
  {
   "cell_type": "code",
   "execution_count": 14,
   "metadata": {},
   "outputs": [
    {
     "data": {
      "application/vnd.jupyter.widget-view+json": {
       "model_id": "60e00af1e6864071af1947fa91609a63",
       "version_major": 2,
       "version_minor": 0
      },
      "text/plain": [
       "Executing:   0%|          | 0/18 [00:00<?, ?cell/s]"
      ]
     },
     "metadata": {},
     "output_type": "display_data"
    }
   ],
   "source": [
    "nb = pm.execute_notebook(\n",
    "    input_path='./10_filter-hydro-wav.ipynb',\n",
    "    output_path='./10_filter-hydro-wav.ipynb',\n",
    "    kernel_name='porpoise_spheroid',\n",
    ")"
   ]
  },
  {
   "cell_type": "markdown",
   "metadata": {},
   "source": [
    "## 11. Extract hydrophone click segments\n",
    "\n",
    "This notebook extracts click segmented detected on target hydrophones for later computation of click attributes such as RL and SNR."
   ]
  },
  {
   "cell_type": "code",
   "execution_count": 15,
   "metadata": {},
   "outputs": [
    {
     "data": {
      "application/vnd.jupyter.widget-view+json": {
       "model_id": "5d45a93ac5b241bb94a4c6d0dd701e72",
       "version_major": 2,
       "version_minor": 0
      },
      "text/plain": [
       "Executing:   0%|          | 0/19 [00:00<?, ?cell/s]"
      ]
     },
     "metadata": {},
     "output_type": "display_data"
    }
   ],
   "source": [
    "nb = pm.execute_notebook(\n",
    "    input_path='./11_extract-hydro-click-segments.ipynb',\n",
    "    output_path='./11_extract-hydro-click-segments.ipynb',\n",
    "    kernel_name='porpoise_spheroid',\n",
    ")"
   ]
  },
  {
   "cell_type": "code",
   "execution_count": null,
   "metadata": {},
   "outputs": [],
   "source": []
  },
  {
   "cell_type": "code",
   "execution_count": null,
   "metadata": {},
   "outputs": [],
   "source": []
  },
  {
   "cell_type": "code",
   "execution_count": null,
   "metadata": {},
   "outputs": [],
   "source": []
  }
 ],
 "metadata": {
  "kernelspec": {
   "display_name": "Python [conda env:porpoise_spheroid]",
   "language": "python",
   "name": "conda-env-porpoise_spheroid-py"
  },
  "language_info": {
   "codemirror_mode": {
    "name": "ipython",
    "version": 3
   },
   "file_extension": ".py",
   "mimetype": "text/x-python",
   "name": "python",
   "nbconvert_exporter": "python",
   "pygments_lexer": "ipython3",
   "version": "3.9.16"
  }
 },
 "nbformat": 4,
 "nbformat_minor": 4
}
