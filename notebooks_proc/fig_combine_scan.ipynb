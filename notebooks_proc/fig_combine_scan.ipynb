{
 "cells": [
  {
   "cell_type": "markdown",
   "id": "9bce248f",
   "metadata": {},
   "source": [
    "# Combined number of scans"
   ]
  },
  {
   "cell_type": "code",
   "execution_count": 1,
   "id": "416d0a44",
   "metadata": {},
   "outputs": [],
   "source": [
    "from pathlib import Path\n",
    "\n",
    "import matplotlib.pyplot as plt\n",
    "import numpy as np\n",
    "import pandas as pd"
   ]
  },
  {
   "cell_type": "code",
   "execution_count": 2,
   "id": "3ac7fd35",
   "metadata": {},
   "outputs": [],
   "source": [
    "from pp_utils.core import generate_data_path_dict\n",
    "from pp_utils.file_handling import df_main_loader\n",
    "from pp_utils.trial_processor import TrialProcessor\n",
    "from pp_utils import utils, utils_plot"
   ]
  },
  {
   "cell_type": "code",
   "execution_count": 3,
   "id": "0d9bfe41",
   "metadata": {},
   "outputs": [],
   "source": [
    "import pickle"
   ]
  },
  {
   "cell_type": "markdown",
   "id": "e79f29b1",
   "metadata": {},
   "source": [
    "## Set paths, load main info df and clusters"
   ]
  },
  {
   "cell_type": "code",
   "execution_count": 4,
   "id": "f098e960",
   "metadata": {},
   "outputs": [],
   "source": [
    "data_path = generate_data_path_dict(Path(\"../data_processed/\"))\n",
    "raw_path = Path(\"../data_raw/\")"
   ]
  },
  {
   "cell_type": "markdown",
   "id": "7311bfa2",
   "metadata": {},
   "source": [
    "### Data and output path"
   ]
  },
  {
   "cell_type": "code",
   "execution_count": 5,
   "id": "196faa1d",
   "metadata": {},
   "outputs": [],
   "source": [
    "output_path = data_path[\"main\"] / \"data_summary\"\n",
    "tp_path = output_path / \"trial_processor_object\""
   ]
  },
  {
   "cell_type": "code",
   "execution_count": 6,
   "id": "edecd874",
   "metadata": {},
   "outputs": [],
   "source": [
    "fig_path = Path(\"../figs\")\n",
    "if not fig_path.exists():\n",
    "    fig_path.mkdir()"
   ]
  },
  {
   "cell_type": "markdown",
   "id": "156d3f5b",
   "metadata": {},
   "source": [
    "### Load main dataframe"
   ]
  },
  {
   "cell_type": "code",
   "execution_count": 7,
   "id": "889ab7cb",
   "metadata": {},
   "outputs": [],
   "source": [
    "df_main = df_main_loader(\n",
    "    folder=data_path[\"info_csv\"], filename=\"main_info_append_09.csv\",\n",
    ")"
   ]
  },
  {
   "cell_type": "markdown",
   "id": "09fcd927",
   "metadata": {},
   "source": [
    "### Load clustering results"
   ]
  },
  {
   "cell_type": "code",
   "execution_count": 8,
   "id": "0d64a66b",
   "metadata": {},
   "outputs": [],
   "source": [
    "with open(output_path / \"clustering_7_rostrum_only.pickle\", \"rb\") as filein:\n",
    "    cluster_fnameprefix_7 = pickle.load(filein)"
   ]
  },
  {
   "cell_type": "markdown",
   "id": "b71c4346",
   "metadata": {},
   "source": [
    "### Load compiled trial info"
   ]
  },
  {
   "cell_type": "code",
   "execution_count": 9,
   "id": "594082d6",
   "metadata": {},
   "outputs": [],
   "source": [
    "df_summary = pd.read_csv(output_path / \"data_summary_all.csv\", index_col=0)"
   ]
  },
  {
   "cell_type": "code",
   "execution_count": 10,
   "id": "8cc963c3",
   "metadata": {},
   "outputs": [],
   "source": [
    "df_summary[\"TRIAL_TO_INCLUDE\"] = df_main[\"TRIAL_TO_INCLUDE\"]"
   ]
  },
  {
   "cell_type": "code",
   "execution_count": 11,
   "id": "6c2990f4",
   "metadata": {},
   "outputs": [],
   "source": [
    "df_summary[\"TCCT\"] = df_main[\"LEFT\"] + df_main[\"RIGHT\"]"
   ]
  },
  {
   "cell_type": "markdown",
   "id": "a01f17c1",
   "metadata": {},
   "source": [
    "## Sort clusters"
   ]
  },
  {
   "cell_type": "markdown",
   "id": "c18faa7a",
   "metadata": {},
   "source": [
    "### 7clusters"
   ]
  },
  {
   "cell_type": "code",
   "execution_count": 12,
   "id": "bec9093d",
   "metadata": {},
   "outputs": [],
   "source": [
    "# Clean up clusters\n",
    "# 0: TC-straight, 1: TC-very curved, 2: TC-curved (need to change sequence to: 0-2-1)\n",
    "# 3: CT-very curved, 4: CT-curved, 6: CT-straight (need to change sequence to: 6-4-3)\n",
    "df_cluster_7 = []\n",
    "for seq, fp_list in enumerate(cluster_fnameprefix_7):\n",
    "    df_sel = utils.sort_df_in_cluster(fp_list, df_summary)\n",
    "    df_cluster_7.append(df_sel)"
   ]
  },
  {
   "cell_type": "code",
   "execution_count": 13,
   "id": "b7a1d939",
   "metadata": {},
   "outputs": [],
   "source": [
    "# Change sequence\n",
    "new_seq = [0, 2, 1, 6, 4, 3]\n",
    "df_cluster_clean_7 = []\n",
    "for seq in new_seq:\n",
    "    df_cluster_clean_7.append(df_cluster_7[seq])"
   ]
  },
  {
   "cell_type": "code",
   "execution_count": 14,
   "id": "e88261d5",
   "metadata": {},
   "outputs": [
    {
     "name": "stdout",
     "output_type": "stream",
     "text": [
      "[16, 9, 16, 6, 8, 1, 23]\n",
      "[16, 16, 9, 23, 8, 6]\n"
     ]
    }
   ],
   "source": [
    "# Sanity check that we've swapped things correctly\n",
    "print([len(df) for df in df_cluster_7])\n",
    "print([len(df) for df in df_cluster_clean_7])"
   ]
  },
  {
   "cell_type": "markdown",
   "id": "35c2263a",
   "metadata": {},
   "source": [
    "## Cluster names and colors"
   ]
  },
  {
   "cell_type": "markdown",
   "id": "86887fb1",
   "metadata": {},
   "source": [
    "### M spheroid - 7 clusters"
   ]
  },
  {
   "cell_type": "code",
   "execution_count": 15,
   "id": "e6ce2afe",
   "metadata": {},
   "outputs": [],
   "source": [
    "color_cluster_7 = {\n",
    "    \"TC_straight\": \"#0077BB\",  #\"#004488\"\n",
    "    \"TC_curved1\": \"black\",\n",
    "    \"TC_curved2\": \"#EE6677\",  #\"#BB5566\"\n",
    "    \"CT_straight\": \"#762A83\",  # purple\n",
    "    \"CT_curved1\": \"black\",\n",
    "    \"CT_curved2\": \"#1B7837\",  # green\n",
    "}\n",
    "color_cluster_seq_7 = list(color_cluster_7.values())"
   ]
  },
  {
   "cell_type": "code",
   "execution_count": 16,
   "id": "263cbbac",
   "metadata": {},
   "outputs": [],
   "source": [
    "CLUSTER_STR_7 = [\n",
    "    \"TC-Straight\", \"TC-Curved-1\", \"TC-Curved-2\",\n",
    "    \"CT-Straight\", \"CT-Curved-1\", \"CT-Curved-2\"\n",
    "]"
   ]
  },
  {
   "cell_type": "markdown",
   "id": "c273973a",
   "metadata": {},
   "source": [
    "## Spheroid names and colors"
   ]
  },
  {
   "cell_type": "code",
   "execution_count": 17,
   "id": "bd475f6c",
   "metadata": {},
   "outputs": [],
   "source": [
    "SPH_COLORS = [\"w\", \"gainsboro\", \"darkgrey\"]  # L, M, S"
   ]
  },
  {
   "cell_type": "code",
   "execution_count": 18,
   "id": "8c80075f",
   "metadata": {},
   "outputs": [],
   "source": [
    "SPH_STR = [\"L\", \"M\", \"S\"]\n",
    "SPH_LABEL = [\"AR=2.9\", \"AR=1.3\", \"AR=1.1\"]"
   ]
  },
  {
   "cell_type": "code",
   "execution_count": 19,
   "id": "f858ebb6",
   "metadata": {},
   "outputs": [],
   "source": [
    "sph_tcct = [f\"{sph}_{tcct_type}\" for sph, tcct_type in zip([\"L\", \"M\", \"S\"]*2, [\"TC\"]*3+[\"CT\"]*3)]"
   ]
  },
  {
   "cell_type": "code",
   "execution_count": 20,
   "id": "9d569101",
   "metadata": {},
   "outputs": [
    {
     "data": {
      "text/plain": [
       "['L_TC', 'M_TC', 'S_TC', 'L_CT', 'M_CT', 'S_CT']"
      ]
     },
     "execution_count": 20,
     "metadata": {},
     "output_type": "execute_result"
    }
   ],
   "source": [
    "sph_tcct"
   ]
  },
  {
   "cell_type": "markdown",
   "id": "2d756610",
   "metadata": {},
   "source": [
    "## Assemble plot"
   ]
  },
  {
   "cell_type": "code",
   "execution_count": 21,
   "id": "edac9c82",
   "metadata": {},
   "outputs": [],
   "source": [
    "scan_bins = np.arange(0, 27) - 0.5\n",
    "scan_x = (scan_bins[:-1] + scan_bins[1:])/2\n",
    "scan_bar_width = 0.25"
   ]
  },
  {
   "cell_type": "code",
   "execution_count": 22,
   "id": "4c628693",
   "metadata": {},
   "outputs": [],
   "source": [
    "# Vertical shift for CT clusters\n",
    "vert_shift = 0.4"
   ]
  },
  {
   "cell_type": "code",
   "execution_count": 23,
   "id": "c104f39e",
   "metadata": {},
   "outputs": [
    {
     "data": {
      "image/png": "[encoded data removed]",
      "text/plain": [
       "<Figure size 800x800 with 5 Axes>"
      ]
     },
     "metadata": {},
     "output_type": "display_data"
    }
   ],
   "source": [
    "fig, ax = plt.subplots(2, 1, figsize=(8, 8), facecolor=\"w\")\n",
    "\n",
    "fig.subplots_adjust(hspace=0.25)\n",
    "\n",
    "\n",
    "# Different spheroids\n",
    "# ===================================\n",
    "ax_sph = ax[0]\n",
    "# ===================================\n",
    "for sph_seq, sph in enumerate([\"L\", \"M\", \"S\"]):\n",
    "    \n",
    "    for tcct_type in [\"TC\", \"CT\"]:\n",
    "\n",
    "        # CT trials -- TOP panel\n",
    "        sph_index = (\n",
    "        (df_summary[\"SPHEROID\"] == sph)\n",
    "            & (df_summary[\"CHOICE\"] == 1)\n",
    "            & df_summary[\"TRIAL_TO_INCLUDE\"]\n",
    "            & (df_summary[\"TCCT\"] == tcct_type)\n",
    "        )\n",
    "        df_wanted = df_summary[sph_index].copy()\n",
    "        ta, _ = np.histogram(df_wanted[\"scan_combined\"]-1, bins=scan_bins, density=True)\n",
    "\n",
    "        # Horiztonal bar shift\n",
    "        if sph_seq == 0:\n",
    "            shift = -scan_bar_width-0.01 # if L shift bar leftward\n",
    "        elif sph_seq == 2:\n",
    "            shift = scan_bar_width+0.01  # if S shift bar rightward\n",
    "        else:\n",
    "            shift = 0  # if M does not shift\n",
    "\n",
    "        bottom = 0 if tcct_type==\"CT\" else vert_shift  # vertical shift\n",
    "        ax_sph.bar(\n",
    "            scan_x + shift, ta, bottom=bottom, width=scan_bar_width, \n",
    "            alpha=1, color=SPH_COLORS[sph_seq], edgecolor=\"k\"\n",
    "        )\n",
    "\n",
    "# Horizontal divide line\n",
    "ax_sph.axhline(vert_shift, color=\"grey\", lw=1)\n",
    "    \n",
    "\n",
    "ax_sph.set_xlim(0, 12)\n",
    "ax_sph.set_xticks(np.arange(0, 13, 2))\n",
    "ax_sph.set_xticklabels(np.arange(0, 13, 2), fontsize=12)\n",
    "ax_sph.set_yticks(np.array([0, 0.25, 0.5, vert_shift, vert_shift+0.25, vert_shift+0.5]))\n",
    "ax_sph.set_yticklabels([0, 0.25, 0.5, 0, 0.25, 0.5], fontsize=12)\n",
    "ax_sph.set_ylim(0, vert_shift*2)\n",
    "\n",
    "\n",
    "\n",
    "# Different clusters in AR=1.3 trials\n",
    "# ===================================\n",
    "ax_clu = ax[1]\n",
    "# ===================================\n",
    "for seq in range(6):\n",
    "    ta_cluster, _ = np.histogram(\n",
    "        df_cluster_clean_7[seq][\"scan_combined\"]-1, bins=scan_bins, density=True\n",
    "    )\n",
    "\n",
    "    # Horiztonal bar shift\n",
    "    if np.mod(seq, 3) == 0:\n",
    "        shift = -scan_bar_width-0.01 # if straight shift bar leftward\n",
    "    elif np.mod(seq, 3) == 1:\n",
    "        shift = 0  # if curved 1 do not shift bar\n",
    "    else:\n",
    "        shift = scan_bar_width+0.01  # if curved 2 shift bar rightward\n",
    "    \n",
    "    bottom = vert_shift if seq <= 2 else 0\n",
    "\n",
    "    ax_clu.bar(\n",
    "        x=scan_x + shift, height=ta_cluster, width=scan_bar_width, bottom=bottom,\n",
    "        alpha=0.4, edgecolor=\"k\", color=color_cluster_seq_7[seq], label=CLUSTER_STR_7[seq],\n",
    "    )\n",
    "    \n",
    "ax_clu.axhline(vert_shift, color=\"grey\", lw=1)\n",
    "\n",
    "\n",
    "\n",
    "# Axis labels\n",
    "ax_sph.set_ylim(0, 0.25)\n",
    "ax_sph.set_yticks(np.arange(0, 0.85, 0.1))\n",
    "ax_sph.set_yticklabels([0, 0.1, 0.2, 0.3, 0, 0.1, 0.2, 0.3, 0.4], fontsize=12)\n",
    "\n",
    "ax_clu.set_ylim(0, 0.8)\n",
    "ax_clu.set_yticks(np.arange(0, 0.9, 0.1))\n",
    "ax_clu.set_yticklabels([0, 0.1, 0.2, 0.3, 0, 0.1, 0.2, 0.3, 0.4], fontsize=12)\n",
    "\n",
    "for axx in [ax_sph, ax_clu]:\n",
    "    axx.set_xticks(np.arange(0, 25, 2))\n",
    "    axx.set_xticklabels(np.arange(0, 25, 2), fontsize=12)\n",
    "    axx.set_xlim(0, 18)\n",
    "\n",
    "ax_sph.set_title(\"Comparison across trails with different spheroids\", fontsize=14)\n",
    "ax_clu.set_title(\"Comparison across trajectory AR=1.3 clusters\", fontsize=14)\n",
    "\n",
    "ax_clu.set_xlabel(\"Number of scans\", fontsize=14)\n",
    "ax_sph.set_ylabel(\"Proportion of trials\", fontsize=14)\n",
    "ax_clu.set_ylabel(\"Proportion of trials\", fontsize=14)\n",
    "\n",
    "\n",
    "\n",
    "# Plot legend\n",
    "ax_sph.text(15, 0.7, \"TC trials\", fontsize=13, fontweight=\"bold\")\n",
    "ax_sph.text(15, 0.3, \"CT trials\", fontsize=13, fontweight=\"bold\")\n",
    "ax_clu.text(15, 0.7, \"TC trials\", fontsize=13, fontweight=\"bold\")\n",
    "ax_clu.text(15, 0.3, \"CT trials\", fontsize=13, fontweight=\"bold\")\n",
    "\n",
    "\n",
    "ax_sph_pos = ax_sph.get_position()\n",
    "ax_clu_pos = ax_clu.get_position()\n",
    "\n",
    "ax_sph_mock = plt.axes(ax_sph.get_position())\n",
    "ax_sph_mock.patch.set_alpha(0)\n",
    "plt.axis(\"off\")\n",
    "for seq in range(3):\n",
    "    ax_sph_mock.bar(np.nan, np.nan,\n",
    "        alpha=0.4, edgecolor=\"k\", color=SPH_COLORS[seq], label=SPH_LABEL[seq])\n",
    "ax_sph_mock.legend(bbox_to_anchor=(0.23, 0.99), fontsize=12)\n",
    "\n",
    "ax_clu_mock1 = plt.axes(ax_clu_pos)\n",
    "ax_clu_mock1.patch.set_alpha(0)\n",
    "plt.axis(\"off\")\n",
    "for seq in range(3):\n",
    "    ax_clu_mock1.bar(np.nan, np.nan,\n",
    "        alpha=0.4, edgecolor=\"k\", color=color_cluster_seq_7[seq], label=CLUSTER_STR_7[seq])\n",
    "ax_clu_mock1.legend(bbox_to_anchor=(0.3, 1), fontsize=12)\n",
    "\n",
    "ax_clu_mock2 = plt.axes(ax_clu_pos)\n",
    "ax_clu_mock2.patch.set_alpha(0)\n",
    "plt.axis(\"off\")\n",
    "for seq in range(3):\n",
    "    ax_clu_mock2.bar(np.nan, np.nan,\n",
    "        alpha=0.4, edgecolor=\"k\", color=color_cluster_seq_7[seq+3], label=CLUSTER_STR_7[seq+3])\n",
    "ax_clu_mock2.legend(bbox_to_anchor=(0.3, 0.49), fontsize=12)\n",
    "\n",
    "\n",
    "# Add panel labels\n",
    "ax_sph.text(-1.8, 0.83, \"A\", fontsize=14, fontweight=\"bold\")\n",
    "ax_clu.text(-1.8, 0.83, \"B\", fontsize=14, fontweight=\"bold\")\n",
    "\n",
    "\n",
    "\n",
    "plt.show()\n",
    "\n",
    "fig.savefig(fig_path / \"fig_combined_scan.png\", dpi=300, bbox_inches=\"tight\")\n"
   ]
  },
  {
   "cell_type": "code",
   "execution_count": null,
   "id": "870318fa",
   "metadata": {},
   "outputs": [],
   "source": []
  },
  {
   "cell_type": "code",
   "execution_count": null,
   "id": "a470ad47",
   "metadata": {},
   "outputs": [],
   "source": []
  },
  {
   "cell_type": "code",
   "execution_count": null,
   "id": "39f34c57",
   "metadata": {},
   "outputs": [],
   "source": []
  }
 ],
 "metadata": {
  "kernelspec": {
   "display_name": "Python [conda env:porpoise_spheroid]",
   "language": "python",
   "name": "conda-env-porpoise_spheroid-py"
  },
  "language_info": {
   "codemirror_mode": {
    "name": "ipython",
    "version": 3
   },
   "file_extension": ".py",
   "mimetype": "text/x-python",
   "name": "python",
   "nbconvert_exporter": "python",
   "pygments_lexer": "ipython3",
   "version": "3.9.16"
  }
 },
 "nbformat": 4,
 "nbformat_minor": 5
}
