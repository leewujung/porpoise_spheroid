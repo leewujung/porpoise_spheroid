{
 "cells": [
  {
   "cell_type": "markdown",
   "id": "e59e4e6a",
   "metadata": {
    "papermill": {
     "duration": 0.023936,
     "end_time": "2023-04-28T23:30:18.335433",
     "exception": false,
     "start_time": "2023-04-28T23:30:18.311497",
     "status": "completed"
    },
    "tags": []
   },
   "source": [
    "# Make main dataframe will all file matching info"
   ]
  },
  {
   "cell_type": "markdown",
   "id": "62abf757",
   "metadata": {
    "papermill": {
     "duration": 0.006586,
     "end_time": "2023-04-28T23:30:18.350678",
     "exception": false,
     "start_time": "2023-04-28T23:30:18.344092",
     "status": "completed"
    },
    "tags": []
   },
   "source": [
    "This notebook is based on the previous one `analysis_notebooks/make_master_dataframe.ipynb` from May 2020 in the `pp_expt` repo. \n",
    "\n",
    "Here we update the notebook with:\n",
    "1. new directory structure to data\n",
    "2. the `executed_trials.xlsx` file, with new columns:\n",
    "    - `LED_flash` \n",
    "    - Kavin's hand-checking comments and results for porpoise tracks and target positions (`KAVIN_TRACK_COMMENTS`, `TRACK_CHECKED`, `TARGETS_CHECKED`)\n",
    "3. manual updates of `rough_chirp_time` in order to make chirp detection work. The cells are from notebook `20210117_update-master-df.ipynb`"
   ]
  },
  {
   "cell_type": "code",
   "execution_count": 1,
   "id": "10bfa934",
   "metadata": {
    "execution": {
     "iopub.execute_input": "2023-04-28T23:30:18.364542Z",
     "iopub.status.busy": "2023-04-28T23:30:18.364193Z",
     "iopub.status.idle": "2023-04-28T23:30:18.927631Z",
     "shell.execute_reply": "2023-04-28T23:30:18.927322Z"
    },
    "papermill": {
     "duration": 0.571827,
     "end_time": "2023-04-28T23:30:18.928804",
     "exception": false,
     "start_time": "2023-04-28T23:30:18.356977",
     "status": "completed"
    },
    "tags": []
   },
   "outputs": [],
   "source": [
    "from pathlib import Path\n",
    "import pandas as pd\n",
    "import numpy as np\n",
    "import matplotlib.pyplot as plt\n",
    "import re\n",
    "import linecache\n",
    "import cv2"
   ]
  },
  {
   "cell_type": "markdown",
   "id": "fafd4905",
   "metadata": {
    "papermill": {
     "duration": 0.004858,
     "end_time": "2023-04-28T23:30:18.938827",
     "exception": false,
     "start_time": "2023-04-28T23:30:18.933969",
     "status": "completed"
    },
    "tags": []
   },
   "source": [
    "## Set up paths"
   ]
  },
  {
   "cell_type": "code",
   "execution_count": 2,
   "id": "ad4755e0",
   "metadata": {
    "execution": {
     "iopub.execute_input": "2023-04-28T23:30:18.948927Z",
     "iopub.status.busy": "2023-04-28T23:30:18.948768Z",
     "iopub.status.idle": "2023-04-28T23:30:18.950661Z",
     "shell.execute_reply": "2023-04-28T23:30:18.950419Z"
    },
    "papermill": {
     "duration": 0.007897,
     "end_time": "2023-04-28T23:30:18.951475",
     "exception": false,
     "start_time": "2023-04-28T23:30:18.943578",
     "status": "completed"
    },
    "tags": []
   },
   "outputs": [],
   "source": [
    "raw_path = Path(\"../data_raw/\")\n",
    "analysis_path = Path(\"../data_processed/\")"
   ]
  },
  {
   "cell_type": "markdown",
   "id": "b44068bb",
   "metadata": {
    "papermill": {
     "duration": 0.004662,
     "end_time": "2023-04-28T23:30:18.960865",
     "exception": false,
     "start_time": "2023-04-28T23:30:18.956203",
     "status": "completed"
    },
    "tags": []
   },
   "source": [
    "## Main info spreadsheet"
   ]
  },
  {
   "cell_type": "markdown",
   "id": "44089f3d",
   "metadata": {
    "papermill": {
     "duration": 0.004601,
     "end_time": "2023-04-28T23:30:18.970061",
     "exception": false,
     "start_time": "2023-04-28T23:30:18.965460",
     "status": "completed"
    },
    "tags": []
   },
   "source": [
    "Below `executed_trials.xlsx` was copied from the other repo in folder `pp_expt/trial_sequence/executed_trials.xlsx`. This file was created after the experiment was completed and more info was added to it as data analysis progressed."
   ]
  },
  {
   "cell_type": "code",
   "execution_count": 3,
   "id": "54d1aaba",
   "metadata": {
    "execution": {
     "iopub.execute_input": "2023-04-28T23:30:18.979800Z",
     "iopub.status.busy": "2023-04-28T23:30:18.979595Z",
     "iopub.status.idle": "2023-04-28T23:30:19.185801Z",
     "shell.execute_reply": "2023-04-28T23:30:19.185493Z"
    },
    "papermill": {
     "duration": 0.212285,
     "end_time": "2023-04-28T23:30:19.186916",
     "exception": false,
     "start_time": "2023-04-28T23:30:18.974631",
     "status": "completed"
    },
    "tags": []
   },
   "outputs": [],
   "source": [
    "trial_spreadsheet = analysis_path / 'all_info_csv/executed_trials.xlsx'\n",
    "df_main = pd.read_excel(trial_spreadsheet)"
   ]
  },
  {
   "cell_type": "code",
   "execution_count": 4,
   "id": "9316f015",
   "metadata": {
    "execution": {
     "iopub.execute_input": "2023-04-28T23:30:19.197436Z",
     "iopub.status.busy": "2023-04-28T23:30:19.197321Z",
     "iopub.status.idle": "2023-04-28T23:30:19.208727Z",
     "shell.execute_reply": "2023-04-28T23:30:19.208482Z"
    },
    "papermill": {
     "duration": 0.017613,
     "end_time": "2023-04-28T23:30:19.209656",
     "exception": false,
     "start_time": "2023-04-28T23:30:19.192043",
     "status": "completed"
    },
    "tags": []
   },
   "outputs": [
    {
     "data": {
      "text/html": [
       "<div>\n",
       "<style scoped>\n",
       "    .dataframe tbody tr th:only-of-type {\n",
       "        vertical-align: middle;\n",
       "    }\n",
       "\n",
       "    .dataframe tbody tr th {\n",
       "        vertical-align: top;\n",
       "    }\n",
       "\n",
       "    .dataframe thead th {\n",
       "        text-align: right;\n",
       "    }\n",
       "</style>\n",
       "<table border=\"1\" class=\"dataframe\">\n",
       "  <thead>\n",
       "    <tr style=\"text-align: right;\">\n",
       "      <th></th>\n",
       "      <th>DATE</th>\n",
       "      <th>SESSION</th>\n",
       "      <th>PERSONNEL</th>\n",
       "      <th>TRIAL</th>\n",
       "      <th>LEFT</th>\n",
       "      <th>RIGHT</th>\n",
       "      <th>ANGLE</th>\n",
       "      <th>SPHEROID</th>\n",
       "      <th>ASPECT_RATIO</th>\n",
       "      <th>SEQUENCE</th>\n",
       "      <th>...</th>\n",
       "      <th>KAVIN_TRACK_COMMENTS</th>\n",
       "      <th>TRACK_CHECKED</th>\n",
       "      <th>TARGETS_CHECKED</th>\n",
       "      <th>LED_flash</th>\n",
       "      <th>TOUCH_FRAME</th>\n",
       "      <th>TRIAL_TO_INCLUDE</th>\n",
       "      <th>TRACK_ISSUES</th>\n",
       "      <th>LATE_TURN</th>\n",
       "      <th>EYECUP_ISSUE</th>\n",
       "      <th>TRACK_USED</th>\n",
       "    </tr>\n",
       "  </thead>\n",
       "  <tbody>\n",
       "    <tr>\n",
       "      <th>0</th>\n",
       "      <td>20190625</td>\n",
       "      <td>1</td>\n",
       "      <td>WJ, ML</td>\n",
       "      <td>0</td>\n",
       "      <td>T</td>\n",
       "      <td>X</td>\n",
       "      <td>1</td>\n",
       "      <td>X</td>\n",
       "      <td>0.0</td>\n",
       "      <td>1</td>\n",
       "      <td>...</td>\n",
       "      <td>NaN</td>\n",
       "      <td>NO</td>\n",
       "      <td>NO</td>\n",
       "      <td>N</td>\n",
       "      <td>8164.0</td>\n",
       "      <td>NaN</td>\n",
       "      <td>NaN</td>\n",
       "      <td>NaN</td>\n",
       "      <td>NaN</td>\n",
       "      <td>NaN</td>\n",
       "    </tr>\n",
       "    <tr>\n",
       "      <th>1</th>\n",
       "      <td>20190625</td>\n",
       "      <td>1</td>\n",
       "      <td>WJ, ML</td>\n",
       "      <td>0</td>\n",
       "      <td>T</td>\n",
       "      <td>X</td>\n",
       "      <td>1</td>\n",
       "      <td>X</td>\n",
       "      <td>0.0</td>\n",
       "      <td>1</td>\n",
       "      <td>...</td>\n",
       "      <td>NaN</td>\n",
       "      <td>x</td>\n",
       "      <td>x</td>\n",
       "      <td>N</td>\n",
       "      <td>12094.0</td>\n",
       "      <td>NaN</td>\n",
       "      <td>NaN</td>\n",
       "      <td>NaN</td>\n",
       "      <td>NaN</td>\n",
       "      <td>NaN</td>\n",
       "    </tr>\n",
       "    <tr>\n",
       "      <th>2</th>\n",
       "      <td>20190625</td>\n",
       "      <td>1</td>\n",
       "      <td>WJ, ML</td>\n",
       "      <td>1</td>\n",
       "      <td>T</td>\n",
       "      <td>C</td>\n",
       "      <td>1</td>\n",
       "      <td>L</td>\n",
       "      <td>2.9</td>\n",
       "      <td>1</td>\n",
       "      <td>...</td>\n",
       "      <td>NaN</td>\n",
       "      <td>x</td>\n",
       "      <td>x</td>\n",
       "      <td>N</td>\n",
       "      <td>15961.0</td>\n",
       "      <td>Y</td>\n",
       "      <td>NaN</td>\n",
       "      <td>NaN</td>\n",
       "      <td>NaN</td>\n",
       "      <td>NaN</td>\n",
       "    </tr>\n",
       "    <tr>\n",
       "      <th>3</th>\n",
       "      <td>20190625</td>\n",
       "      <td>1</td>\n",
       "      <td>WJ, ML</td>\n",
       "      <td>2</td>\n",
       "      <td>C</td>\n",
       "      <td>T</td>\n",
       "      <td>1</td>\n",
       "      <td>L</td>\n",
       "      <td>2.9</td>\n",
       "      <td>1</td>\n",
       "      <td>...</td>\n",
       "      <td>NaN</td>\n",
       "      <td>x</td>\n",
       "      <td>x</td>\n",
       "      <td>N</td>\n",
       "      <td>20375.0</td>\n",
       "      <td>Y</td>\n",
       "      <td>NaN</td>\n",
       "      <td>NaN</td>\n",
       "      <td>NaN</td>\n",
       "      <td>NaN</td>\n",
       "    </tr>\n",
       "    <tr>\n",
       "      <th>4</th>\n",
       "      <td>20190625</td>\n",
       "      <td>1</td>\n",
       "      <td>WJ, ML</td>\n",
       "      <td>3</td>\n",
       "      <td>T</td>\n",
       "      <td>C</td>\n",
       "      <td>1</td>\n",
       "      <td>L</td>\n",
       "      <td>2.9</td>\n",
       "      <td>1</td>\n",
       "      <td>...</td>\n",
       "      <td>NaN</td>\n",
       "      <td>x</td>\n",
       "      <td>x</td>\n",
       "      <td>N</td>\n",
       "      <td>23042.0</td>\n",
       "      <td>Y</td>\n",
       "      <td>NaN</td>\n",
       "      <td>NaN</td>\n",
       "      <td>NaN</td>\n",
       "      <td>NaN</td>\n",
       "    </tr>\n",
       "    <tr>\n",
       "      <th>...</th>\n",
       "      <td>...</td>\n",
       "      <td>...</td>\n",
       "      <td>...</td>\n",
       "      <td>...</td>\n",
       "      <td>...</td>\n",
       "      <td>...</td>\n",
       "      <td>...</td>\n",
       "      <td>...</td>\n",
       "      <td>...</td>\n",
       "      <td>...</td>\n",
       "      <td>...</td>\n",
       "      <td>...</td>\n",
       "      <td>...</td>\n",
       "      <td>...</td>\n",
       "      <td>...</td>\n",
       "      <td>...</td>\n",
       "      <td>...</td>\n",
       "      <td>...</td>\n",
       "      <td>...</td>\n",
       "      <td>...</td>\n",
       "      <td>...</td>\n",
       "    </tr>\n",
       "    <tr>\n",
       "      <th>243</th>\n",
       "      <td>20190704</td>\n",
       "      <td>3</td>\n",
       "      <td>ML</td>\n",
       "      <td>8</td>\n",
       "      <td>T</td>\n",
       "      <td>C</td>\n",
       "      <td>1</td>\n",
       "      <td>M</td>\n",
       "      <td>1.3</td>\n",
       "      <td>24</td>\n",
       "      <td>...</td>\n",
       "      <td>NaN</td>\n",
       "      <td>x</td>\n",
       "      <td>x</td>\n",
       "      <td>Y</td>\n",
       "      <td>23209.0</td>\n",
       "      <td>Y</td>\n",
       "      <td>NaN</td>\n",
       "      <td>NaN</td>\n",
       "      <td>NaN</td>\n",
       "      <td>NaN</td>\n",
       "    </tr>\n",
       "    <tr>\n",
       "      <th>244</th>\n",
       "      <td>20190704</td>\n",
       "      <td>3</td>\n",
       "      <td>ML</td>\n",
       "      <td>9</td>\n",
       "      <td>C</td>\n",
       "      <td>T</td>\n",
       "      <td>3</td>\n",
       "      <td>M</td>\n",
       "      <td>1.3</td>\n",
       "      <td>24</td>\n",
       "      <td>...</td>\n",
       "      <td>NaN</td>\n",
       "      <td>x</td>\n",
       "      <td>x</td>\n",
       "      <td>Y</td>\n",
       "      <td>24955.0</td>\n",
       "      <td>Y</td>\n",
       "      <td>NaN</td>\n",
       "      <td>NaN</td>\n",
       "      <td>NaN</td>\n",
       "      <td>NaN</td>\n",
       "    </tr>\n",
       "    <tr>\n",
       "      <th>245</th>\n",
       "      <td>20190704</td>\n",
       "      <td>3</td>\n",
       "      <td>ML</td>\n",
       "      <td>10</td>\n",
       "      <td>T</td>\n",
       "      <td>C</td>\n",
       "      <td>3</td>\n",
       "      <td>M</td>\n",
       "      <td>1.3</td>\n",
       "      <td>24</td>\n",
       "      <td>...</td>\n",
       "      <td>NaN</td>\n",
       "      <td>x</td>\n",
       "      <td>x</td>\n",
       "      <td>Y</td>\n",
       "      <td>26608.0</td>\n",
       "      <td>Y</td>\n",
       "      <td>NaN</td>\n",
       "      <td>NaN</td>\n",
       "      <td>NaN</td>\n",
       "      <td>NaN</td>\n",
       "    </tr>\n",
       "    <tr>\n",
       "      <th>246</th>\n",
       "      <td>20190704</td>\n",
       "      <td>3</td>\n",
       "      <td>ML</td>\n",
       "      <td>11</td>\n",
       "      <td>T</td>\n",
       "      <td>C</td>\n",
       "      <td>3</td>\n",
       "      <td>M</td>\n",
       "      <td>1.3</td>\n",
       "      <td>24</td>\n",
       "      <td>...</td>\n",
       "      <td>NaN</td>\n",
       "      <td>x</td>\n",
       "      <td>x</td>\n",
       "      <td>Y</td>\n",
       "      <td>28091.0</td>\n",
       "      <td>Y</td>\n",
       "      <td>NaN</td>\n",
       "      <td>NaN</td>\n",
       "      <td>NaN</td>\n",
       "      <td>NaN</td>\n",
       "    </tr>\n",
       "    <tr>\n",
       "      <th>247</th>\n",
       "      <td>20190704</td>\n",
       "      <td>3</td>\n",
       "      <td>ML</td>\n",
       "      <td>12</td>\n",
       "      <td>T</td>\n",
       "      <td>C</td>\n",
       "      <td>4</td>\n",
       "      <td>M</td>\n",
       "      <td>1.3</td>\n",
       "      <td>24</td>\n",
       "      <td>...</td>\n",
       "      <td>NaN</td>\n",
       "      <td>x</td>\n",
       "      <td>x</td>\n",
       "      <td>Y</td>\n",
       "      <td>31865.0</td>\n",
       "      <td>Y</td>\n",
       "      <td>NaN</td>\n",
       "      <td>NaN</td>\n",
       "      <td>NaN</td>\n",
       "      <td>NaN</td>\n",
       "    </tr>\n",
       "  </tbody>\n",
       "</table>\n",
       "<p>248 rows × 30 columns</p>\n",
       "</div>"
      ],
      "text/plain": [
       "         DATE  SESSION PERSONNEL  TRIAL LEFT RIGHT  ANGLE SPHEROID  \\\n",
       "0    20190625        1    WJ, ML      0    T     X      1        X   \n",
       "1    20190625        1    WJ, ML      0    T     X      1        X   \n",
       "2    20190625        1    WJ, ML      1    T     C      1        L   \n",
       "3    20190625        1    WJ, ML      2    C     T      1        L   \n",
       "4    20190625        1    WJ, ML      3    T     C      1        L   \n",
       "..        ...      ...       ...    ...  ...   ...    ...      ...   \n",
       "243  20190704        3        ML      8    T     C      1        M   \n",
       "244  20190704        3        ML      9    C     T      3        M   \n",
       "245  20190704        3        ML     10    T     C      3        M   \n",
       "246  20190704        3        ML     11    T     C      3        M   \n",
       "247  20190704        3        ML     12    T     C      4        M   \n",
       "\n",
       "     ASPECT_RATIO  SEQUENCE  ...  KAVIN_TRACK_COMMENTS TRACK_CHECKED  \\\n",
       "0             0.0         1  ...                   NaN            NO   \n",
       "1             0.0         1  ...                   NaN             x   \n",
       "2             2.9         1  ...                   NaN             x   \n",
       "3             2.9         1  ...                   NaN             x   \n",
       "4             2.9         1  ...                   NaN             x   \n",
       "..            ...       ...  ...                   ...           ...   \n",
       "243           1.3        24  ...                   NaN             x   \n",
       "244           1.3        24  ...                   NaN             x   \n",
       "245           1.3        24  ...                   NaN             x   \n",
       "246           1.3        24  ...                   NaN             x   \n",
       "247           1.3        24  ...                   NaN             x   \n",
       "\n",
       "    TARGETS_CHECKED LED_flash TOUCH_FRAME TRIAL_TO_INCLUDE TRACK_ISSUES  \\\n",
       "0                NO         N      8164.0              NaN          NaN   \n",
       "1                 x         N     12094.0              NaN          NaN   \n",
       "2                 x         N     15961.0                Y          NaN   \n",
       "3                 x         N     20375.0                Y          NaN   \n",
       "4                 x         N     23042.0                Y          NaN   \n",
       "..              ...       ...         ...              ...          ...   \n",
       "243               x         Y     23209.0                Y          NaN   \n",
       "244               x         Y     24955.0                Y          NaN   \n",
       "245               x         Y     26608.0                Y          NaN   \n",
       "246               x         Y     28091.0                Y          NaN   \n",
       "247               x         Y     31865.0                Y          NaN   \n",
       "\n",
       "    LATE_TURN  EYECUP_ISSUE  TRACK_USED  \n",
       "0         NaN           NaN         NaN  \n",
       "1         NaN           NaN         NaN  \n",
       "2         NaN           NaN         NaN  \n",
       "3         NaN           NaN         NaN  \n",
       "4         NaN           NaN         NaN  \n",
       "..        ...           ...         ...  \n",
       "243       NaN           NaN         NaN  \n",
       "244       NaN           NaN         NaN  \n",
       "245       NaN           NaN         NaN  \n",
       "246       NaN           NaN         NaN  \n",
       "247       NaN           NaN         NaN  \n",
       "\n",
       "[248 rows x 30 columns]"
      ]
     },
     "execution_count": 4,
     "metadata": {},
     "output_type": "execute_result"
    }
   ],
   "source": [
    "df_main"
   ]
  },
  {
   "cell_type": "markdown",
   "id": "b437c881",
   "metadata": {
    "papermill": {
     "duration": 0.004831,
     "end_time": "2023-04-28T23:30:19.219436",
     "exception": false,
     "start_time": "2023-04-28T23:30:19.214605",
     "status": "completed"
    },
    "tags": []
   },
   "source": [
    "## DTAG trial info"
   ]
  },
  {
   "cell_type": "code",
   "execution_count": 5,
   "id": "ad004aee",
   "metadata": {
    "execution": {
     "iopub.execute_input": "2023-04-28T23:30:19.229539Z",
     "iopub.status.busy": "2023-04-28T23:30:19.229408Z",
     "iopub.status.idle": "2023-04-28T23:30:19.231238Z",
     "shell.execute_reply": "2023-04-28T23:30:19.230972Z"
    },
    "papermill": {
     "duration": 0.007975,
     "end_time": "2023-04-28T23:30:19.232139",
     "exception": false,
     "start_time": "2023-04-28T23:30:19.224164",
     "status": "completed"
    },
    "tags": []
   },
   "outputs": [],
   "source": [
    "dtag_detect_path = analysis_path / 'dtag/dtag_detect_apr2020'"
   ]
  },
  {
   "cell_type": "code",
   "execution_count": 6,
   "id": "d5b7bd15",
   "metadata": {
    "execution": {
     "iopub.execute_input": "2023-04-28T23:30:19.243565Z",
     "iopub.status.busy": "2023-04-28T23:30:19.243416Z",
     "iopub.status.idle": "2023-04-28T23:30:19.276153Z",
     "shell.execute_reply": "2023-04-28T23:30:19.275852Z"
    },
    "papermill": {
     "duration": 0.039922,
     "end_time": "2023-04-28T23:30:19.277335",
     "exception": false,
     "start_time": "2023-04-28T23:30:19.237413",
     "status": "completed"
    },
    "tags": []
   },
   "outputs": [],
   "source": [
    "df_dtag_trial = pd.read_excel(\n",
    "    dtag_detect_path / 'trial_time_diff_calc_sync_time.xlsx',\n",
    "    skiprows=1, index_col=0\n",
    ")"
   ]
  },
  {
   "cell_type": "code",
   "execution_count": 7,
   "id": "82628f90",
   "metadata": {
    "execution": {
     "iopub.execute_input": "2023-04-28T23:30:19.288664Z",
     "iopub.status.busy": "2023-04-28T23:30:19.288505Z",
     "iopub.status.idle": "2023-04-28T23:30:19.291746Z",
     "shell.execute_reply": "2023-04-28T23:30:19.291442Z"
    },
    "papermill": {
     "duration": 0.009979,
     "end_time": "2023-04-28T23:30:19.292648",
     "exception": false,
     "start_time": "2023-04-28T23:30:19.282669",
     "status": "completed"
    },
    "tags": []
   },
   "outputs": [],
   "source": [
    "# Drop rows that are not real trial entries\n",
    "df_dtag_trial.dropna(subset=['start_time', 'end_time'], inplace=True)\n",
    "df_dtag_trial.reset_index(drop=True, inplace=True)"
   ]
  },
  {
   "cell_type": "markdown",
   "id": "893ee5af",
   "metadata": {
    "papermill": {
     "duration": 0.00557,
     "end_time": "2023-04-28T23:30:19.303852",
     "exception": false,
     "start_time": "2023-04-28T23:30:19.298282",
     "status": "completed"
    },
    "tags": []
   },
   "source": [
    "### Append corresponding wav file to DTAG trial info dataframe"
   ]
  },
  {
   "cell_type": "code",
   "execution_count": 8,
   "id": "95d935e7",
   "metadata": {
    "execution": {
     "iopub.execute_input": "2023-04-28T23:30:19.315183Z",
     "iopub.status.busy": "2023-04-28T23:30:19.315018Z",
     "iopub.status.idle": "2023-04-28T23:30:19.317560Z",
     "shell.execute_reply": "2023-04-28T23:30:19.317287Z"
    },
    "papermill": {
     "duration": 0.009347,
     "end_time": "2023-04-28T23:30:19.318512",
     "exception": false,
     "start_time": "2023-04-28T23:30:19.309165",
     "status": "completed"
    },
    "tags": []
   },
   "outputs": [],
   "source": [
    "all_wave_files = str(dtag_detect_path / 'all_dtag_wav_files.txt')\n",
    "lines = linecache.getlines(all_wave_files)"
   ]
  },
  {
   "cell_type": "code",
   "execution_count": 9,
   "id": "6d01fac3",
   "metadata": {
    "execution": {
     "iopub.execute_input": "2023-04-28T23:30:19.329978Z",
     "iopub.status.busy": "2023-04-28T23:30:19.329832Z",
     "iopub.status.idle": "2023-04-28T23:30:19.331875Z",
     "shell.execute_reply": "2023-04-28T23:30:19.331604Z"
    },
    "papermill": {
     "duration": 0.008816,
     "end_time": "2023-04-28T23:30:19.332708",
     "exception": false,
     "start_time": "2023-04-28T23:30:19.323892",
     "status": "completed"
    },
    "tags": []
   },
   "outputs": [],
   "source": [
    "wav_fname = []\n",
    "for ln in range(3, len(lines)):\n",
    "    wav_fname.append(lines[ln].rstrip())"
   ]
  },
  {
   "cell_type": "code",
   "execution_count": 10,
   "id": "881e5a80",
   "metadata": {
    "execution": {
     "iopub.execute_input": "2023-04-28T23:30:19.343880Z",
     "iopub.status.busy": "2023-04-28T23:30:19.343690Z",
     "iopub.status.idle": "2023-04-28T23:30:19.346396Z",
     "shell.execute_reply": "2023-04-28T23:30:19.346044Z"
    },
    "papermill": {
     "duration": 0.009717,
     "end_time": "2023-04-28T23:30:19.347506",
     "exception": false,
     "start_time": "2023-04-28T23:30:19.337789",
     "status": "completed"
    },
    "tags": []
   },
   "outputs": [],
   "source": [
    "pattern = re.compile('^20190(\\d{3})/session(\\d{1})/dtag/pp19_(\\d{3})(\\w{1})_\\w+')"
   ]
  },
  {
   "cell_type": "code",
   "execution_count": 11,
   "id": "3397a097",
   "metadata": {
    "execution": {
     "iopub.execute_input": "2023-04-28T23:30:19.358441Z",
     "iopub.status.busy": "2023-04-28T23:30:19.358304Z",
     "iopub.status.idle": "2023-04-28T23:30:19.362139Z",
     "shell.execute_reply": "2023-04-28T23:30:19.361788Z"
    },
    "papermill": {
     "duration": 0.010431,
     "end_time": "2023-04-28T23:30:19.363110",
     "exception": false,
     "start_time": "2023-04-28T23:30:19.352679",
     "status": "completed"
    },
    "tags": []
   },
   "outputs": [
    {
     "name": "stdout",
     "output_type": "stream",
     "text": [
      "Remove the following entries since they are the second \\(emtpy\\) wav files:\n"
     ]
    },
    {
     "data": {
      "text/plain": [
       "['20190701/session2/dtag/pp19_182b_045.wav',\n",
       " '20190701/session1/dtag/pp19_182a_043.wav',\n",
       " '20190628/session3/dtag/pp19_179c_041.wav',\n",
       " '20190627/session2/dtag/pp19_178b_036.wav',\n",
       " '20190625/session3/dtag/pp19_176c_030.wav']"
      ]
     },
     "execution_count": 11,
     "metadata": {},
     "output_type": "execute_result"
    }
   ],
   "source": [
    "# Remove the 2nd wav file from the same trial\n",
    "line_to_del = []\n",
    "a_last = pattern.match(wav_fname[0])\n",
    "for seq,wf in enumerate(wav_fname):\n",
    "    if seq!=0:\n",
    "        a_tmp = pattern.match(wf)\n",
    "        if a_tmp.groups() == a_last.groups():\n",
    "            line_to_del.append(seq)\n",
    "        a_last = a_tmp\n",
    "        \n",
    "print('Remove the following entries since they are the second \\(emtpy\\) wav files:')\n",
    "[wav_fname.pop(ln) for ln in line_to_del[::-1]] "
   ]
  },
  {
   "cell_type": "code",
   "execution_count": 12,
   "id": "9278ffa7",
   "metadata": {
    "execution": {
     "iopub.execute_input": "2023-04-28T23:30:19.373929Z",
     "iopub.status.busy": "2023-04-28T23:30:19.373791Z",
     "iopub.status.idle": "2023-04-28T23:30:19.377811Z",
     "shell.execute_reply": "2023-04-28T23:30:19.377490Z"
    },
    "papermill": {
     "duration": 0.010318,
     "end_time": "2023-04-28T23:30:19.378649",
     "exception": false,
     "start_time": "2023-04-28T23:30:19.368331",
     "status": "completed"
    },
    "tags": []
   },
   "outputs": [],
   "source": [
    "wlist = []\n",
    "for seq, gp in enumerate(df_dtag_trial.groupby('session')):\n",
    "    rep_num = gp[1]['session'].count()\n",
    "    wlist += [wav_fname[seq]] * rep_num"
   ]
  },
  {
   "cell_type": "code",
   "execution_count": 13,
   "id": "7cc9aa62",
   "metadata": {
    "execution": {
     "iopub.execute_input": "2023-04-28T23:30:19.389051Z",
     "iopub.status.busy": "2023-04-28T23:30:19.388919Z",
     "iopub.status.idle": "2023-04-28T23:30:19.390980Z",
     "shell.execute_reply": "2023-04-28T23:30:19.390664Z"
    },
    "papermill": {
     "duration": 0.008268,
     "end_time": "2023-04-28T23:30:19.391868",
     "exception": false,
     "start_time": "2023-04-28T23:30:19.383600",
     "status": "completed"
    },
    "tags": []
   },
   "outputs": [],
   "source": [
    "df_dtag_trial['wav_file'] = wlist"
   ]
  },
  {
   "cell_type": "markdown",
   "id": "004edbcd",
   "metadata": {
    "papermill": {
     "duration": 0.004847,
     "end_time": "2023-04-28T23:30:19.401646",
     "exception": false,
     "start_time": "2023-04-28T23:30:19.396799",
     "status": "completed"
    },
    "tags": []
   },
   "source": [
    "## DLC labeled tracks"
   ]
  },
  {
   "cell_type": "code",
   "execution_count": 14,
   "id": "3d446dc2",
   "metadata": {
    "execution": {
     "iopub.execute_input": "2023-04-28T23:30:19.412387Z",
     "iopub.status.busy": "2023-04-28T23:30:19.412259Z",
     "iopub.status.idle": "2023-04-28T23:30:19.414663Z",
     "shell.execute_reply": "2023-04-28T23:30:19.414402Z"
    },
    "papermill": {
     "duration": 0.008812,
     "end_time": "2023-04-28T23:30:19.415530",
     "exception": false,
     "start_time": "2023-04-28T23:30:19.406718",
     "status": "completed"
    },
    "tags": []
   },
   "outputs": [
    {
     "data": {
      "text/plain": [
       "PosixPath('../data_processed/video_dlc_apr2020/combined_dlc_trial.csv')"
      ]
     },
     "execution_count": 14,
     "metadata": {},
     "output_type": "execute_result"
    }
   ],
   "source": [
    "all_dlc_sessions = analysis_path / 'video_dlc_apr2020/combined_dlc_trial.csv'\n",
    "all_dlc_sessions"
   ]
  },
  {
   "cell_type": "code",
   "execution_count": 15,
   "id": "1cf9609a",
   "metadata": {
    "execution": {
     "iopub.execute_input": "2023-04-28T23:30:19.425911Z",
     "iopub.status.busy": "2023-04-28T23:30:19.425805Z",
     "iopub.status.idle": "2023-04-28T23:30:19.432351Z",
     "shell.execute_reply": "2023-04-28T23:30:19.432105Z"
    },
    "papermill": {
     "duration": 0.012775,
     "end_time": "2023-04-28T23:30:19.433256",
     "exception": false,
     "start_time": "2023-04-28T23:30:19.420481",
     "status": "completed"
    },
    "tags": []
   },
   "outputs": [
    {
     "data": {
      "text/html": [
       "<div>\n",
       "<style scoped>\n",
       "    .dataframe tbody tr th:only-of-type {\n",
       "        vertical-align: middle;\n",
       "    }\n",
       "\n",
       "    .dataframe tbody tr th {\n",
       "        vertical-align: top;\n",
       "    }\n",
       "\n",
       "    .dataframe thead th {\n",
       "        text-align: right;\n",
       "    }\n",
       "</style>\n",
       "<table border=\"1\" class=\"dataframe\">\n",
       "  <thead>\n",
       "    <tr style=\"text-align: right;\">\n",
       "      <th></th>\n",
       "      <th>date</th>\n",
       "      <th>session</th>\n",
       "      <th>trial</th>\n",
       "      <th>gopro_video</th>\n",
       "      <th>labeled_h5</th>\n",
       "    </tr>\n",
       "  </thead>\n",
       "  <tbody>\n",
       "    <tr>\n",
       "      <th>0</th>\n",
       "      <td>20190625</td>\n",
       "      <td>1</td>\n",
       "      <td>00_1</td>\n",
       "      <td>GOPR1466</td>\n",
       "      <td>GOPR1466_20190625_s1_t00_1DLC_resnet50_muri-fb...</td>\n",
       "    </tr>\n",
       "    <tr>\n",
       "      <th>1</th>\n",
       "      <td>20190625</td>\n",
       "      <td>1</td>\n",
       "      <td>00_2</td>\n",
       "      <td>GOPR1466</td>\n",
       "      <td>GOPR1466_20190625_s1_t00_2DLC_resnet50_muri-fb...</td>\n",
       "    </tr>\n",
       "    <tr>\n",
       "      <th>2</th>\n",
       "      <td>20190625</td>\n",
       "      <td>1</td>\n",
       "      <td>01</td>\n",
       "      <td>GOPR1466</td>\n",
       "      <td>GOPR1466_20190625_s1_t01DLC_resnet50_muri-fb-j...</td>\n",
       "    </tr>\n",
       "    <tr>\n",
       "      <th>3</th>\n",
       "      <td>20190625</td>\n",
       "      <td>1</td>\n",
       "      <td>02</td>\n",
       "      <td>GOPR1466</td>\n",
       "      <td>GOPR1466_20190625_s1_t02DLC_resnet50_muri-fb-j...</td>\n",
       "    </tr>\n",
       "    <tr>\n",
       "      <th>4</th>\n",
       "      <td>20190625</td>\n",
       "      <td>1</td>\n",
       "      <td>03</td>\n",
       "      <td>GOPR1466</td>\n",
       "      <td>GOPR1466_20190625_s1_t03DLC_resnet50_muri-fb-j...</td>\n",
       "    </tr>\n",
       "    <tr>\n",
       "      <th>...</th>\n",
       "      <td>...</td>\n",
       "      <td>...</td>\n",
       "      <td>...</td>\n",
       "      <td>...</td>\n",
       "      <td>...</td>\n",
       "    </tr>\n",
       "    <tr>\n",
       "      <th>243</th>\n",
       "      <td>20190704</td>\n",
       "      <td>3</td>\n",
       "      <td>08</td>\n",
       "      <td>GOPR1489</td>\n",
       "      <td>GOPR1489_20190704_s3_t08DLC_resnet50_muri-fb-j...</td>\n",
       "    </tr>\n",
       "    <tr>\n",
       "      <th>244</th>\n",
       "      <td>20190704</td>\n",
       "      <td>3</td>\n",
       "      <td>09</td>\n",
       "      <td>GOPR1489</td>\n",
       "      <td>GOPR1489_20190704_s3_t09DLC_resnet50_muri-fb-j...</td>\n",
       "    </tr>\n",
       "    <tr>\n",
       "      <th>245</th>\n",
       "      <td>20190704</td>\n",
       "      <td>3</td>\n",
       "      <td>10</td>\n",
       "      <td>GOPR1489</td>\n",
       "      <td>GOPR1489_20190704_s3_t10DLC_resnet50_muri-fb-j...</td>\n",
       "    </tr>\n",
       "    <tr>\n",
       "      <th>246</th>\n",
       "      <td>20190704</td>\n",
       "      <td>3</td>\n",
       "      <td>11</td>\n",
       "      <td>GOPR1489</td>\n",
       "      <td>GOPR1489_20190704_s3_t11DLC_resnet50_muri-fb-j...</td>\n",
       "    </tr>\n",
       "    <tr>\n",
       "      <th>247</th>\n",
       "      <td>20190704</td>\n",
       "      <td>3</td>\n",
       "      <td>12_1</td>\n",
       "      <td>GOPR1489</td>\n",
       "      <td>GOPR1489_20190704_s3_t12_1DLC_resnet50_muri-fb...</td>\n",
       "    </tr>\n",
       "  </tbody>\n",
       "</table>\n",
       "<p>248 rows × 5 columns</p>\n",
       "</div>"
      ],
      "text/plain": [
       "         date  session trial gopro_video  \\\n",
       "0    20190625        1  00_1    GOPR1466   \n",
       "1    20190625        1  00_2    GOPR1466   \n",
       "2    20190625        1    01    GOPR1466   \n",
       "3    20190625        1    02    GOPR1466   \n",
       "4    20190625        1    03    GOPR1466   \n",
       "..        ...      ...   ...         ...   \n",
       "243  20190704        3    08    GOPR1489   \n",
       "244  20190704        3    09    GOPR1489   \n",
       "245  20190704        3    10    GOPR1489   \n",
       "246  20190704        3    11    GOPR1489   \n",
       "247  20190704        3  12_1    GOPR1489   \n",
       "\n",
       "                                            labeled_h5  \n",
       "0    GOPR1466_20190625_s1_t00_1DLC_resnet50_muri-fb...  \n",
       "1    GOPR1466_20190625_s1_t00_2DLC_resnet50_muri-fb...  \n",
       "2    GOPR1466_20190625_s1_t01DLC_resnet50_muri-fb-j...  \n",
       "3    GOPR1466_20190625_s1_t02DLC_resnet50_muri-fb-j...  \n",
       "4    GOPR1466_20190625_s1_t03DLC_resnet50_muri-fb-j...  \n",
       "..                                                 ...  \n",
       "243  GOPR1489_20190704_s3_t08DLC_resnet50_muri-fb-j...  \n",
       "244  GOPR1489_20190704_s3_t09DLC_resnet50_muri-fb-j...  \n",
       "245  GOPR1489_20190704_s3_t10DLC_resnet50_muri-fb-j...  \n",
       "246  GOPR1489_20190704_s3_t11DLC_resnet50_muri-fb-j...  \n",
       "247  GOPR1489_20190704_s3_t12_1DLC_resnet50_muri-fb...  \n",
       "\n",
       "[248 rows x 5 columns]"
      ]
     },
     "execution_count": 15,
     "metadata": {},
     "output_type": "execute_result"
    }
   ],
   "source": [
    "df_dlc = pd.read_csv(all_dlc_sessions, index_col=0)\n",
    "df_dlc"
   ]
  },
  {
   "cell_type": "code",
   "execution_count": 16,
   "id": "253b95d2",
   "metadata": {
    "execution": {
     "iopub.execute_input": "2023-04-28T23:30:19.443993Z",
     "iopub.status.busy": "2023-04-28T23:30:19.443885Z",
     "iopub.status.idle": "2023-04-28T23:30:19.449606Z",
     "shell.execute_reply": "2023-04-28T23:30:19.449375Z"
    },
    "papermill": {
     "duration": 0.012096,
     "end_time": "2023-04-28T23:30:19.450480",
     "exception": false,
     "start_time": "2023-04-28T23:30:19.438384",
     "status": "completed"
    },
    "tags": []
   },
   "outputs": [
    {
     "data": {
      "text/html": [
       "<div>\n",
       "<style scoped>\n",
       "    .dataframe tbody tr th:only-of-type {\n",
       "        vertical-align: middle;\n",
       "    }\n",
       "\n",
       "    .dataframe tbody tr th {\n",
       "        vertical-align: top;\n",
       "    }\n",
       "\n",
       "    .dataframe thead th {\n",
       "        text-align: right;\n",
       "    }\n",
       "</style>\n",
       "<table border=\"1\" class=\"dataframe\">\n",
       "  <thead>\n",
       "    <tr style=\"text-align: right;\">\n",
       "      <th></th>\n",
       "      <th></th>\n",
       "      <th>trial</th>\n",
       "      <th>gopro_video</th>\n",
       "      <th>labeled_h5</th>\n",
       "    </tr>\n",
       "    <tr>\n",
       "      <th>date</th>\n",
       "      <th>session</th>\n",
       "      <th></th>\n",
       "      <th></th>\n",
       "      <th></th>\n",
       "    </tr>\n",
       "  </thead>\n",
       "  <tbody>\n",
       "    <tr>\n",
       "      <th rowspan=\"3\" valign=\"top\">20190625</th>\n",
       "      <th>1</th>\n",
       "      <td>8</td>\n",
       "      <td>8</td>\n",
       "      <td>8</td>\n",
       "    </tr>\n",
       "    <tr>\n",
       "      <th>2</th>\n",
       "      <td>8</td>\n",
       "      <td>8</td>\n",
       "      <td>8</td>\n",
       "    </tr>\n",
       "    <tr>\n",
       "      <th>3</th>\n",
       "      <td>10</td>\n",
       "      <td>10</td>\n",
       "      <td>10</td>\n",
       "    </tr>\n",
       "    <tr>\n",
       "      <th rowspan=\"3\" valign=\"top\">20190626</th>\n",
       "      <th>1</th>\n",
       "      <td>10</td>\n",
       "      <td>10</td>\n",
       "      <td>10</td>\n",
       "    </tr>\n",
       "    <tr>\n",
       "      <th>2</th>\n",
       "      <td>10</td>\n",
       "      <td>10</td>\n",
       "      <td>10</td>\n",
       "    </tr>\n",
       "    <tr>\n",
       "      <th>3</th>\n",
       "      <td>10</td>\n",
       "      <td>10</td>\n",
       "      <td>10</td>\n",
       "    </tr>\n",
       "    <tr>\n",
       "      <th rowspan=\"3\" valign=\"top\">20190627</th>\n",
       "      <th>1</th>\n",
       "      <td>11</td>\n",
       "      <td>11</td>\n",
       "      <td>11</td>\n",
       "    </tr>\n",
       "    <tr>\n",
       "      <th>2</th>\n",
       "      <td>11</td>\n",
       "      <td>11</td>\n",
       "      <td>11</td>\n",
       "    </tr>\n",
       "    <tr>\n",
       "      <th>3</th>\n",
       "      <td>11</td>\n",
       "      <td>11</td>\n",
       "      <td>11</td>\n",
       "    </tr>\n",
       "    <tr>\n",
       "      <th rowspan=\"3\" valign=\"top\">20190628</th>\n",
       "      <th>1</th>\n",
       "      <td>10</td>\n",
       "      <td>10</td>\n",
       "      <td>10</td>\n",
       "    </tr>\n",
       "    <tr>\n",
       "      <th>2</th>\n",
       "      <td>12</td>\n",
       "      <td>12</td>\n",
       "      <td>12</td>\n",
       "    </tr>\n",
       "    <tr>\n",
       "      <th>3</th>\n",
       "      <td>10</td>\n",
       "      <td>10</td>\n",
       "      <td>10</td>\n",
       "    </tr>\n",
       "    <tr>\n",
       "      <th rowspan=\"3\" valign=\"top\">20190701</th>\n",
       "      <th>1</th>\n",
       "      <td>10</td>\n",
       "      <td>10</td>\n",
       "      <td>10</td>\n",
       "    </tr>\n",
       "    <tr>\n",
       "      <th>2</th>\n",
       "      <td>11</td>\n",
       "      <td>11</td>\n",
       "      <td>11</td>\n",
       "    </tr>\n",
       "    <tr>\n",
       "      <th>3</th>\n",
       "      <td>10</td>\n",
       "      <td>10</td>\n",
       "      <td>10</td>\n",
       "    </tr>\n",
       "    <tr>\n",
       "      <th rowspan=\"3\" valign=\"top\">20190702</th>\n",
       "      <th>1</th>\n",
       "      <td>10</td>\n",
       "      <td>10</td>\n",
       "      <td>10</td>\n",
       "    </tr>\n",
       "    <tr>\n",
       "      <th>2</th>\n",
       "      <td>12</td>\n",
       "      <td>12</td>\n",
       "      <td>12</td>\n",
       "    </tr>\n",
       "    <tr>\n",
       "      <th>3</th>\n",
       "      <td>10</td>\n",
       "      <td>10</td>\n",
       "      <td>10</td>\n",
       "    </tr>\n",
       "    <tr>\n",
       "      <th rowspan=\"3\" valign=\"top\">20190703</th>\n",
       "      <th>1</th>\n",
       "      <td>10</td>\n",
       "      <td>10</td>\n",
       "      <td>10</td>\n",
       "    </tr>\n",
       "    <tr>\n",
       "      <th>2</th>\n",
       "      <td>11</td>\n",
       "      <td>11</td>\n",
       "      <td>11</td>\n",
       "    </tr>\n",
       "    <tr>\n",
       "      <th>3</th>\n",
       "      <td>10</td>\n",
       "      <td>10</td>\n",
       "      <td>10</td>\n",
       "    </tr>\n",
       "    <tr>\n",
       "      <th rowspan=\"3\" valign=\"top\">20190704</th>\n",
       "      <th>1</th>\n",
       "      <td>10</td>\n",
       "      <td>10</td>\n",
       "      <td>10</td>\n",
       "    </tr>\n",
       "    <tr>\n",
       "      <th>2</th>\n",
       "      <td>11</td>\n",
       "      <td>11</td>\n",
       "      <td>11</td>\n",
       "    </tr>\n",
       "    <tr>\n",
       "      <th>3</th>\n",
       "      <td>12</td>\n",
       "      <td>12</td>\n",
       "      <td>12</td>\n",
       "    </tr>\n",
       "  </tbody>\n",
       "</table>\n",
       "</div>"
      ],
      "text/plain": [
       "                  trial  gopro_video  labeled_h5\n",
       "date     session                                \n",
       "20190625 1            8            8           8\n",
       "         2            8            8           8\n",
       "         3           10           10          10\n",
       "20190626 1           10           10          10\n",
       "         2           10           10          10\n",
       "         3           10           10          10\n",
       "20190627 1           11           11          11\n",
       "         2           11           11          11\n",
       "         3           11           11          11\n",
       "20190628 1           10           10          10\n",
       "         2           12           12          12\n",
       "         3           10           10          10\n",
       "20190701 1           10           10          10\n",
       "         2           11           11          11\n",
       "         3           10           10          10\n",
       "20190702 1           10           10          10\n",
       "         2           12           12          12\n",
       "         3           10           10          10\n",
       "20190703 1           10           10          10\n",
       "         2           11           11          11\n",
       "         3           10           10          10\n",
       "20190704 1           10           10          10\n",
       "         2           11           11          11\n",
       "         3           12           12          12"
      ]
     },
     "execution_count": 16,
     "metadata": {},
     "output_type": "execute_result"
    }
   ],
   "source": [
    "df_dlc.groupby(['date','session']).count()"
   ]
  },
  {
   "cell_type": "markdown",
   "id": "3888e77c",
   "metadata": {
    "papermill": {
     "duration": 0.005145,
     "end_time": "2023-04-28T23:30:19.460820",
     "exception": false,
     "start_time": "2023-04-28T23:30:19.455675",
     "status": "completed"
    },
    "tags": []
   },
   "source": [
    "## Figure out any discrepancy between dataframes"
   ]
  },
  {
   "cell_type": "code",
   "execution_count": 17,
   "id": "fa716b98",
   "metadata": {
    "execution": {
     "iopub.execute_input": "2023-04-28T23:30:19.471519Z",
     "iopub.status.busy": "2023-04-28T23:30:19.471403Z",
     "iopub.status.idle": "2023-04-28T23:30:19.475174Z",
     "shell.execute_reply": "2023-04-28T23:30:19.474898Z"
    },
    "papermill": {
     "duration": 0.010162,
     "end_time": "2023-04-28T23:30:19.476021",
     "exception": false,
     "start_time": "2023-04-28T23:30:19.465859",
     "status": "completed"
    },
    "tags": []
   },
   "outputs": [],
   "source": [
    "df_cmp = pd.DataFrame(df_main.groupby(['DATE', 'SESSION'])['TRIAL'].count())\n",
    "df_cmp['DTAG'] = np.array(df_dtag_trial.groupby('session')['filename'].count())\n",
    "df_cmp['DLC'] = np.array(df_dlc.groupby(['date','session'])['trial'].count())\n",
    "df_cmp.rename(columns={'TRIAL':'MAIN'}, inplace=True)"
   ]
  },
  {
   "cell_type": "code",
   "execution_count": 18,
   "id": "eb90184a",
   "metadata": {
    "execution": {
     "iopub.execute_input": "2023-04-28T23:30:19.486753Z",
     "iopub.status.busy": "2023-04-28T23:30:19.486643Z",
     "iopub.status.idle": "2023-04-28T23:30:19.490382Z",
     "shell.execute_reply": "2023-04-28T23:30:19.490137Z"
    },
    "papermill": {
     "duration": 0.010067,
     "end_time": "2023-04-28T23:30:19.491205",
     "exception": false,
     "start_time": "2023-04-28T23:30:19.481138",
     "status": "completed"
    },
    "tags": []
   },
   "outputs": [
    {
     "data": {
      "text/html": [
       "<div>\n",
       "<style scoped>\n",
       "    .dataframe tbody tr th:only-of-type {\n",
       "        vertical-align: middle;\n",
       "    }\n",
       "\n",
       "    .dataframe tbody tr th {\n",
       "        vertical-align: top;\n",
       "    }\n",
       "\n",
       "    .dataframe thead th {\n",
       "        text-align: right;\n",
       "    }\n",
       "</style>\n",
       "<table border=\"1\" class=\"dataframe\">\n",
       "  <thead>\n",
       "    <tr style=\"text-align: right;\">\n",
       "      <th></th>\n",
       "      <th></th>\n",
       "      <th>MAIN</th>\n",
       "      <th>DTAG</th>\n",
       "      <th>DLC</th>\n",
       "    </tr>\n",
       "    <tr>\n",
       "      <th>DATE</th>\n",
       "      <th>SESSION</th>\n",
       "      <th></th>\n",
       "      <th></th>\n",
       "      <th></th>\n",
       "    </tr>\n",
       "  </thead>\n",
       "  <tbody>\n",
       "    <tr>\n",
       "      <th rowspan=\"3\" valign=\"top\">20190625</th>\n",
       "      <th>1</th>\n",
       "      <td>8</td>\n",
       "      <td>8</td>\n",
       "      <td>8</td>\n",
       "    </tr>\n",
       "    <tr>\n",
       "      <th>2</th>\n",
       "      <td>8</td>\n",
       "      <td>8</td>\n",
       "      <td>8</td>\n",
       "    </tr>\n",
       "    <tr>\n",
       "      <th>3</th>\n",
       "      <td>10</td>\n",
       "      <td>10</td>\n",
       "      <td>10</td>\n",
       "    </tr>\n",
       "    <tr>\n",
       "      <th rowspan=\"3\" valign=\"top\">20190626</th>\n",
       "      <th>1</th>\n",
       "      <td>10</td>\n",
       "      <td>10</td>\n",
       "      <td>10</td>\n",
       "    </tr>\n",
       "    <tr>\n",
       "      <th>2</th>\n",
       "      <td>10</td>\n",
       "      <td>10</td>\n",
       "      <td>10</td>\n",
       "    </tr>\n",
       "    <tr>\n",
       "      <th>3</th>\n",
       "      <td>10</td>\n",
       "      <td>10</td>\n",
       "      <td>10</td>\n",
       "    </tr>\n",
       "    <tr>\n",
       "      <th rowspan=\"3\" valign=\"top\">20190627</th>\n",
       "      <th>1</th>\n",
       "      <td>11</td>\n",
       "      <td>11</td>\n",
       "      <td>11</td>\n",
       "    </tr>\n",
       "    <tr>\n",
       "      <th>2</th>\n",
       "      <td>11</td>\n",
       "      <td>11</td>\n",
       "      <td>11</td>\n",
       "    </tr>\n",
       "    <tr>\n",
       "      <th>3</th>\n",
       "      <td>11</td>\n",
       "      <td>11</td>\n",
       "      <td>11</td>\n",
       "    </tr>\n",
       "    <tr>\n",
       "      <th rowspan=\"3\" valign=\"top\">20190628</th>\n",
       "      <th>1</th>\n",
       "      <td>10</td>\n",
       "      <td>10</td>\n",
       "      <td>10</td>\n",
       "    </tr>\n",
       "    <tr>\n",
       "      <th>2</th>\n",
       "      <td>12</td>\n",
       "      <td>12</td>\n",
       "      <td>12</td>\n",
       "    </tr>\n",
       "    <tr>\n",
       "      <th>3</th>\n",
       "      <td>10</td>\n",
       "      <td>10</td>\n",
       "      <td>10</td>\n",
       "    </tr>\n",
       "    <tr>\n",
       "      <th rowspan=\"3\" valign=\"top\">20190701</th>\n",
       "      <th>1</th>\n",
       "      <td>10</td>\n",
       "      <td>10</td>\n",
       "      <td>10</td>\n",
       "    </tr>\n",
       "    <tr>\n",
       "      <th>2</th>\n",
       "      <td>11</td>\n",
       "      <td>11</td>\n",
       "      <td>11</td>\n",
       "    </tr>\n",
       "    <tr>\n",
       "      <th>3</th>\n",
       "      <td>10</td>\n",
       "      <td>10</td>\n",
       "      <td>10</td>\n",
       "    </tr>\n",
       "    <tr>\n",
       "      <th rowspan=\"3\" valign=\"top\">20190702</th>\n",
       "      <th>1</th>\n",
       "      <td>10</td>\n",
       "      <td>10</td>\n",
       "      <td>10</td>\n",
       "    </tr>\n",
       "    <tr>\n",
       "      <th>2</th>\n",
       "      <td>12</td>\n",
       "      <td>11</td>\n",
       "      <td>12</td>\n",
       "    </tr>\n",
       "    <tr>\n",
       "      <th>3</th>\n",
       "      <td>10</td>\n",
       "      <td>10</td>\n",
       "      <td>10</td>\n",
       "    </tr>\n",
       "    <tr>\n",
       "      <th rowspan=\"3\" valign=\"top\">20190703</th>\n",
       "      <th>1</th>\n",
       "      <td>10</td>\n",
       "      <td>10</td>\n",
       "      <td>10</td>\n",
       "    </tr>\n",
       "    <tr>\n",
       "      <th>2</th>\n",
       "      <td>11</td>\n",
       "      <td>11</td>\n",
       "      <td>11</td>\n",
       "    </tr>\n",
       "    <tr>\n",
       "      <th>3</th>\n",
       "      <td>10</td>\n",
       "      <td>10</td>\n",
       "      <td>10</td>\n",
       "    </tr>\n",
       "    <tr>\n",
       "      <th rowspan=\"3\" valign=\"top\">20190704</th>\n",
       "      <th>1</th>\n",
       "      <td>10</td>\n",
       "      <td>10</td>\n",
       "      <td>10</td>\n",
       "    </tr>\n",
       "    <tr>\n",
       "      <th>2</th>\n",
       "      <td>11</td>\n",
       "      <td>11</td>\n",
       "      <td>11</td>\n",
       "    </tr>\n",
       "    <tr>\n",
       "      <th>3</th>\n",
       "      <td>12</td>\n",
       "      <td>12</td>\n",
       "      <td>12</td>\n",
       "    </tr>\n",
       "  </tbody>\n",
       "</table>\n",
       "</div>"
      ],
      "text/plain": [
       "                  MAIN  DTAG  DLC\n",
       "DATE     SESSION                 \n",
       "20190625 1           8     8    8\n",
       "         2           8     8    8\n",
       "         3          10    10   10\n",
       "20190626 1          10    10   10\n",
       "         2          10    10   10\n",
       "         3          10    10   10\n",
       "20190627 1          11    11   11\n",
       "         2          11    11   11\n",
       "         3          11    11   11\n",
       "20190628 1          10    10   10\n",
       "         2          12    12   12\n",
       "         3          10    10   10\n",
       "20190701 1          10    10   10\n",
       "         2          11    11   11\n",
       "         3          10    10   10\n",
       "20190702 1          10    10   10\n",
       "         2          12    11   12\n",
       "         3          10    10   10\n",
       "20190703 1          10    10   10\n",
       "         2          11    11   11\n",
       "         3          10    10   10\n",
       "20190704 1          10    10   10\n",
       "         2          11    11   11\n",
       "         3          12    12   12"
      ]
     },
     "execution_count": 18,
     "metadata": {},
     "output_type": "execute_result"
    }
   ],
   "source": [
    "df_cmp"
   ]
  },
  {
   "cell_type": "code",
   "execution_count": 19,
   "id": "374c015e",
   "metadata": {
    "execution": {
     "iopub.execute_input": "2023-04-28T23:30:19.502174Z",
     "iopub.status.busy": "2023-04-28T23:30:19.502067Z",
     "iopub.status.idle": "2023-04-28T23:30:19.505827Z",
     "shell.execute_reply": "2023-04-28T23:30:19.505565Z"
    },
    "papermill": {
     "duration": 0.010215,
     "end_time": "2023-04-28T23:30:19.506662",
     "exception": false,
     "start_time": "2023-04-28T23:30:19.496447",
     "status": "completed"
    },
    "tags": []
   },
   "outputs": [
    {
     "data": {
      "text/html": [
       "<div>\n",
       "<style scoped>\n",
       "    .dataframe tbody tr th:only-of-type {\n",
       "        vertical-align: middle;\n",
       "    }\n",
       "\n",
       "    .dataframe tbody tr th {\n",
       "        vertical-align: top;\n",
       "    }\n",
       "\n",
       "    .dataframe thead th {\n",
       "        text-align: right;\n",
       "    }\n",
       "</style>\n",
       "<table border=\"1\" class=\"dataframe\">\n",
       "  <thead>\n",
       "    <tr style=\"text-align: right;\">\n",
       "      <th></th>\n",
       "      <th></th>\n",
       "      <th>MAIN</th>\n",
       "      <th>DTAG</th>\n",
       "      <th>DLC</th>\n",
       "    </tr>\n",
       "    <tr>\n",
       "      <th>DATE</th>\n",
       "      <th>SESSION</th>\n",
       "      <th></th>\n",
       "      <th></th>\n",
       "      <th></th>\n",
       "    </tr>\n",
       "  </thead>\n",
       "  <tbody>\n",
       "    <tr>\n",
       "      <th>20190702</th>\n",
       "      <th>2</th>\n",
       "      <td>12</td>\n",
       "      <td>11</td>\n",
       "      <td>12</td>\n",
       "    </tr>\n",
       "  </tbody>\n",
       "</table>\n",
       "</div>"
      ],
      "text/plain": [
       "                  MAIN  DTAG  DLC\n",
       "DATE     SESSION                 \n",
       "20190702 2          12    11   12"
      ]
     },
     "execution_count": 19,
     "metadata": {},
     "output_type": "execute_result"
    }
   ],
   "source": [
    "df_cmp[\n",
    "    (df_cmp['MAIN']!=df_cmp['DTAG'])\n",
    "    | (df_cmp['MAIN']!=df_cmp['DLC'])\n",
    "    | (df_cmp['DTAG']!=df_cmp['DLC'])\n",
    "]"
   ]
  },
  {
   "cell_type": "markdown",
   "id": "526e825a",
   "metadata": {
    "papermill": {
     "duration": 0.005563,
     "end_time": "2023-04-28T23:30:19.517809",
     "exception": false,
     "start_time": "2023-04-28T23:30:19.512246",
     "status": "completed"
    },
    "tags": []
   },
   "source": [
    "We can see that the trial number doesn't match for 20190702 session 2. This is because the main sheet contains trial #12 which did not have a chirp trigger (and therefore not included in `trial_time_diff_calc_sync_time` which is used to process DTAG recording."
   ]
  },
  {
   "cell_type": "markdown",
   "id": "e3087b88",
   "metadata": {
    "papermill": {
     "duration": 0.005288,
     "end_time": "2023-04-28T23:30:19.528481",
     "exception": false,
     "start_time": "2023-04-28T23:30:19.523193",
     "status": "completed"
    },
    "tags": []
   },
   "source": [
    "## Add DTAG trial info and DLC label info to main dataframe"
   ]
  },
  {
   "cell_type": "markdown",
   "id": "88426f31",
   "metadata": {
    "papermill": {
     "duration": 0.005491,
     "end_time": "2023-04-28T23:30:19.539397",
     "exception": false,
     "start_time": "2023-04-28T23:30:19.533906",
     "status": "completed"
    },
    "tags": []
   },
   "source": [
    "### Drop 20190702 session2 trial 12 on main dataframe and DLC record:"
   ]
  },
  {
   "cell_type": "code",
   "execution_count": 20,
   "id": "6bf9e7fb",
   "metadata": {
    "execution": {
     "iopub.execute_input": "2023-04-28T23:30:19.551263Z",
     "iopub.status.busy": "2023-04-28T23:30:19.551102Z",
     "iopub.status.idle": "2023-04-28T23:30:19.553623Z",
     "shell.execute_reply": "2023-04-28T23:30:19.553357Z"
    },
    "papermill": {
     "duration": 0.009569,
     "end_time": "2023-04-28T23:30:19.554500",
     "exception": false,
     "start_time": "2023-04-28T23:30:19.544931",
     "status": "completed"
    },
    "tags": []
   },
   "outputs": [
    {
     "data": {
      "text/plain": [
       "Index(['DATE', 'SESSION', 'PERSONNEL', 'TRIAL', 'LEFT', 'RIGHT', 'ANGLE',\n",
       "       'SPHEROID', 'ASPECT_RATIO', 'SEQUENCE', 'CHOICE', 'WJ_COMMENTS',\n",
       "       'VIDEO_REVIEW_COMMENTS', 'VIDEO_TIME', 'VIDEO_NUM', 'OTHER_COMMENTS',\n",
       "       'DARSHAN_COMMENTS', 'VIDEO_FILENAME', 'FRAME_NUM_START',\n",
       "       'FRAME_NUM_END', 'KAVIN_TRACK_COMMENTS', 'TRACK_CHECKED',\n",
       "       'TARGETS_CHECKED', 'LED_flash', 'TOUCH_FRAME', 'TRIAL_TO_INCLUDE',\n",
       "       'TRACK_ISSUES', 'LATE_TURN', 'EYECUP_ISSUE', 'TRACK_USED'],\n",
       "      dtype='object')"
      ]
     },
     "execution_count": 20,
     "metadata": {},
     "output_type": "execute_result"
    }
   ],
   "source": [
    "df_main.columns"
   ]
  },
  {
   "cell_type": "code",
   "execution_count": 21,
   "id": "1467fb7a",
   "metadata": {
    "execution": {
     "iopub.execute_input": "2023-04-28T23:30:19.565778Z",
     "iopub.status.busy": "2023-04-28T23:30:19.565664Z",
     "iopub.status.idle": "2023-04-28T23:30:19.568831Z",
     "shell.execute_reply": "2023-04-28T23:30:19.568541Z"
    },
    "papermill": {
     "duration": 0.009739,
     "end_time": "2023-04-28T23:30:19.569662",
     "exception": false,
     "start_time": "2023-04-28T23:30:19.559923",
     "status": "completed"
    },
    "tags": []
   },
   "outputs": [
    {
     "data": {
      "text/plain": [
       "Int64Index([173], dtype='int64')"
      ]
     },
     "execution_count": 21,
     "metadata": {},
     "output_type": "execute_result"
    }
   ],
   "source": [
    "drop_indx = df_main[\n",
    "    (df_main['DATE']==20190702) & (df_main['SESSION']==2) & (df_main['TRIAL']==12)\n",
    "].index\n",
    "drop_indx"
   ]
  },
  {
   "cell_type": "code",
   "execution_count": 22,
   "id": "60e0171f",
   "metadata": {
    "execution": {
     "iopub.execute_input": "2023-04-28T23:30:19.580871Z",
     "iopub.status.busy": "2023-04-28T23:30:19.580767Z",
     "iopub.status.idle": "2023-04-28T23:30:19.583210Z",
     "shell.execute_reply": "2023-04-28T23:30:19.582946Z"
    },
    "papermill": {
     "duration": 0.009027,
     "end_time": "2023-04-28T23:30:19.584063",
     "exception": false,
     "start_time": "2023-04-28T23:30:19.575036",
     "status": "completed"
    },
    "tags": []
   },
   "outputs": [],
   "source": [
    "df_dlc.drop(drop_indx, axis=0, inplace=True)\n",
    "df_main.drop(drop_indx, axis=0, inplace=True)"
   ]
  },
  {
   "cell_type": "markdown",
   "id": "727a0059",
   "metadata": {
    "papermill": {
     "duration": 0.00536,
     "end_time": "2023-04-28T23:30:19.594784",
     "exception": false,
     "start_time": "2023-04-28T23:30:19.589424",
     "status": "completed"
    },
    "tags": []
   },
   "source": [
    "### Append DTAG info to main dataframe"
   ]
  },
  {
   "cell_type": "code",
   "execution_count": 23,
   "id": "edd88886",
   "metadata": {
    "execution": {
     "iopub.execute_input": "2023-04-28T23:30:19.605898Z",
     "iopub.status.busy": "2023-04-28T23:30:19.605785Z",
     "iopub.status.idle": "2023-04-28T23:30:19.608053Z",
     "shell.execute_reply": "2023-04-28T23:30:19.607805Z"
    },
    "papermill": {
     "duration": 0.008893,
     "end_time": "2023-04-28T23:30:19.608935",
     "exception": false,
     "start_time": "2023-04-28T23:30:19.600042",
     "status": "completed"
    },
    "tags": []
   },
   "outputs": [],
   "source": [
    "df_dtag_trial.rename(columns={'filename': 'hydro_filename', \n",
    "                              'trial_time': 'hydro_recording_time', \n",
    "                              'time_diff': 'hydro_time_diff', \n",
    "                              'sync_time': 'rough_chirp_time',\n",
    "                              'start_time': 'dtag_trial_start_time', \n",
    "                              'end_time': 'dtag_trial_end_time', \n",
    "                              'chirp': 'see_chirp_in_dtag', \n",
    "                              'comments': 'dtag_trial_comments',\n",
    "                              'wav_file': 'dtag_wav_file'}, \n",
    "                     inplace=True)"
   ]
  },
  {
   "cell_type": "code",
   "execution_count": 24,
   "id": "ba3ab7a8",
   "metadata": {
    "execution": {
     "iopub.execute_input": "2023-04-28T23:30:19.620639Z",
     "iopub.status.busy": "2023-04-28T23:30:19.620522Z",
     "iopub.status.idle": "2023-04-28T23:30:19.622748Z",
     "shell.execute_reply": "2023-04-28T23:30:19.622493Z"
    },
    "papermill": {
     "duration": 0.00905,
     "end_time": "2023-04-28T23:30:19.623611",
     "exception": false,
     "start_time": "2023-04-28T23:30:19.614561",
     "status": "completed"
    },
    "tags": []
   },
   "outputs": [],
   "source": [
    "# discard 'session' since it is a duplication of what main dataframe already has\n",
    "df_dtag_trial.drop(columns=['session'], inplace=True)"
   ]
  },
  {
   "cell_type": "code",
   "execution_count": 25,
   "id": "322ddf20",
   "metadata": {
    "execution": {
     "iopub.execute_input": "2023-04-28T23:30:19.634830Z",
     "iopub.status.busy": "2023-04-28T23:30:19.634719Z",
     "iopub.status.idle": "2023-04-28T23:30:19.636467Z",
     "shell.execute_reply": "2023-04-28T23:30:19.636218Z"
    },
    "papermill": {
     "duration": 0.008311,
     "end_time": "2023-04-28T23:30:19.637289",
     "exception": false,
     "start_time": "2023-04-28T23:30:19.628978",
     "status": "completed"
    },
    "tags": []
   },
   "outputs": [],
   "source": [
    "df_dtag_trial.reset_index(drop=True, inplace=True)\n",
    "df_main.reset_index(drop=True, inplace=True)"
   ]
  },
  {
   "cell_type": "code",
   "execution_count": 26,
   "id": "948e94f3",
   "metadata": {
    "execution": {
     "iopub.execute_input": "2023-04-28T23:30:19.649544Z",
     "iopub.status.busy": "2023-04-28T23:30:19.649319Z",
     "iopub.status.idle": "2023-04-28T23:30:19.652593Z",
     "shell.execute_reply": "2023-04-28T23:30:19.652192Z"
    },
    "papermill": {
     "duration": 0.010641,
     "end_time": "2023-04-28T23:30:19.653546",
     "exception": false,
     "start_time": "2023-04-28T23:30:19.642905",
     "status": "completed"
    },
    "tags": []
   },
   "outputs": [],
   "source": [
    "df_main = df_main.join(df_dtag_trial)"
   ]
  },
  {
   "cell_type": "code",
   "execution_count": 27,
   "id": "b06f04f6",
   "metadata": {
    "execution": {
     "iopub.execute_input": "2023-04-28T23:30:19.665850Z",
     "iopub.status.busy": "2023-04-28T23:30:19.665713Z",
     "iopub.status.idle": "2023-04-28T23:30:19.674950Z",
     "shell.execute_reply": "2023-04-28T23:30:19.674651Z"
    },
    "papermill": {
     "duration": 0.016392,
     "end_time": "2023-04-28T23:30:19.675801",
     "exception": false,
     "start_time": "2023-04-28T23:30:19.659409",
     "status": "completed"
    },
    "tags": []
   },
   "outputs": [
    {
     "data": {
      "text/html": [
       "<div>\n",
       "<style scoped>\n",
       "    .dataframe tbody tr th:only-of-type {\n",
       "        vertical-align: middle;\n",
       "    }\n",
       "\n",
       "    .dataframe tbody tr th {\n",
       "        vertical-align: top;\n",
       "    }\n",
       "\n",
       "    .dataframe thead th {\n",
       "        text-align: right;\n",
       "    }\n",
       "</style>\n",
       "<table border=\"1\" class=\"dataframe\">\n",
       "  <thead>\n",
       "    <tr style=\"text-align: right;\">\n",
       "      <th></th>\n",
       "      <th>DATE</th>\n",
       "      <th>SESSION</th>\n",
       "      <th>PERSONNEL</th>\n",
       "      <th>TRIAL</th>\n",
       "      <th>LEFT</th>\n",
       "      <th>RIGHT</th>\n",
       "      <th>ANGLE</th>\n",
       "      <th>SPHEROID</th>\n",
       "      <th>ASPECT_RATIO</th>\n",
       "      <th>SEQUENCE</th>\n",
       "      <th>...</th>\n",
       "      <th>TRACK_USED</th>\n",
       "      <th>hydro_filename</th>\n",
       "      <th>hydro_recording_time</th>\n",
       "      <th>hydro_time_diff</th>\n",
       "      <th>rough_chirp_time</th>\n",
       "      <th>dtag_trial_start_time</th>\n",
       "      <th>dtag_trial_end_time</th>\n",
       "      <th>see_chirp_in_dtag</th>\n",
       "      <th>dtag_trial_comments</th>\n",
       "      <th>dtag_wav_file</th>\n",
       "    </tr>\n",
       "  </thead>\n",
       "  <tbody>\n",
       "    <tr>\n",
       "      <th>0</th>\n",
       "      <td>20190625</td>\n",
       "      <td>1</td>\n",
       "      <td>WJ, ML</td>\n",
       "      <td>0</td>\n",
       "      <td>T</td>\n",
       "      <td>X</td>\n",
       "      <td>1</td>\n",
       "      <td>X</td>\n",
       "      <td>0.0</td>\n",
       "      <td>1</td>\n",
       "      <td>...</td>\n",
       "      <td>NaN</td>\n",
       "      <td>40dBgain_trial__0_1.0V(peak)__25-06-2019_10_19...</td>\n",
       "      <td>2019-06-25 10:19:28</td>\n",
       "      <td>0 days 00:00:00.000000000</td>\n",
       "      <td>06:51.328000</td>\n",
       "      <td>6:49.100</td>\n",
       "      <td>7:00.200</td>\n",
       "      <td>Y</td>\n",
       "      <td>NaN</td>\n",
       "      <td>20190625/session1/dtag/pp19_176a_027.wav</td>\n",
       "    </tr>\n",
       "    <tr>\n",
       "      <th>1</th>\n",
       "      <td>20190625</td>\n",
       "      <td>1</td>\n",
       "      <td>WJ, ML</td>\n",
       "      <td>0</td>\n",
       "      <td>T</td>\n",
       "      <td>X</td>\n",
       "      <td>1</td>\n",
       "      <td>X</td>\n",
       "      <td>0.0</td>\n",
       "      <td>1</td>\n",
       "      <td>...</td>\n",
       "      <td>NaN</td>\n",
       "      <td>40dBgain_trial__0_1.0V(peak)__25-06-2019_10_19...</td>\n",
       "      <td>2019-06-25 10:19:45</td>\n",
       "      <td>0 days 00:00:17.000000000</td>\n",
       "      <td>07:08.328000</td>\n",
       "      <td>7:07.500</td>\n",
       "      <td>7:29.500</td>\n",
       "      <td>Y</td>\n",
       "      <td>NaN</td>\n",
       "      <td>20190625/session1/dtag/pp19_176a_027.wav</td>\n",
       "    </tr>\n",
       "    <tr>\n",
       "      <th>2</th>\n",
       "      <td>20190625</td>\n",
       "      <td>1</td>\n",
       "      <td>WJ, ML</td>\n",
       "      <td>1</td>\n",
       "      <td>T</td>\n",
       "      <td>C</td>\n",
       "      <td>1</td>\n",
       "      <td>L</td>\n",
       "      <td>2.9</td>\n",
       "      <td>1</td>\n",
       "      <td>...</td>\n",
       "      <td>NaN</td>\n",
       "      <td>40dBgain_trial__1_1.0V(peak)__25-06-2019_10_21...</td>\n",
       "      <td>2019-06-25 10:21:55</td>\n",
       "      <td>0 days 00:02:27.000000000</td>\n",
       "      <td>09:18.328000</td>\n",
       "      <td>9:16.900</td>\n",
       "      <td>9:39.900</td>\n",
       "      <td>Y</td>\n",
       "      <td>NaN</td>\n",
       "      <td>20190625/session1/dtag/pp19_176a_027.wav</td>\n",
       "    </tr>\n",
       "    <tr>\n",
       "      <th>3</th>\n",
       "      <td>20190625</td>\n",
       "      <td>1</td>\n",
       "      <td>WJ, ML</td>\n",
       "      <td>2</td>\n",
       "      <td>C</td>\n",
       "      <td>T</td>\n",
       "      <td>1</td>\n",
       "      <td>L</td>\n",
       "      <td>2.9</td>\n",
       "      <td>1</td>\n",
       "      <td>...</td>\n",
       "      <td>NaN</td>\n",
       "      <td>40dBgain_trial__2_1.0V(peak)__25-06-2019_10_24...</td>\n",
       "      <td>2019-06-25 10:24:23</td>\n",
       "      <td>0 days 00:04:55.000000000</td>\n",
       "      <td>11:46.328000</td>\n",
       "      <td>11:44.800</td>\n",
       "      <td>12:06.800</td>\n",
       "      <td>Y</td>\n",
       "      <td>NaN</td>\n",
       "      <td>20190625/session1/dtag/pp19_176a_027.wav</td>\n",
       "    </tr>\n",
       "    <tr>\n",
       "      <th>4</th>\n",
       "      <td>20190625</td>\n",
       "      <td>1</td>\n",
       "      <td>WJ, ML</td>\n",
       "      <td>3</td>\n",
       "      <td>T</td>\n",
       "      <td>C</td>\n",
       "      <td>1</td>\n",
       "      <td>L</td>\n",
       "      <td>2.9</td>\n",
       "      <td>1</td>\n",
       "      <td>...</td>\n",
       "      <td>NaN</td>\n",
       "      <td>40dBgain_trial__3_1.0V(peak)__25-06-2019_10_25...</td>\n",
       "      <td>2019-06-25 10:25:54</td>\n",
       "      <td>0 days 00:06:26.000000000</td>\n",
       "      <td>13:17.328000</td>\n",
       "      <td>13:15.200</td>\n",
       "      <td>13:36.100</td>\n",
       "      <td>Y</td>\n",
       "      <td>NaN</td>\n",
       "      <td>20190625/session1/dtag/pp19_176a_027.wav</td>\n",
       "    </tr>\n",
       "    <tr>\n",
       "      <th>...</th>\n",
       "      <td>...</td>\n",
       "      <td>...</td>\n",
       "      <td>...</td>\n",
       "      <td>...</td>\n",
       "      <td>...</td>\n",
       "      <td>...</td>\n",
       "      <td>...</td>\n",
       "      <td>...</td>\n",
       "      <td>...</td>\n",
       "      <td>...</td>\n",
       "      <td>...</td>\n",
       "      <td>...</td>\n",
       "      <td>...</td>\n",
       "      <td>...</td>\n",
       "      <td>...</td>\n",
       "      <td>...</td>\n",
       "      <td>...</td>\n",
       "      <td>...</td>\n",
       "      <td>...</td>\n",
       "      <td>...</td>\n",
       "      <td>...</td>\n",
       "    </tr>\n",
       "    <tr>\n",
       "      <th>242</th>\n",
       "      <td>20190704</td>\n",
       "      <td>3</td>\n",
       "      <td>ML</td>\n",
       "      <td>8</td>\n",
       "      <td>T</td>\n",
       "      <td>C</td>\n",
       "      <td>1</td>\n",
       "      <td>M</td>\n",
       "      <td>1.3</td>\n",
       "      <td>24</td>\n",
       "      <td>...</td>\n",
       "      <td>NaN</td>\n",
       "      <td>trial_8_1.0V(peak)__04-07-2019_14_53_32.wav</td>\n",
       "      <td>2019-07-04 14:53:32</td>\n",
       "      <td>0 days 00:07:42.000000000</td>\n",
       "      <td>12:18.484000</td>\n",
       "      <td>12:17.830</td>\n",
       "      <td>12:40.950</td>\n",
       "      <td>Y</td>\n",
       "      <td>NaN</td>\n",
       "      <td>20190704/session3/dtag/pp19_185c_055.wav</td>\n",
       "    </tr>\n",
       "    <tr>\n",
       "      <th>243</th>\n",
       "      <td>20190704</td>\n",
       "      <td>3</td>\n",
       "      <td>ML</td>\n",
       "      <td>9</td>\n",
       "      <td>C</td>\n",
       "      <td>T</td>\n",
       "      <td>3</td>\n",
       "      <td>M</td>\n",
       "      <td>1.3</td>\n",
       "      <td>24</td>\n",
       "      <td>...</td>\n",
       "      <td>NaN</td>\n",
       "      <td>trial_9_1.0V(peak)__04-07-2019_14_54_32.wav</td>\n",
       "      <td>2019-07-04 14:54:32</td>\n",
       "      <td>0 days 00:08:42.000000000</td>\n",
       "      <td>13:18.484000</td>\n",
       "      <td>13:16.870</td>\n",
       "      <td>13:36.590</td>\n",
       "      <td>Y</td>\n",
       "      <td>NaN</td>\n",
       "      <td>20190704/session3/dtag/pp19_185c_055.wav</td>\n",
       "    </tr>\n",
       "    <tr>\n",
       "      <th>244</th>\n",
       "      <td>20190704</td>\n",
       "      <td>3</td>\n",
       "      <td>ML</td>\n",
       "      <td>10</td>\n",
       "      <td>T</td>\n",
       "      <td>C</td>\n",
       "      <td>3</td>\n",
       "      <td>M</td>\n",
       "      <td>1.3</td>\n",
       "      <td>24</td>\n",
       "      <td>...</td>\n",
       "      <td>NaN</td>\n",
       "      <td>trial_10_1.0V(peak)__04-07-2019_14_55_29.wav</td>\n",
       "      <td>2019-07-04 14:55:29</td>\n",
       "      <td>0 days 00:09:39.000000000</td>\n",
       "      <td>14:15.484000</td>\n",
       "      <td>14:10.480</td>\n",
       "      <td>14:31.940</td>\n",
       "      <td>Y</td>\n",
       "      <td>NaN</td>\n",
       "      <td>20190704/session3/dtag/pp19_185c_055.wav</td>\n",
       "    </tr>\n",
       "    <tr>\n",
       "      <th>245</th>\n",
       "      <td>20190704</td>\n",
       "      <td>3</td>\n",
       "      <td>ML</td>\n",
       "      <td>11</td>\n",
       "      <td>T</td>\n",
       "      <td>C</td>\n",
       "      <td>3</td>\n",
       "      <td>M</td>\n",
       "      <td>1.3</td>\n",
       "      <td>24</td>\n",
       "      <td>...</td>\n",
       "      <td>NaN</td>\n",
       "      <td>trial_11_1.0V(peak)__04-07-2019_14_56_14.wav</td>\n",
       "      <td>2019-07-04 14:56:14</td>\n",
       "      <td>0 days 00:10:24.000000000</td>\n",
       "      <td>15:00.484000</td>\n",
       "      <td>14:59.270</td>\n",
       "      <td>15:21.070</td>\n",
       "      <td>Y</td>\n",
       "      <td>NaN</td>\n",
       "      <td>20190704/session3/dtag/pp19_185c_055.wav</td>\n",
       "    </tr>\n",
       "    <tr>\n",
       "      <th>246</th>\n",
       "      <td>20190704</td>\n",
       "      <td>3</td>\n",
       "      <td>ML</td>\n",
       "      <td>12</td>\n",
       "      <td>T</td>\n",
       "      <td>C</td>\n",
       "      <td>4</td>\n",
       "      <td>M</td>\n",
       "      <td>1.3</td>\n",
       "      <td>24</td>\n",
       "      <td>...</td>\n",
       "      <td>NaN</td>\n",
       "      <td>trial_12_1.0V(peak)__04-07-2019_14_58_22.wav</td>\n",
       "      <td>2019-07-04 14:58:22</td>\n",
       "      <td>0 days 00:12:32.000000000</td>\n",
       "      <td>17:08.484000</td>\n",
       "      <td>17:07.930</td>\n",
       "      <td>17:27.930</td>\n",
       "      <td>Y</td>\n",
       "      <td>NaN</td>\n",
       "      <td>20190704/session3/dtag/pp19_185c_055.wav</td>\n",
       "    </tr>\n",
       "  </tbody>\n",
       "</table>\n",
       "<p>247 rows × 39 columns</p>\n",
       "</div>"
      ],
      "text/plain": [
       "         DATE  SESSION PERSONNEL  TRIAL LEFT RIGHT  ANGLE SPHEROID  \\\n",
       "0    20190625        1    WJ, ML      0    T     X      1        X   \n",
       "1    20190625        1    WJ, ML      0    T     X      1        X   \n",
       "2    20190625        1    WJ, ML      1    T     C      1        L   \n",
       "3    20190625        1    WJ, ML      2    C     T      1        L   \n",
       "4    20190625        1    WJ, ML      3    T     C      1        L   \n",
       "..        ...      ...       ...    ...  ...   ...    ...      ...   \n",
       "242  20190704        3        ML      8    T     C      1        M   \n",
       "243  20190704        3        ML      9    C     T      3        M   \n",
       "244  20190704        3        ML     10    T     C      3        M   \n",
       "245  20190704        3        ML     11    T     C      3        M   \n",
       "246  20190704        3        ML     12    T     C      4        M   \n",
       "\n",
       "     ASPECT_RATIO  SEQUENCE  ...  TRACK_USED  \\\n",
       "0             0.0         1  ...         NaN   \n",
       "1             0.0         1  ...         NaN   \n",
       "2             2.9         1  ...         NaN   \n",
       "3             2.9         1  ...         NaN   \n",
       "4             2.9         1  ...         NaN   \n",
       "..            ...       ...  ...         ...   \n",
       "242           1.3        24  ...         NaN   \n",
       "243           1.3        24  ...         NaN   \n",
       "244           1.3        24  ...         NaN   \n",
       "245           1.3        24  ...         NaN   \n",
       "246           1.3        24  ...         NaN   \n",
       "\n",
       "                                        hydro_filename hydro_recording_time  \\\n",
       "0    40dBgain_trial__0_1.0V(peak)__25-06-2019_10_19...  2019-06-25 10:19:28   \n",
       "1    40dBgain_trial__0_1.0V(peak)__25-06-2019_10_19...  2019-06-25 10:19:45   \n",
       "2    40dBgain_trial__1_1.0V(peak)__25-06-2019_10_21...  2019-06-25 10:21:55   \n",
       "3    40dBgain_trial__2_1.0V(peak)__25-06-2019_10_24...  2019-06-25 10:24:23   \n",
       "4    40dBgain_trial__3_1.0V(peak)__25-06-2019_10_25...  2019-06-25 10:25:54   \n",
       "..                                                 ...                  ...   \n",
       "242        trial_8_1.0V(peak)__04-07-2019_14_53_32.wav  2019-07-04 14:53:32   \n",
       "243        trial_9_1.0V(peak)__04-07-2019_14_54_32.wav  2019-07-04 14:54:32   \n",
       "244       trial_10_1.0V(peak)__04-07-2019_14_55_29.wav  2019-07-04 14:55:29   \n",
       "245       trial_11_1.0V(peak)__04-07-2019_14_56_14.wav  2019-07-04 14:56:14   \n",
       "246       trial_12_1.0V(peak)__04-07-2019_14_58_22.wav  2019-07-04 14:58:22   \n",
       "\n",
       "               hydro_time_diff rough_chirp_time dtag_trial_start_time  \\\n",
       "0    0 days 00:00:00.000000000     06:51.328000              6:49.100   \n",
       "1    0 days 00:00:17.000000000     07:08.328000              7:07.500   \n",
       "2    0 days 00:02:27.000000000     09:18.328000              9:16.900   \n",
       "3    0 days 00:04:55.000000000     11:46.328000             11:44.800   \n",
       "4    0 days 00:06:26.000000000     13:17.328000             13:15.200   \n",
       "..                         ...              ...                   ...   \n",
       "242  0 days 00:07:42.000000000     12:18.484000             12:17.830   \n",
       "243  0 days 00:08:42.000000000     13:18.484000             13:16.870   \n",
       "244  0 days 00:09:39.000000000     14:15.484000             14:10.480   \n",
       "245  0 days 00:10:24.000000000     15:00.484000             14:59.270   \n",
       "246  0 days 00:12:32.000000000     17:08.484000             17:07.930   \n",
       "\n",
       "    dtag_trial_end_time see_chirp_in_dtag  dtag_trial_comments  \\\n",
       "0              7:00.200                 Y                  NaN   \n",
       "1              7:29.500                 Y                  NaN   \n",
       "2              9:39.900                 Y                  NaN   \n",
       "3             12:06.800                 Y                  NaN   \n",
       "4             13:36.100                 Y                  NaN   \n",
       "..                  ...               ...                  ...   \n",
       "242           12:40.950                 Y                  NaN   \n",
       "243           13:36.590                 Y                  NaN   \n",
       "244           14:31.940                 Y                  NaN   \n",
       "245           15:21.070                 Y                  NaN   \n",
       "246           17:27.930                 Y                  NaN   \n",
       "\n",
       "                                dtag_wav_file  \n",
       "0    20190625/session1/dtag/pp19_176a_027.wav  \n",
       "1    20190625/session1/dtag/pp19_176a_027.wav  \n",
       "2    20190625/session1/dtag/pp19_176a_027.wav  \n",
       "3    20190625/session1/dtag/pp19_176a_027.wav  \n",
       "4    20190625/session1/dtag/pp19_176a_027.wav  \n",
       "..                                        ...  \n",
       "242  20190704/session3/dtag/pp19_185c_055.wav  \n",
       "243  20190704/session3/dtag/pp19_185c_055.wav  \n",
       "244  20190704/session3/dtag/pp19_185c_055.wav  \n",
       "245  20190704/session3/dtag/pp19_185c_055.wav  \n",
       "246  20190704/session3/dtag/pp19_185c_055.wav  \n",
       "\n",
       "[247 rows x 39 columns]"
      ]
     },
     "execution_count": 27,
     "metadata": {},
     "output_type": "execute_result"
    }
   ],
   "source": [
    "df_main"
   ]
  },
  {
   "cell_type": "code",
   "execution_count": 28,
   "id": "1adda165",
   "metadata": {
    "execution": {
     "iopub.execute_input": "2023-04-28T23:30:19.687718Z",
     "iopub.status.busy": "2023-04-28T23:30:19.687603Z",
     "iopub.status.idle": "2023-04-28T23:30:19.689770Z",
     "shell.execute_reply": "2023-04-28T23:30:19.689491Z"
    },
    "papermill": {
     "duration": 0.009049,
     "end_time": "2023-04-28T23:30:19.690599",
     "exception": false,
     "start_time": "2023-04-28T23:30:19.681550",
     "status": "completed"
    },
    "tags": []
   },
   "outputs": [],
   "source": [
    "df_dlc.rename(columns={'trial': 'DLC_video_trial_label', \n",
    "                       'labeled_h5': 'DLC_labeled_h5'}, \n",
    "              inplace=True)"
   ]
  },
  {
   "cell_type": "code",
   "execution_count": 29,
   "id": "28866b09",
   "metadata": {
    "execution": {
     "iopub.execute_input": "2023-04-28T23:30:19.702209Z",
     "iopub.status.busy": "2023-04-28T23:30:19.702090Z",
     "iopub.status.idle": "2023-04-28T23:30:19.704289Z",
     "shell.execute_reply": "2023-04-28T23:30:19.704030Z"
    },
    "papermill": {
     "duration": 0.008969,
     "end_time": "2023-04-28T23:30:19.705126",
     "exception": false,
     "start_time": "2023-04-28T23:30:19.696157",
     "status": "completed"
    },
    "tags": []
   },
   "outputs": [],
   "source": [
    "df_dlc.drop(columns=['date','session'], inplace=True)"
   ]
  },
  {
   "cell_type": "code",
   "execution_count": 30,
   "id": "2fdda394",
   "metadata": {
    "execution": {
     "iopub.execute_input": "2023-04-28T23:30:19.716676Z",
     "iopub.status.busy": "2023-04-28T23:30:19.716566Z",
     "iopub.status.idle": "2023-04-28T23:30:19.718301Z",
     "shell.execute_reply": "2023-04-28T23:30:19.718047Z"
    },
    "papermill": {
     "duration": 0.008469,
     "end_time": "2023-04-28T23:30:19.719148",
     "exception": false,
     "start_time": "2023-04-28T23:30:19.710679",
     "status": "completed"
    },
    "tags": []
   },
   "outputs": [],
   "source": [
    "df_dlc.reset_index(drop=True, inplace=True)"
   ]
  },
  {
   "cell_type": "code",
   "execution_count": 31,
   "id": "a66b48f9",
   "metadata": {
    "execution": {
     "iopub.execute_input": "2023-04-28T23:30:19.731453Z",
     "iopub.status.busy": "2023-04-28T23:30:19.731243Z",
     "iopub.status.idle": "2023-04-28T23:30:19.733696Z",
     "shell.execute_reply": "2023-04-28T23:30:19.733441Z"
    },
    "papermill": {
     "duration": 0.009533,
     "end_time": "2023-04-28T23:30:19.734541",
     "exception": false,
     "start_time": "2023-04-28T23:30:19.725008",
     "status": "completed"
    },
    "tags": []
   },
   "outputs": [],
   "source": [
    "df_main = df_main.join(df_dlc)"
   ]
  },
  {
   "cell_type": "code",
   "execution_count": 32,
   "id": "ce36493d",
   "metadata": {
    "execution": {
     "iopub.execute_input": "2023-04-28T23:30:19.746551Z",
     "iopub.status.busy": "2023-04-28T23:30:19.746432Z",
     "iopub.status.idle": "2023-04-28T23:30:19.754427Z",
     "shell.execute_reply": "2023-04-28T23:30:19.754164Z"
    },
    "papermill": {
     "duration": 0.014857,
     "end_time": "2023-04-28T23:30:19.755262",
     "exception": false,
     "start_time": "2023-04-28T23:30:19.740405",
     "status": "completed"
    },
    "tags": []
   },
   "outputs": [
    {
     "data": {
      "text/html": [
       "<div>\n",
       "<style scoped>\n",
       "    .dataframe tbody tr th:only-of-type {\n",
       "        vertical-align: middle;\n",
       "    }\n",
       "\n",
       "    .dataframe tbody tr th {\n",
       "        vertical-align: top;\n",
       "    }\n",
       "\n",
       "    .dataframe thead th {\n",
       "        text-align: right;\n",
       "    }\n",
       "</style>\n",
       "<table border=\"1\" class=\"dataframe\">\n",
       "  <thead>\n",
       "    <tr style=\"text-align: right;\">\n",
       "      <th></th>\n",
       "      <th>DATE</th>\n",
       "      <th>SESSION</th>\n",
       "      <th>PERSONNEL</th>\n",
       "      <th>TRIAL</th>\n",
       "      <th>LEFT</th>\n",
       "      <th>RIGHT</th>\n",
       "      <th>ANGLE</th>\n",
       "      <th>SPHEROID</th>\n",
       "      <th>ASPECT_RATIO</th>\n",
       "      <th>SEQUENCE</th>\n",
       "      <th>...</th>\n",
       "      <th>hydro_time_diff</th>\n",
       "      <th>rough_chirp_time</th>\n",
       "      <th>dtag_trial_start_time</th>\n",
       "      <th>dtag_trial_end_time</th>\n",
       "      <th>see_chirp_in_dtag</th>\n",
       "      <th>dtag_trial_comments</th>\n",
       "      <th>dtag_wav_file</th>\n",
       "      <th>DLC_video_trial_label</th>\n",
       "      <th>gopro_video</th>\n",
       "      <th>DLC_labeled_h5</th>\n",
       "    </tr>\n",
       "  </thead>\n",
       "  <tbody>\n",
       "    <tr>\n",
       "      <th>0</th>\n",
       "      <td>20190625</td>\n",
       "      <td>1</td>\n",
       "      <td>WJ, ML</td>\n",
       "      <td>0</td>\n",
       "      <td>T</td>\n",
       "      <td>X</td>\n",
       "      <td>1</td>\n",
       "      <td>X</td>\n",
       "      <td>0.0</td>\n",
       "      <td>1</td>\n",
       "      <td>...</td>\n",
       "      <td>0 days 00:00:00.000000000</td>\n",
       "      <td>06:51.328000</td>\n",
       "      <td>6:49.100</td>\n",
       "      <td>7:00.200</td>\n",
       "      <td>Y</td>\n",
       "      <td>NaN</td>\n",
       "      <td>20190625/session1/dtag/pp19_176a_027.wav</td>\n",
       "      <td>00_1</td>\n",
       "      <td>GOPR1466</td>\n",
       "      <td>GOPR1466_20190625_s1_t00_1DLC_resnet50_muri-fb...</td>\n",
       "    </tr>\n",
       "    <tr>\n",
       "      <th>1</th>\n",
       "      <td>20190625</td>\n",
       "      <td>1</td>\n",
       "      <td>WJ, ML</td>\n",
       "      <td>0</td>\n",
       "      <td>T</td>\n",
       "      <td>X</td>\n",
       "      <td>1</td>\n",
       "      <td>X</td>\n",
       "      <td>0.0</td>\n",
       "      <td>1</td>\n",
       "      <td>...</td>\n",
       "      <td>0 days 00:00:17.000000000</td>\n",
       "      <td>07:08.328000</td>\n",
       "      <td>7:07.500</td>\n",
       "      <td>7:29.500</td>\n",
       "      <td>Y</td>\n",
       "      <td>NaN</td>\n",
       "      <td>20190625/session1/dtag/pp19_176a_027.wav</td>\n",
       "      <td>00_2</td>\n",
       "      <td>GOPR1466</td>\n",
       "      <td>GOPR1466_20190625_s1_t00_2DLC_resnet50_muri-fb...</td>\n",
       "    </tr>\n",
       "    <tr>\n",
       "      <th>2</th>\n",
       "      <td>20190625</td>\n",
       "      <td>1</td>\n",
       "      <td>WJ, ML</td>\n",
       "      <td>1</td>\n",
       "      <td>T</td>\n",
       "      <td>C</td>\n",
       "      <td>1</td>\n",
       "      <td>L</td>\n",
       "      <td>2.9</td>\n",
       "      <td>1</td>\n",
       "      <td>...</td>\n",
       "      <td>0 days 00:02:27.000000000</td>\n",
       "      <td>09:18.328000</td>\n",
       "      <td>9:16.900</td>\n",
       "      <td>9:39.900</td>\n",
       "      <td>Y</td>\n",
       "      <td>NaN</td>\n",
       "      <td>20190625/session1/dtag/pp19_176a_027.wav</td>\n",
       "      <td>01</td>\n",
       "      <td>GOPR1466</td>\n",
       "      <td>GOPR1466_20190625_s1_t01DLC_resnet50_muri-fb-j...</td>\n",
       "    </tr>\n",
       "    <tr>\n",
       "      <th>3</th>\n",
       "      <td>20190625</td>\n",
       "      <td>1</td>\n",
       "      <td>WJ, ML</td>\n",
       "      <td>2</td>\n",
       "      <td>C</td>\n",
       "      <td>T</td>\n",
       "      <td>1</td>\n",
       "      <td>L</td>\n",
       "      <td>2.9</td>\n",
       "      <td>1</td>\n",
       "      <td>...</td>\n",
       "      <td>0 days 00:04:55.000000000</td>\n",
       "      <td>11:46.328000</td>\n",
       "      <td>11:44.800</td>\n",
       "      <td>12:06.800</td>\n",
       "      <td>Y</td>\n",
       "      <td>NaN</td>\n",
       "      <td>20190625/session1/dtag/pp19_176a_027.wav</td>\n",
       "      <td>02</td>\n",
       "      <td>GOPR1466</td>\n",
       "      <td>GOPR1466_20190625_s1_t02DLC_resnet50_muri-fb-j...</td>\n",
       "    </tr>\n",
       "    <tr>\n",
       "      <th>4</th>\n",
       "      <td>20190625</td>\n",
       "      <td>1</td>\n",
       "      <td>WJ, ML</td>\n",
       "      <td>3</td>\n",
       "      <td>T</td>\n",
       "      <td>C</td>\n",
       "      <td>1</td>\n",
       "      <td>L</td>\n",
       "      <td>2.9</td>\n",
       "      <td>1</td>\n",
       "      <td>...</td>\n",
       "      <td>0 days 00:06:26.000000000</td>\n",
       "      <td>13:17.328000</td>\n",
       "      <td>13:15.200</td>\n",
       "      <td>13:36.100</td>\n",
       "      <td>Y</td>\n",
       "      <td>NaN</td>\n",
       "      <td>20190625/session1/dtag/pp19_176a_027.wav</td>\n",
       "      <td>03</td>\n",
       "      <td>GOPR1466</td>\n",
       "      <td>GOPR1466_20190625_s1_t03DLC_resnet50_muri-fb-j...</td>\n",
       "    </tr>\n",
       "    <tr>\n",
       "      <th>...</th>\n",
       "      <td>...</td>\n",
       "      <td>...</td>\n",
       "      <td>...</td>\n",
       "      <td>...</td>\n",
       "      <td>...</td>\n",
       "      <td>...</td>\n",
       "      <td>...</td>\n",
       "      <td>...</td>\n",
       "      <td>...</td>\n",
       "      <td>...</td>\n",
       "      <td>...</td>\n",
       "      <td>...</td>\n",
       "      <td>...</td>\n",
       "      <td>...</td>\n",
       "      <td>...</td>\n",
       "      <td>...</td>\n",
       "      <td>...</td>\n",
       "      <td>...</td>\n",
       "      <td>...</td>\n",
       "      <td>...</td>\n",
       "      <td>...</td>\n",
       "    </tr>\n",
       "    <tr>\n",
       "      <th>242</th>\n",
       "      <td>20190704</td>\n",
       "      <td>3</td>\n",
       "      <td>ML</td>\n",
       "      <td>8</td>\n",
       "      <td>T</td>\n",
       "      <td>C</td>\n",
       "      <td>1</td>\n",
       "      <td>M</td>\n",
       "      <td>1.3</td>\n",
       "      <td>24</td>\n",
       "      <td>...</td>\n",
       "      <td>0 days 00:07:42.000000000</td>\n",
       "      <td>12:18.484000</td>\n",
       "      <td>12:17.830</td>\n",
       "      <td>12:40.950</td>\n",
       "      <td>Y</td>\n",
       "      <td>NaN</td>\n",
       "      <td>20190704/session3/dtag/pp19_185c_055.wav</td>\n",
       "      <td>08</td>\n",
       "      <td>GOPR1489</td>\n",
       "      <td>GOPR1489_20190704_s3_t08DLC_resnet50_muri-fb-j...</td>\n",
       "    </tr>\n",
       "    <tr>\n",
       "      <th>243</th>\n",
       "      <td>20190704</td>\n",
       "      <td>3</td>\n",
       "      <td>ML</td>\n",
       "      <td>9</td>\n",
       "      <td>C</td>\n",
       "      <td>T</td>\n",
       "      <td>3</td>\n",
       "      <td>M</td>\n",
       "      <td>1.3</td>\n",
       "      <td>24</td>\n",
       "      <td>...</td>\n",
       "      <td>0 days 00:08:42.000000000</td>\n",
       "      <td>13:18.484000</td>\n",
       "      <td>13:16.870</td>\n",
       "      <td>13:36.590</td>\n",
       "      <td>Y</td>\n",
       "      <td>NaN</td>\n",
       "      <td>20190704/session3/dtag/pp19_185c_055.wav</td>\n",
       "      <td>09</td>\n",
       "      <td>GOPR1489</td>\n",
       "      <td>GOPR1489_20190704_s3_t09DLC_resnet50_muri-fb-j...</td>\n",
       "    </tr>\n",
       "    <tr>\n",
       "      <th>244</th>\n",
       "      <td>20190704</td>\n",
       "      <td>3</td>\n",
       "      <td>ML</td>\n",
       "      <td>10</td>\n",
       "      <td>T</td>\n",
       "      <td>C</td>\n",
       "      <td>3</td>\n",
       "      <td>M</td>\n",
       "      <td>1.3</td>\n",
       "      <td>24</td>\n",
       "      <td>...</td>\n",
       "      <td>0 days 00:09:39.000000000</td>\n",
       "      <td>14:15.484000</td>\n",
       "      <td>14:10.480</td>\n",
       "      <td>14:31.940</td>\n",
       "      <td>Y</td>\n",
       "      <td>NaN</td>\n",
       "      <td>20190704/session3/dtag/pp19_185c_055.wav</td>\n",
       "      <td>10</td>\n",
       "      <td>GOPR1489</td>\n",
       "      <td>GOPR1489_20190704_s3_t10DLC_resnet50_muri-fb-j...</td>\n",
       "    </tr>\n",
       "    <tr>\n",
       "      <th>245</th>\n",
       "      <td>20190704</td>\n",
       "      <td>3</td>\n",
       "      <td>ML</td>\n",
       "      <td>11</td>\n",
       "      <td>T</td>\n",
       "      <td>C</td>\n",
       "      <td>3</td>\n",
       "      <td>M</td>\n",
       "      <td>1.3</td>\n",
       "      <td>24</td>\n",
       "      <td>...</td>\n",
       "      <td>0 days 00:10:24.000000000</td>\n",
       "      <td>15:00.484000</td>\n",
       "      <td>14:59.270</td>\n",
       "      <td>15:21.070</td>\n",
       "      <td>Y</td>\n",
       "      <td>NaN</td>\n",
       "      <td>20190704/session3/dtag/pp19_185c_055.wav</td>\n",
       "      <td>11</td>\n",
       "      <td>GOPR1489</td>\n",
       "      <td>GOPR1489_20190704_s3_t11DLC_resnet50_muri-fb-j...</td>\n",
       "    </tr>\n",
       "    <tr>\n",
       "      <th>246</th>\n",
       "      <td>20190704</td>\n",
       "      <td>3</td>\n",
       "      <td>ML</td>\n",
       "      <td>12</td>\n",
       "      <td>T</td>\n",
       "      <td>C</td>\n",
       "      <td>4</td>\n",
       "      <td>M</td>\n",
       "      <td>1.3</td>\n",
       "      <td>24</td>\n",
       "      <td>...</td>\n",
       "      <td>0 days 00:12:32.000000000</td>\n",
       "      <td>17:08.484000</td>\n",
       "      <td>17:07.930</td>\n",
       "      <td>17:27.930</td>\n",
       "      <td>Y</td>\n",
       "      <td>NaN</td>\n",
       "      <td>20190704/session3/dtag/pp19_185c_055.wav</td>\n",
       "      <td>12_1</td>\n",
       "      <td>GOPR1489</td>\n",
       "      <td>GOPR1489_20190704_s3_t12_1DLC_resnet50_muri-fb...</td>\n",
       "    </tr>\n",
       "  </tbody>\n",
       "</table>\n",
       "<p>247 rows × 42 columns</p>\n",
       "</div>"
      ],
      "text/plain": [
       "         DATE  SESSION PERSONNEL  TRIAL LEFT RIGHT  ANGLE SPHEROID  \\\n",
       "0    20190625        1    WJ, ML      0    T     X      1        X   \n",
       "1    20190625        1    WJ, ML      0    T     X      1        X   \n",
       "2    20190625        1    WJ, ML      1    T     C      1        L   \n",
       "3    20190625        1    WJ, ML      2    C     T      1        L   \n",
       "4    20190625        1    WJ, ML      3    T     C      1        L   \n",
       "..        ...      ...       ...    ...  ...   ...    ...      ...   \n",
       "242  20190704        3        ML      8    T     C      1        M   \n",
       "243  20190704        3        ML      9    C     T      3        M   \n",
       "244  20190704        3        ML     10    T     C      3        M   \n",
       "245  20190704        3        ML     11    T     C      3        M   \n",
       "246  20190704        3        ML     12    T     C      4        M   \n",
       "\n",
       "     ASPECT_RATIO  SEQUENCE  ...            hydro_time_diff rough_chirp_time  \\\n",
       "0             0.0         1  ...  0 days 00:00:00.000000000     06:51.328000   \n",
       "1             0.0         1  ...  0 days 00:00:17.000000000     07:08.328000   \n",
       "2             2.9         1  ...  0 days 00:02:27.000000000     09:18.328000   \n",
       "3             2.9         1  ...  0 days 00:04:55.000000000     11:46.328000   \n",
       "4             2.9         1  ...  0 days 00:06:26.000000000     13:17.328000   \n",
       "..            ...       ...  ...                        ...              ...   \n",
       "242           1.3        24  ...  0 days 00:07:42.000000000     12:18.484000   \n",
       "243           1.3        24  ...  0 days 00:08:42.000000000     13:18.484000   \n",
       "244           1.3        24  ...  0 days 00:09:39.000000000     14:15.484000   \n",
       "245           1.3        24  ...  0 days 00:10:24.000000000     15:00.484000   \n",
       "246           1.3        24  ...  0 days 00:12:32.000000000     17:08.484000   \n",
       "\n",
       "    dtag_trial_start_time dtag_trial_end_time see_chirp_in_dtag  \\\n",
       "0                6:49.100            7:00.200                 Y   \n",
       "1                7:07.500            7:29.500                 Y   \n",
       "2                9:16.900            9:39.900                 Y   \n",
       "3               11:44.800           12:06.800                 Y   \n",
       "4               13:15.200           13:36.100                 Y   \n",
       "..                    ...                 ...               ...   \n",
       "242             12:17.830           12:40.950                 Y   \n",
       "243             13:16.870           13:36.590                 Y   \n",
       "244             14:10.480           14:31.940                 Y   \n",
       "245             14:59.270           15:21.070                 Y   \n",
       "246             17:07.930           17:27.930                 Y   \n",
       "\n",
       "    dtag_trial_comments                             dtag_wav_file  \\\n",
       "0                   NaN  20190625/session1/dtag/pp19_176a_027.wav   \n",
       "1                   NaN  20190625/session1/dtag/pp19_176a_027.wav   \n",
       "2                   NaN  20190625/session1/dtag/pp19_176a_027.wav   \n",
       "3                   NaN  20190625/session1/dtag/pp19_176a_027.wav   \n",
       "4                   NaN  20190625/session1/dtag/pp19_176a_027.wav   \n",
       "..                  ...                                       ...   \n",
       "242                 NaN  20190704/session3/dtag/pp19_185c_055.wav   \n",
       "243                 NaN  20190704/session3/dtag/pp19_185c_055.wav   \n",
       "244                 NaN  20190704/session3/dtag/pp19_185c_055.wav   \n",
       "245                 NaN  20190704/session3/dtag/pp19_185c_055.wav   \n",
       "246                 NaN  20190704/session3/dtag/pp19_185c_055.wav   \n",
       "\n",
       "    DLC_video_trial_label  gopro_video  \\\n",
       "0                    00_1     GOPR1466   \n",
       "1                    00_2     GOPR1466   \n",
       "2                      01     GOPR1466   \n",
       "3                      02     GOPR1466   \n",
       "4                      03     GOPR1466   \n",
       "..                    ...          ...   \n",
       "242                    08     GOPR1489   \n",
       "243                    09     GOPR1489   \n",
       "244                    10     GOPR1489   \n",
       "245                    11     GOPR1489   \n",
       "246                  12_1     GOPR1489   \n",
       "\n",
       "                                        DLC_labeled_h5  \n",
       "0    GOPR1466_20190625_s1_t00_1DLC_resnet50_muri-fb...  \n",
       "1    GOPR1466_20190625_s1_t00_2DLC_resnet50_muri-fb...  \n",
       "2    GOPR1466_20190625_s1_t01DLC_resnet50_muri-fb-j...  \n",
       "3    GOPR1466_20190625_s1_t02DLC_resnet50_muri-fb-j...  \n",
       "4    GOPR1466_20190625_s1_t03DLC_resnet50_muri-fb-j...  \n",
       "..                                                 ...  \n",
       "242  GOPR1489_20190704_s3_t08DLC_resnet50_muri-fb-j...  \n",
       "243  GOPR1489_20190704_s3_t09DLC_resnet50_muri-fb-j...  \n",
       "244  GOPR1489_20190704_s3_t10DLC_resnet50_muri-fb-j...  \n",
       "245  GOPR1489_20190704_s3_t11DLC_resnet50_muri-fb-j...  \n",
       "246  GOPR1489_20190704_s3_t12_1DLC_resnet50_muri-fb...  \n",
       "\n",
       "[247 rows x 42 columns]"
      ]
     },
     "execution_count": 32,
     "metadata": {},
     "output_type": "execute_result"
    }
   ],
   "source": [
    "df_main"
   ]
  },
  {
   "cell_type": "markdown",
   "id": "39c5b212",
   "metadata": {
    "papermill": {
     "duration": 0.00576,
     "end_time": "2023-04-28T23:30:19.766876",
     "exception": false,
     "start_time": "2023-04-28T23:30:19.761116",
     "status": "completed"
    },
    "tags": []
   },
   "source": [
    "### Replace gopro_video column with full path"
   ]
  },
  {
   "cell_type": "code",
   "execution_count": 33,
   "id": "70ab9874",
   "metadata": {
    "execution": {
     "iopub.execute_input": "2023-04-28T23:30:19.778790Z",
     "iopub.status.busy": "2023-04-28T23:30:19.778684Z",
     "iopub.status.idle": "2023-04-28T23:30:19.780614Z",
     "shell.execute_reply": "2023-04-28T23:30:19.780367Z"
    },
    "papermill": {
     "duration": 0.008972,
     "end_time": "2023-04-28T23:30:19.781504",
     "exception": false,
     "start_time": "2023-04-28T23:30:19.772532",
     "status": "completed"
    },
    "tags": []
   },
   "outputs": [],
   "source": [
    "def replace_video_name(s):\n",
    "    s['gopro_video'] = Path('%08d'%s['DATE']).joinpath(\n",
    "        'session%s'%s['SESSION'], 'gopro_overhead', s['gopro_video']+'.MP4')\n",
    "    return s"
   ]
  },
  {
   "cell_type": "code",
   "execution_count": 34,
   "id": "41247b9e",
   "metadata": {
    "execution": {
     "iopub.execute_input": "2023-04-28T23:30:19.793598Z",
     "iopub.status.busy": "2023-04-28T23:30:19.793483Z",
     "iopub.status.idle": "2023-04-28T23:30:19.803705Z",
     "shell.execute_reply": "2023-04-28T23:30:19.803452Z"
    },
    "papermill": {
     "duration": 0.017294,
     "end_time": "2023-04-28T23:30:19.804607",
     "exception": false,
     "start_time": "2023-04-28T23:30:19.787313",
     "status": "completed"
    },
    "tags": []
   },
   "outputs": [],
   "source": [
    "df_main = df_main.apply(replace_video_name, axis=1)"
   ]
  },
  {
   "cell_type": "markdown",
   "id": "89e7c9af",
   "metadata": {
    "papermill": {
     "duration": 0.00574,
     "end_time": "2023-04-28T23:30:19.816138",
     "exception": false,
     "start_time": "2023-04-28T23:30:19.810398",
     "status": "completed"
    },
    "tags": []
   },
   "source": [
    "## Add tap sync info to main dataframe"
   ]
  },
  {
   "cell_type": "code",
   "execution_count": 35,
   "id": "a248109b",
   "metadata": {
    "execution": {
     "iopub.execute_input": "2023-04-28T23:30:19.828132Z",
     "iopub.status.busy": "2023-04-28T23:30:19.828019Z",
     "iopub.status.idle": "2023-04-28T23:30:19.829746Z",
     "shell.execute_reply": "2023-04-28T23:30:19.829509Z"
    },
    "papermill": {
     "duration": 0.00873,
     "end_time": "2023-04-28T23:30:19.830585",
     "exception": false,
     "start_time": "2023-04-28T23:30:19.821855",
     "status": "completed"
    },
    "tags": []
   },
   "outputs": [],
   "source": [
    "video_dtag_sync_file = dtag_detect_path / 'video_dtag_sync_time_calc_dec2021.csv'"
   ]
  },
  {
   "cell_type": "code",
   "execution_count": 36,
   "id": "24be910a",
   "metadata": {
    "execution": {
     "iopub.execute_input": "2023-04-28T23:30:19.843098Z",
     "iopub.status.busy": "2023-04-28T23:30:19.842972Z",
     "iopub.status.idle": "2023-04-28T23:30:19.846538Z",
     "shell.execute_reply": "2023-04-28T23:30:19.846256Z"
    },
    "papermill": {
     "duration": 0.010851,
     "end_time": "2023-04-28T23:30:19.847451",
     "exception": false,
     "start_time": "2023-04-28T23:30:19.836600",
     "status": "completed"
    },
    "tags": []
   },
   "outputs": [],
   "source": [
    "df_video_dtag_sync = pd.read_csv(video_dtag_sync_file, index_col=0)"
   ]
  },
  {
   "cell_type": "code",
   "execution_count": 37,
   "id": "832ed7a5",
   "metadata": {
    "execution": {
     "iopub.execute_input": "2023-04-28T23:30:19.859609Z",
     "iopub.status.busy": "2023-04-28T23:30:19.859489Z",
     "iopub.status.idle": "2023-04-28T23:30:19.861776Z",
     "shell.execute_reply": "2023-04-28T23:30:19.861542Z"
    },
    "papermill": {
     "duration": 0.009338,
     "end_time": "2023-04-28T23:30:19.862636",
     "exception": false,
     "start_time": "2023-04-28T23:30:19.853298",
     "status": "completed"
    },
    "tags": []
   },
   "outputs": [],
   "source": [
    "df_video_dtag_sync.rename(columns={'vid_sync_num': 'tap_sync_video_num', \n",
    "                                   'dtag_read_start': 'tap_sync_dtag_start_time', \n",
    "                                   'dtag_read_end': 'tap_sync_dtag_end_time', \n",
    "                                   'vid_sync_frame': 'tap_sync_video_frame',\n",
    "                                   'dtag_sync_comment': 'tap_sync_comments',\n",
    "                                   'dtag2vid_sync_time': 'tap_sync_time_dtag2video'\n",
    "                                  }, \n",
    "                          inplace=True)"
   ]
  },
  {
   "cell_type": "code",
   "execution_count": 38,
   "id": "635d2a87",
   "metadata": {
    "execution": {
     "iopub.execute_input": "2023-04-28T23:30:19.874598Z",
     "iopub.status.busy": "2023-04-28T23:30:19.874495Z",
     "iopub.status.idle": "2023-04-28T23:30:19.876529Z",
     "shell.execute_reply": "2023-04-28T23:30:19.876282Z"
    },
    "papermill": {
     "duration": 0.008971,
     "end_time": "2023-04-28T23:30:19.877360",
     "exception": false,
     "start_time": "2023-04-28T23:30:19.868389",
     "status": "completed"
    },
    "tags": []
   },
   "outputs": [],
   "source": [
    "df_video_dtag_sync.drop(columns=['Unnamed: 7', 'wav_file'], inplace=True)"
   ]
  },
  {
   "cell_type": "code",
   "execution_count": 39,
   "id": "55858ed5",
   "metadata": {
    "execution": {
     "iopub.execute_input": "2023-04-28T23:30:19.889377Z",
     "iopub.status.busy": "2023-04-28T23:30:19.889262Z",
     "iopub.status.idle": "2023-04-28T23:30:19.893067Z",
     "shell.execute_reply": "2023-04-28T23:30:19.892788Z"
    },
    "papermill": {
     "duration": 0.010801,
     "end_time": "2023-04-28T23:30:19.893930",
     "exception": false,
     "start_time": "2023-04-28T23:30:19.883129",
     "status": "completed"
    },
    "tags": []
   },
   "outputs": [],
   "source": [
    "df_main = df_main.merge(df_video_dtag_sync, \n",
    "                            how='outer', \n",
    "                            left_on=['DATE','SESSION'], \n",
    "                            right_on=['date','session'])"
   ]
  },
  {
   "cell_type": "code",
   "execution_count": 40,
   "id": "760d97b9",
   "metadata": {
    "execution": {
     "iopub.execute_input": "2023-04-28T23:30:19.905898Z",
     "iopub.status.busy": "2023-04-28T23:30:19.905790Z",
     "iopub.status.idle": "2023-04-28T23:30:19.908264Z",
     "shell.execute_reply": "2023-04-28T23:30:19.908028Z"
    },
    "papermill": {
     "duration": 0.009414,
     "end_time": "2023-04-28T23:30:19.909096",
     "exception": false,
     "start_time": "2023-04-28T23:30:19.899682",
     "status": "completed"
    },
    "tags": []
   },
   "outputs": [],
   "source": [
    "df_main.drop(columns=['date','session'], inplace=True)"
   ]
  },
  {
   "cell_type": "markdown",
   "id": "8311b4d5",
   "metadata": {
    "papermill": {
     "duration": 0.005687,
     "end_time": "2023-04-28T23:30:19.920526",
     "exception": false,
     "start_time": "2023-04-28T23:30:19.914839",
     "status": "completed"
    },
    "tags": []
   },
   "source": [
    "## Correct `FRAME_NUM_START` and `TOUCH_FRAME` for trials in second and third videos"
   ]
  },
  {
   "cell_type": "markdown",
   "id": "35463cff",
   "metadata": {
    "papermill": {
     "duration": 0.006336,
     "end_time": "2023-04-28T23:30:19.932833",
     "exception": false,
     "start_time": "2023-04-28T23:30:19.926497",
     "status": "completed"
    },
    "tags": []
   },
   "source": [
    "We need to correct for the frame number to account for the total frame number in the first video if the trial happened in the second video."
   ]
  },
  {
   "cell_type": "code",
   "execution_count": 41,
   "id": "554758a6",
   "metadata": {
    "execution": {
     "iopub.execute_input": "2023-04-28T23:30:19.946359Z",
     "iopub.status.busy": "2023-04-28T23:30:19.946089Z",
     "iopub.status.idle": "2023-04-28T23:30:19.950504Z",
     "shell.execute_reply": "2023-04-28T23:30:19.950182Z"
    },
    "papermill": {
     "duration": 0.012217,
     "end_time": "2023-04-28T23:30:19.951439",
     "exception": false,
     "start_time": "2023-04-28T23:30:19.939222",
     "status": "completed"
    },
    "tags": []
   },
   "outputs": [],
   "source": [
    "def correct_video_frame_num(s):\n",
    "    if s.at['VIDEO_FILENAME'][:4]!='GOPR':\n",
    "        v_seq_num = int(s.at['VIDEO_FILENAME'][3])\n",
    "        v_id = s.at['VIDEO_FILENAME'][4:8]\n",
    "        folder = Path(s.at['gopro_video']).parent\n",
    "\n",
    "        dst_str = '%d_s%d_t%d' % (s.at['DATE'], s.at['SESSION'], s.at['TRIAL'])\n",
    "        print(dst_str)\n",
    "        print('--- trial in video #%d' % v_seq_num)\n",
    "        \n",
    "        f_num_ori = s.at['FRAME_NUM_START']\n",
    "\n",
    "        if v_seq_num==1:  # add frame number from first video\n",
    "            v0_name = 'GOPR'+v_id+'.MP4'\n",
    "            cap = cv2.VideoCapture(str(Path(raw_path).joinpath(folder, v0_name)))\n",
    "            v0_frame_num = int(cap.get(cv2.CAP_PROP_FRAME_COUNT))\n",
    "            s.at['FRAME_NUM_START'] += v0_frame_num\n",
    "            s.at['TOUCH_FRAME'] += v0_frame_num\n",
    "        elif v_seq_num==2:  # add frame number from first 2 videos\n",
    "            v0_name = 'GOPR'+v_id+'.MP4'\n",
    "            v1_name = 'GP01'+v_id+'.MP4'\n",
    "            cap = cv2.VideoCapture(str(Path(raw_path).joinpath(folder, v0_name)))\n",
    "            v0_frame_num = int(cap.get(cv2.CAP_PROP_FRAME_COUNT))\n",
    "            cap = cv2.VideoCapture(str(Path(raw_path).joinpath(folder, v1_name)))\n",
    "            v1_frame_num = int(cap.get(cv2.CAP_PROP_FRAME_COUNT))\n",
    "            s.at['FRAME_NUM_START'] = s.at['FRAME_NUM_START'] + v0_frame_num + v1_frame_num\n",
    "            s.at['TOUCH_FRAME'] = s.at['TOUCH_FRAME'] + v0_frame_num + v1_frame_num\n",
    "\n",
    "        print('--- correcting FRAME_START_NUM from %d to %d' % \n",
    "              (f_num_ori, s.at['FRAME_NUM_START']))\n",
    "\n",
    "    return s"
   ]
  },
  {
   "cell_type": "code",
   "execution_count": 42,
   "id": "fd1705ad",
   "metadata": {
    "execution": {
     "iopub.execute_input": "2023-04-28T23:30:19.964718Z",
     "iopub.status.busy": "2023-04-28T23:30:19.964476Z",
     "iopub.status.idle": "2023-04-28T23:30:25.008708Z",
     "shell.execute_reply": "2023-04-28T23:30:25.008408Z"
    },
    "papermill": {
     "duration": 5.052136,
     "end_time": "2023-04-28T23:30:25.009723",
     "exception": false,
     "start_time": "2023-04-28T23:30:19.957587",
     "status": "completed"
    },
    "scrolled": true,
    "tags": []
   },
   "outputs": [
    {
     "name": "stdout",
     "output_type": "stream",
     "text": [
      "20190625_s1_t6\n",
      "--- trial in video #1\n",
      "--- correcting FRAME_START_NUM from 753 to 32583\n",
      "20190625_s2_t8\n",
      "--- trial in video #1\n",
      "--- correcting FRAME_START_NUM from 857 to 32687\n",
      "20190625_s3_t8\n",
      "--- trial in video #1\n"
     ]
    },
    {
     "name": "stdout",
     "output_type": "stream",
     "text": [
      "--- correcting FRAME_START_NUM from 1380 to 33210\n",
      "20190625_s3_t9\n",
      "--- trial in video #1\n",
      "--- correcting FRAME_START_NUM from 2862 to 34692\n",
      "20190625_s3_t10\n",
      "--- trial in video #1\n",
      "--- correcting FRAME_START_NUM from 5488 to 37318\n",
      "20190626_s2_t6\n",
      "--- trial in video #1\n",
      "--- correcting FRAME_START_NUM from 1520 to 33350\n",
      "20190626_s2_t7\n",
      "--- trial in video #1\n"
     ]
    },
    {
     "name": "stdout",
     "output_type": "stream",
     "text": [
      "--- correcting FRAME_START_NUM from 3476 to 35306\n",
      "20190626_s2_t8\n",
      "--- trial in video #1\n",
      "--- correcting FRAME_START_NUM from 5283 to 37113\n",
      "20190626_s2_t9\n",
      "--- trial in video #1\n",
      "--- correcting FRAME_START_NUM from 6960 to 38790\n",
      "20190626_s2_t10\n",
      "--- trial in video #1\n",
      "--- correcting FRAME_START_NUM from 8741 to 40571\n",
      "20190626_s3_t3\n",
      "--- trial in video #1\n"
     ]
    },
    {
     "name": "stdout",
     "output_type": "stream",
     "text": [
      "--- correcting FRAME_START_NUM from 184 to 32014\n",
      "20190626_s3_t4\n",
      "--- trial in video #1\n",
      "--- correcting FRAME_START_NUM from 2087 to 33917\n",
      "20190626_s3_t5\n",
      "--- trial in video #1\n",
      "--- correcting FRAME_START_NUM from 3836 to 35666\n",
      "20190626_s3_t6\n",
      "--- trial in video #1\n",
      "--- correcting FRAME_START_NUM from 6177 to 38007\n",
      "20190626_s3_t7\n",
      "--- trial in video #1\n"
     ]
    },
    {
     "name": "stdout",
     "output_type": "stream",
     "text": [
      "--- correcting FRAME_START_NUM from 7841 to 39671\n",
      "20190626_s3_t8\n",
      "--- trial in video #1\n",
      "--- correcting FRAME_START_NUM from 9402 to 41232\n",
      "20190626_s3_t9\n",
      "--- trial in video #1\n",
      "--- correcting FRAME_START_NUM from 11306 to 43136\n",
      "20190626_s3_t10\n",
      "--- trial in video #1\n",
      "--- correcting FRAME_START_NUM from 13027 to 44857\n",
      "20190627_s1_t9\n",
      "--- trial in video #1\n"
     ]
    },
    {
     "name": "stdout",
     "output_type": "stream",
     "text": [
      "--- correcting FRAME_START_NUM from 1042 to 32872\n",
      "20190627_s1_t10\n",
      "--- trial in video #1\n",
      "--- correcting FRAME_START_NUM from 2768 to 34598\n",
      "20190627_s1_t11\n",
      "--- trial in video #1\n",
      "--- correcting FRAME_START_NUM from 5434 to 37264\n",
      "20190627_s2_t1\n",
      "--- trial in video #1\n",
      "--- correcting FRAME_START_NUM from 2833 to 34663\n",
      "20190627_s2_t2\n",
      "--- trial in video #1\n"
     ]
    },
    {
     "name": "stdout",
     "output_type": "stream",
     "text": [
      "--- correcting FRAME_START_NUM from 5128 to 36958\n",
      "20190627_s2_t3\n",
      "--- trial in video #1\n",
      "--- correcting FRAME_START_NUM from 6674 to 38504\n",
      "20190627_s2_t4\n",
      "--- trial in video #1\n",
      "--- correcting FRAME_START_NUM from 8896 to 40726\n",
      "20190627_s2_t5\n",
      "--- trial in video #1\n",
      "--- correcting FRAME_START_NUM from 10370 to 42200\n",
      "20190627_s2_t6\n",
      "--- trial in video #1\n"
     ]
    },
    {
     "name": "stdout",
     "output_type": "stream",
     "text": [
      "--- correcting FRAME_START_NUM from 12170 to 44000\n",
      "20190627_s2_t7\n",
      "--- trial in video #1\n",
      "--- correcting FRAME_START_NUM from 14389 to 46219\n",
      "20190627_s2_t8\n",
      "--- trial in video #1\n",
      "--- correcting FRAME_START_NUM from 16431 to 48261\n",
      "20190627_s2_t9\n",
      "--- trial in video #1\n",
      "--- correcting FRAME_START_NUM from 18364 to 50194\n",
      "20190627_s2_t10\n",
      "--- trial in video #1\n"
     ]
    },
    {
     "name": "stdout",
     "output_type": "stream",
     "text": [
      "--- correcting FRAME_START_NUM from 20357 to 52187\n",
      "20190627_s2_t11\n",
      "--- trial in video #1\n",
      "--- correcting FRAME_START_NUM from 21838 to 53668\n",
      "20190627_s3_t7\n",
      "--- trial in video #1\n",
      "--- correcting FRAME_START_NUM from 381 to 32211\n",
      "20190627_s3_t8\n",
      "--- trial in video #1\n",
      "--- correcting FRAME_START_NUM from 2089 to 33919\n",
      "20190627_s3_t9\n",
      "--- trial in video #1\n"
     ]
    },
    {
     "name": "stdout",
     "output_type": "stream",
     "text": [
      "--- correcting FRAME_START_NUM from 3921 to 35751\n",
      "20190627_s3_t10\n",
      "--- trial in video #1\n",
      "--- correcting FRAME_START_NUM from 5528 to 37358\n",
      "20190627_s3_t11\n",
      "--- trial in video #1\n",
      "--- correcting FRAME_START_NUM from 6990 to 38820\n",
      "20190628_s1_t6\n",
      "--- trial in video #1\n",
      "--- correcting FRAME_START_NUM from 1195 to 33025\n",
      "20190628_s1_t7\n",
      "--- trial in video #1\n"
     ]
    },
    {
     "name": "stdout",
     "output_type": "stream",
     "text": [
      "--- correcting FRAME_START_NUM from 2505 to 34335\n",
      "20190628_s1_t8\n",
      "--- trial in video #1\n",
      "--- correcting FRAME_START_NUM from 4635 to 36465\n",
      "20190628_s1_t9\n",
      "--- trial in video #1\n",
      "--- correcting FRAME_START_NUM from 5944 to 37774\n",
      "20190628_s1_t10\n",
      "--- trial in video #1\n",
      "--- correcting FRAME_START_NUM from 7487 to 39317\n",
      "20190628_s2_t7\n",
      "--- trial in video #1\n"
     ]
    },
    {
     "name": "stdout",
     "output_type": "stream",
     "text": [
      "--- correcting FRAME_START_NUM from 176 to 32006\n",
      "20190628_s2_t8\n",
      "--- trial in video #1\n",
      "--- correcting FRAME_START_NUM from 2136 to 33966\n",
      "20190628_s2_t9\n",
      "--- trial in video #1\n",
      "--- correcting FRAME_START_NUM from 3745 to 35575\n",
      "20190628_s2_t10\n",
      "--- trial in video #1\n",
      "--- correcting FRAME_START_NUM from 5182 to 37012\n",
      "20190628_s2_t11\n",
      "--- trial in video #1\n"
     ]
    },
    {
     "name": "stdout",
     "output_type": "stream",
     "text": [
      "--- correcting FRAME_START_NUM from 6307 to 38137\n",
      "20190628_s2_t12\n",
      "--- trial in video #1\n",
      "--- correcting FRAME_START_NUM from 7960 to 39790\n",
      "20190701_s1_t2\n",
      "--- trial in video #1\n",
      "--- correcting FRAME_START_NUM from 0 to 31830\n",
      "20190701_s1_t3\n",
      "--- trial in video #1\n",
      "--- correcting FRAME_START_NUM from 2388 to 34218\n",
      "20190701_s1_t4\n",
      "--- trial in video #1\n"
     ]
    },
    {
     "name": "stdout",
     "output_type": "stream",
     "text": [
      "--- correcting FRAME_START_NUM from 4433 to 36263\n",
      "20190701_s1_t5\n",
      "--- trial in video #1\n",
      "--- correcting FRAME_START_NUM from 6296 to 38126\n",
      "20190701_s1_t6\n",
      "--- trial in video #1\n",
      "--- correcting FRAME_START_NUM from 8625 to 40455\n",
      "20190701_s1_t7\n",
      "--- trial in video #1\n",
      "--- correcting FRAME_START_NUM from 10454 to 42284\n",
      "20190701_s1_t8\n",
      "--- trial in video #1\n"
     ]
    },
    {
     "name": "stdout",
     "output_type": "stream",
     "text": [
      "--- correcting FRAME_START_NUM from 12070 to 43900\n",
      "20190701_s1_t9\n",
      "--- trial in video #1\n",
      "--- correcting FRAME_START_NUM from 13825 to 45655\n",
      "20190701_s1_t10\n",
      "--- trial in video #1\n",
      "--- correcting FRAME_START_NUM from 16147 to 47977\n",
      "20190701_s2_t1\n",
      "--- trial in video #1\n",
      "--- correcting FRAME_START_NUM from 27508 to 59338\n",
      "20190701_s2_t2\n",
      "--- trial in video #1\n"
     ]
    },
    {
     "name": "stdout",
     "output_type": "stream",
     "text": [
      "--- correcting FRAME_START_NUM from 29414 to 61244\n",
      "20190701_s2_t3\n",
      "--- trial in video #1\n",
      "--- correcting FRAME_START_NUM from 31589 to 63419\n",
      "20190701_s2_t4\n",
      "--- trial in video #2\n",
      "--- correcting FRAME_START_NUM from 1814 to 65474\n",
      "20190701_s2_t5\n",
      "--- trial in video #2\n"
     ]
    },
    {
     "name": "stdout",
     "output_type": "stream",
     "text": [
      "--- correcting FRAME_START_NUM from 4122 to 67782\n",
      "20190701_s2_t6\n",
      "--- trial in video #2\n",
      "--- correcting FRAME_START_NUM from 6766 to 70426\n",
      "20190701_s2_t7\n",
      "--- trial in video #2\n",
      "--- correcting FRAME_START_NUM from 8137 to 71797\n",
      "20190701_s2_t8\n",
      "--- trial in video #2\n"
     ]
    },
    {
     "name": "stdout",
     "output_type": "stream",
     "text": [
      "--- correcting FRAME_START_NUM from 10033 to 73693\n",
      "20190701_s2_t9\n",
      "--- trial in video #2\n",
      "--- correcting FRAME_START_NUM from 11590 to 75250\n",
      "20190701_s2_t10\n",
      "--- trial in video #2\n",
      "--- correcting FRAME_START_NUM from 13488 to 77148\n",
      "20190701_s2_t11\n",
      "--- trial in video #2\n"
     ]
    },
    {
     "name": "stdout",
     "output_type": "stream",
     "text": [
      "--- correcting FRAME_START_NUM from 14565 to 78225\n",
      "20190702_s1_t10\n",
      "--- trial in video #1\n",
      "--- correcting FRAME_START_NUM from 191 to 32021\n",
      "20190702_s2_t11\n",
      "--- trial in video #1\n",
      "--- correcting FRAME_START_NUM from 613 to 32443\n",
      "20190702_s3_t10\n",
      "--- trial in video #1\n",
      "--- correcting FRAME_START_NUM from 642 to 32472\n",
      "20190703_s2_t7\n",
      "--- trial in video #1\n"
     ]
    },
    {
     "name": "stdout",
     "output_type": "stream",
     "text": [
      "--- correcting FRAME_START_NUM from 984 to 32814\n",
      "20190703_s2_t8\n",
      "--- trial in video #1\n",
      "--- correcting FRAME_START_NUM from 2734 to 34564\n",
      "20190703_s2_t9\n",
      "--- trial in video #1\n",
      "--- correcting FRAME_START_NUM from 4137 to 35967\n",
      "20190703_s2_t10\n",
      "--- trial in video #1\n",
      "--- correcting FRAME_START_NUM from 5757 to 37587\n",
      "20190703_s2_t11\n",
      "--- trial in video #1\n"
     ]
    },
    {
     "name": "stdout",
     "output_type": "stream",
     "text": [
      "--- correcting FRAME_START_NUM from 7460 to 39290\n",
      "20190704_s2_t8\n",
      "--- trial in video #1\n",
      "--- correcting FRAME_START_NUM from 479 to 32309\n",
      "20190704_s2_t9\n",
      "--- trial in video #1\n",
      "--- correcting FRAME_START_NUM from 2692 to 34522\n",
      "20190704_s2_t10\n",
      "--- trial in video #1\n",
      "--- correcting FRAME_START_NUM from 4321 to 36151\n",
      "20190704_s2_t11\n",
      "--- trial in video #1\n"
     ]
    },
    {
     "name": "stdout",
     "output_type": "stream",
     "text": [
      "--- correcting FRAME_START_NUM from 5694 to 37524\n"
     ]
    }
   ],
   "source": [
    "df_main = df_main.apply(correct_video_frame_num, axis=1)"
   ]
  },
  {
   "cell_type": "markdown",
   "id": "02d4aac6",
   "metadata": {
    "papermill": {
     "duration": 0.006306,
     "end_time": "2023-04-28T23:30:25.022620",
     "exception": false,
     "start_time": "2023-04-28T23:30:25.016314",
     "status": "completed"
    },
    "tags": []
   },
   "source": [
    "## Update `rough_chirp_time` in main dataframe"
   ]
  },
  {
   "cell_type": "code",
   "execution_count": 43,
   "id": "6ca2da8e",
   "metadata": {
    "execution": {
     "iopub.execute_input": "2023-04-28T23:30:25.035773Z",
     "iopub.status.busy": "2023-04-28T23:30:25.035656Z",
     "iopub.status.idle": "2023-04-28T23:30:25.038215Z",
     "shell.execute_reply": "2023-04-28T23:30:25.037929Z"
    },
    "papermill": {
     "duration": 0.010164,
     "end_time": "2023-04-28T23:30:25.039063",
     "exception": false,
     "start_time": "2023-04-28T23:30:25.028899",
     "status": "completed"
    },
    "tags": []
   },
   "outputs": [],
   "source": [
    "df_main.loc[(df_main['DATE']==20190628) \n",
    "              & (df_main['SESSION']==1) \n",
    "              & (df_main['TRIAL']==3), 'rough_chirp_time'] = '15:46.297000'"
   ]
  },
  {
   "cell_type": "code",
   "execution_count": 44,
   "id": "62883c6b",
   "metadata": {
    "execution": {
     "iopub.execute_input": "2023-04-28T23:30:25.052185Z",
     "iopub.status.busy": "2023-04-28T23:30:25.052078Z",
     "iopub.status.idle": "2023-04-28T23:30:25.054416Z",
     "shell.execute_reply": "2023-04-28T23:30:25.054156Z"
    },
    "papermill": {
     "duration": 0.009843,
     "end_time": "2023-04-28T23:30:25.055252",
     "exception": false,
     "start_time": "2023-04-28T23:30:25.045409",
     "status": "completed"
    },
    "tags": []
   },
   "outputs": [],
   "source": [
    "df_main.loc[(df_main['DATE']==20190628) \n",
    "              & (df_main['SESSION']==1) \n",
    "              & (df_main['TRIAL']==6), 'rough_chirp_time'] = '18:23.058000'"
   ]
  },
  {
   "cell_type": "code",
   "execution_count": 45,
   "id": "ebc39cee",
   "metadata": {
    "execution": {
     "iopub.execute_input": "2023-04-28T23:30:25.068410Z",
     "iopub.status.busy": "2023-04-28T23:30:25.068291Z",
     "iopub.status.idle": "2023-04-28T23:30:25.070565Z",
     "shell.execute_reply": "2023-04-28T23:30:25.070312Z"
    },
    "papermill": {
     "duration": 0.009844,
     "end_time": "2023-04-28T23:30:25.071438",
     "exception": false,
     "start_time": "2023-04-28T23:30:25.061594",
     "status": "completed"
    },
    "tags": []
   },
   "outputs": [],
   "source": [
    "df_main.loc[(df_main['DATE']==20190628) \n",
    "              & (df_main['SESSION']==2) \n",
    "              & (df_main['TRIAL']==3), 'rough_chirp_time'] = '13:56.543000'"
   ]
  },
  {
   "cell_type": "code",
   "execution_count": 46,
   "id": "0e23244e",
   "metadata": {
    "execution": {
     "iopub.execute_input": "2023-04-28T23:30:25.084551Z",
     "iopub.status.busy": "2023-04-28T23:30:25.084440Z",
     "iopub.status.idle": "2023-04-28T23:30:25.086804Z",
     "shell.execute_reply": "2023-04-28T23:30:25.086542Z"
    },
    "papermill": {
     "duration": 0.009865,
     "end_time": "2023-04-28T23:30:25.087610",
     "exception": false,
     "start_time": "2023-04-28T23:30:25.077745",
     "status": "completed"
    },
    "tags": []
   },
   "outputs": [],
   "source": [
    "df_main.loc[(df_main['DATE']==20190628) \n",
    "              & (df_main['SESSION']==2) \n",
    "              & (df_main['TRIAL']==5), 'rough_chirp_time'] = '15:59.300000'"
   ]
  },
  {
   "cell_type": "code",
   "execution_count": 47,
   "id": "581ca74a",
   "metadata": {
    "execution": {
     "iopub.execute_input": "2023-04-28T23:30:25.101181Z",
     "iopub.status.busy": "2023-04-28T23:30:25.101068Z",
     "iopub.status.idle": "2023-04-28T23:30:25.103457Z",
     "shell.execute_reply": "2023-04-28T23:30:25.103197Z"
    },
    "papermill": {
     "duration": 0.010136,
     "end_time": "2023-04-28T23:30:25.104333",
     "exception": false,
     "start_time": "2023-04-28T23:30:25.094197",
     "status": "completed"
    },
    "tags": []
   },
   "outputs": [],
   "source": [
    "df_main.loc[(df_main['DATE']==20190628) \n",
    "              & (df_main['SESSION']==3) \n",
    "              & (df_main['TRIAL']==6), 'rough_chirp_time'] = '12:32.510000'"
   ]
  },
  {
   "cell_type": "code",
   "execution_count": 48,
   "id": "9f79af7a",
   "metadata": {
    "execution": {
     "iopub.execute_input": "2023-04-28T23:30:25.117779Z",
     "iopub.status.busy": "2023-04-28T23:30:25.117655Z",
     "iopub.status.idle": "2023-04-28T23:30:25.120093Z",
     "shell.execute_reply": "2023-04-28T23:30:25.119793Z"
    },
    "papermill": {
     "duration": 0.01025,
     "end_time": "2023-04-28T23:30:25.120942",
     "exception": false,
     "start_time": "2023-04-28T23:30:25.110692",
     "status": "completed"
    },
    "tags": []
   },
   "outputs": [],
   "source": [
    "df_main.loc[(df_main['DATE']==20190628) \n",
    "              & (df_main['SESSION']==3) \n",
    "              & (df_main['TRIAL']==10), 'rough_chirp_time'] = '15:58.274000'"
   ]
  },
  {
   "cell_type": "code",
   "execution_count": 49,
   "id": "16203595",
   "metadata": {
    "execution": {
     "iopub.execute_input": "2023-04-28T23:30:25.134942Z",
     "iopub.status.busy": "2023-04-28T23:30:25.134777Z",
     "iopub.status.idle": "2023-04-28T23:30:25.137421Z",
     "shell.execute_reply": "2023-04-28T23:30:25.137135Z"
    },
    "papermill": {
     "duration": 0.011151,
     "end_time": "2023-04-28T23:30:25.138398",
     "exception": false,
     "start_time": "2023-04-28T23:30:25.127247",
     "status": "completed"
    },
    "tags": []
   },
   "outputs": [],
   "source": [
    "df_main.loc[(df_main['DATE']==20190701) \n",
    "              & (df_main['SESSION']==1) \n",
    "              & (df_main['TRIAL']==3), 'rough_chirp_time'] = '18:59.184000'"
   ]
  },
  {
   "cell_type": "code",
   "execution_count": 50,
   "id": "122ef318",
   "metadata": {
    "execution": {
     "iopub.execute_input": "2023-04-28T23:30:25.151660Z",
     "iopub.status.busy": "2023-04-28T23:30:25.151548Z",
     "iopub.status.idle": "2023-04-28T23:30:25.153853Z",
     "shell.execute_reply": "2023-04-28T23:30:25.153583Z"
    },
    "papermill": {
     "duration": 0.009855,
     "end_time": "2023-04-28T23:30:25.154714",
     "exception": false,
     "start_time": "2023-04-28T23:30:25.144859",
     "status": "completed"
    },
    "tags": []
   },
   "outputs": [],
   "source": [
    "df_main.loc[(df_main['DATE']==20190701) \n",
    "              & (df_main['SESSION']==1) \n",
    "              & (df_main['TRIAL']==4), 'rough_chirp_time'] = '20:07.043000'"
   ]
  },
  {
   "cell_type": "code",
   "execution_count": 51,
   "id": "6fa33505",
   "metadata": {
    "execution": {
     "iopub.execute_input": "2023-04-28T23:30:25.168669Z",
     "iopub.status.busy": "2023-04-28T23:30:25.168499Z",
     "iopub.status.idle": "2023-04-28T23:30:25.173849Z",
     "shell.execute_reply": "2023-04-28T23:30:25.172601Z"
    },
    "papermill": {
     "duration": 0.016172,
     "end_time": "2023-04-28T23:30:25.177158",
     "exception": false,
     "start_time": "2023-04-28T23:30:25.160986",
     "status": "completed"
    },
    "tags": []
   },
   "outputs": [],
   "source": [
    "df_main.loc[(df_main['DATE']==20190701) \n",
    "              & (df_main['SESSION']==1) \n",
    "              & (df_main['TRIAL']==5), 'rough_chirp_time'] = '21:10.902000'"
   ]
  },
  {
   "cell_type": "code",
   "execution_count": 52,
   "id": "992a5d4e",
   "metadata": {
    "execution": {
     "iopub.execute_input": "2023-04-28T23:30:25.192853Z",
     "iopub.status.busy": "2023-04-28T23:30:25.192644Z",
     "iopub.status.idle": "2023-04-28T23:30:25.197026Z",
     "shell.execute_reply": "2023-04-28T23:30:25.195680Z"
    },
    "papermill": {
     "duration": 0.015275,
     "end_time": "2023-04-28T23:30:25.199684",
     "exception": false,
     "start_time": "2023-04-28T23:30:25.184409",
     "status": "completed"
    },
    "tags": []
   },
   "outputs": [],
   "source": [
    "df_main.loc[(df_main['DATE']==20190701) \n",
    "              & (df_main['SESSION']==1) \n",
    "              & (df_main['TRIAL']==7), 'rough_chirp_time'] = '23:29.771000'"
   ]
  },
  {
   "cell_type": "code",
   "execution_count": 53,
   "id": "f9a544db",
   "metadata": {
    "execution": {
     "iopub.execute_input": "2023-04-28T23:30:25.217276Z",
     "iopub.status.busy": "2023-04-28T23:30:25.217024Z",
     "iopub.status.idle": "2023-04-28T23:30:25.221073Z",
     "shell.execute_reply": "2023-04-28T23:30:25.220102Z"
    },
    "papermill": {
     "duration": 0.01527,
     "end_time": "2023-04-28T23:30:25.223211",
     "exception": false,
     "start_time": "2023-04-28T23:30:25.207941",
     "status": "completed"
    },
    "tags": []
   },
   "outputs": [],
   "source": [
    "df_main.loc[(df_main['DATE']==20190701) \n",
    "              & (df_main['SESSION']==1) \n",
    "              & (df_main['TRIAL']==9), 'rough_chirp_time'] = '25:22.017000'"
   ]
  },
  {
   "cell_type": "code",
   "execution_count": 54,
   "id": "496e5954",
   "metadata": {
    "execution": {
     "iopub.execute_input": "2023-04-28T23:30:25.239467Z",
     "iopub.status.busy": "2023-04-28T23:30:25.239076Z",
     "iopub.status.idle": "2023-04-28T23:30:25.243764Z",
     "shell.execute_reply": "2023-04-28T23:30:25.242936Z"
    },
    "papermill": {
     "duration": 0.015506,
     "end_time": "2023-04-28T23:30:25.245840",
     "exception": false,
     "start_time": "2023-04-28T23:30:25.230334",
     "status": "completed"
    },
    "tags": []
   },
   "outputs": [],
   "source": [
    "df_main.loc[(df_main['DATE']==20190702) \n",
    "              & (df_main['SESSION']==1) \n",
    "              & (df_main['TRIAL']==7), 'rough_chirp_time'] = '14:38.656000'"
   ]
  },
  {
   "cell_type": "code",
   "execution_count": 55,
   "id": "2f7b63ed",
   "metadata": {
    "execution": {
     "iopub.execute_input": "2023-04-28T23:30:25.261565Z",
     "iopub.status.busy": "2023-04-28T23:30:25.261318Z",
     "iopub.status.idle": "2023-04-28T23:30:25.265715Z",
     "shell.execute_reply": "2023-04-28T23:30:25.264946Z"
    },
    "papermill": {
     "duration": 0.014462,
     "end_time": "2023-04-28T23:30:25.267608",
     "exception": false,
     "start_time": "2023-04-28T23:30:25.253146",
     "status": "completed"
    },
    "tags": []
   },
   "outputs": [],
   "source": [
    "df_main.loc[(df_main['DATE']==20190703) \n",
    "              & (df_main['SESSION']==1) \n",
    "              & (df_main['TRIAL']==3), 'rough_chirp_time'] = '6:43.109000'"
   ]
  },
  {
   "cell_type": "markdown",
   "id": "031325a2",
   "metadata": {
    "papermill": {
     "duration": 0.007197,
     "end_time": "2023-04-28T23:30:25.281950",
     "exception": false,
     "start_time": "2023-04-28T23:30:25.274753",
     "status": "completed"
    },
    "tags": []
   },
   "source": [
    "## Export the final main sheet!"
   ]
  },
  {
   "cell_type": "code",
   "execution_count": 56,
   "id": "1cba4ea2",
   "metadata": {
    "execution": {
     "iopub.execute_input": "2023-04-28T23:30:25.297371Z",
     "iopub.status.busy": "2023-04-28T23:30:25.297179Z",
     "iopub.status.idle": "2023-04-28T23:30:25.306288Z",
     "shell.execute_reply": "2023-04-28T23:30:25.305938Z"
    },
    "papermill": {
     "duration": 0.018283,
     "end_time": "2023-04-28T23:30:25.307365",
     "exception": false,
     "start_time": "2023-04-28T23:30:25.289082",
     "status": "completed"
    },
    "tags": []
   },
   "outputs": [],
   "source": [
    "df_main.to_csv(Path(analysis_path).joinpath('all_info_csv/main_info.csv'))"
   ]
  },
  {
   "cell_type": "code",
   "execution_count": null,
   "id": "37f0d6bb",
   "metadata": {
    "papermill": {
     "duration": 0.007505,
     "end_time": "2023-04-28T23:30:25.322422",
     "exception": false,
     "start_time": "2023-04-28T23:30:25.314917",
     "status": "completed"
    },
    "tags": []
   },
   "outputs": [],
   "source": []
  }
 ],
 "metadata": {
  "kernelspec": {
   "display_name": "Python [conda env:porpoise_spheroid]",
   "language": "python",
   "name": "conda-env-porpoise_spheroid-py"
  },
  "language_info": {
   "codemirror_mode": {
    "name": "ipython",
    "version": 3
   },
   "file_extension": ".py",
   "mimetype": "text/x-python",
   "name": "python",
   "nbconvert_exporter": "python",
   "pygments_lexer": "ipython3",
   "version": "3.9.16"
  },
  "papermill": {
   "default_parameters": {},
   "duration": 7.846134,
   "end_time": "2023-04-28T23:30:25.546946",
   "environment_variables": {},
   "exception": null,
   "input_path": "./00_make-main-dataframe.ipynb",
   "output_path": "./00_make-main-dataframe.ipynb",
   "parameters": {},
   "start_time": "2023-04-28T23:30:17.700812",
   "version": "2.3.3"
  }
 },
 "nbformat": 4,
 "nbformat_minor": 5
}