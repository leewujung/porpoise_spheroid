{
 "cells": [
  {
   "cell_type": "markdown",
   "metadata": {},
   "source": [
    "# Slowed-down videos for example trials\n",
    "\n",
    "This notebook produces heterodyned audiors for 2 example trials:\n",
    "\n",
    "- 20190704_s1_t10, TC1, trial 223\n",
    "- 20190703_s2_t4, CT1, trial 196"
   ]
  },
  {
   "cell_type": "code",
   "execution_count": 1,
   "metadata": {},
   "outputs": [],
   "source": [
    "from pathlib import Path\n",
    "\n",
    "import datetime\n",
    "import numpy as np\n",
    "import soundfile as sf\n",
    "\n",
    "import cv2\n",
    "\n",
    "# import matplotlib.pyplot as plt\n",
    "# from matplotlib.patches import ConnectionPatch\n",
    "# import numpy as np\n",
    "# import pandas as pd\n",
    "\n",
    "# from scipy.interpolate import interp1d\n",
    "# from scipy.io import wavfile\n",
    "\n",
    "# import pickle"
   ]
  },
  {
   "cell_type": "code",
   "execution_count": 2,
   "metadata": {},
   "outputs": [],
   "source": [
    "from pp_utils.core import generate_data_path_dict #, MISC_PARAMS, HYDRO_PARAMS\n",
    "from pp_utils.file_handling import df_main_loader\n",
    "# from pp_utils.inspection_angle import enso2spheroid_angle"
   ]
  },
  {
   "cell_type": "markdown",
   "metadata": {},
   "source": [
    "## Set paths and load main info df"
   ]
  },
  {
   "cell_type": "code",
   "execution_count": 3,
   "metadata": {},
   "outputs": [],
   "source": [
    "data_path = generate_data_path_dict(Path(\"../data_processed/\"))\n",
    "raw_path = Path(\"../data_raw/\")"
   ]
  },
  {
   "cell_type": "markdown",
   "metadata": {},
   "source": [
    "### Data and figure path"
   ]
  },
  {
   "cell_type": "code",
   "execution_count": 4,
   "metadata": {},
   "outputs": [
    {
     "data": {
      "text/plain": [
       "{'main': PosixPath('../data_processed'),\n",
       " 'info_csv': PosixPath('../data_processed/all_info_csv'),\n",
       " 'LED': PosixPath('../data_processed/click_sync_LED/sync_csv'),\n",
       " 'chirp': PosixPath('../data_processed/click_sync/sync_csv'),\n",
       " 'track': PosixPath('../data_processed/tracks/xypressure_cal_transformed'),\n",
       " 'target': PosixPath('../data_processed/tracks/targets_cal_transformed'),\n",
       " 'extracted_clicks': PosixPath('../data_processed/hydrophone/extracted_clicks')}"
      ]
     },
     "execution_count": 4,
     "metadata": {},
     "output_type": "execute_result"
    }
   ],
   "source": [
    "data_path"
   ]
  },
  {
   "cell_type": "code",
   "execution_count": 5,
   "metadata": {},
   "outputs": [],
   "source": [
    "output_path = data_path[\"main\"] / \"video\"\n",
    "\n",
    "if not output_path.exists():\n",
    "    output_path.mkdir()\n",
    "\n",
    "# tp_path = output_path / \"trial_processor_object\"  # TrialProcessor objects\n",
    "# hydro_wav_path = data_path[\"main\"] / \"hydrophone/wav_filtered\"  # filtered hydrophone wav files\n",
    "dtag_filtered_bpf_path = data_path[\"main\"] / \"dtag/dtag_split_wav_filtered\"\n",
    "# echogram_path = data_path[\"main\"] / \"echogram/batch_gen\"\n",
    "# marks_path = data_path[\"main\"] / \"echogram/echogram_mark\""
   ]
  },
  {
   "cell_type": "markdown",
   "metadata": {},
   "source": [
    "### Load main dataframe"
   ]
  },
  {
   "cell_type": "code",
   "execution_count": 6,
   "metadata": {},
   "outputs": [],
   "source": [
    "df_main = df_main_loader(\n",
    "    folder=data_path[\"info_csv\"], filename=\"main_info_append_09.csv\",\n",
    ")"
   ]
  },
  {
   "cell_type": "markdown",
   "metadata": {},
   "source": [
    "### Set video frame rate"
   ]
  },
  {
   "cell_type": "code",
   "execution_count": 7,
   "metadata": {},
   "outputs": [],
   "source": [
    "video_fs = 29.97"
   ]
  },
  {
   "cell_type": "markdown",
   "metadata": {},
   "source": [
    "### Trial 223"
   ]
  },
  {
   "cell_type": "code",
   "execution_count": 8,
   "metadata": {},
   "outputs": [],
   "source": [
    "trial_idx = 223"
   ]
  },
  {
   "cell_type": "code",
   "execution_count": 9,
   "metadata": {},
   "outputs": [
    {
     "data": {
      "text/plain": [
       "'20190704_s1_t10'"
      ]
     },
     "execution_count": 9,
     "metadata": {},
     "output_type": "execute_result"
    }
   ],
   "source": [
    "df_main[\"fname_prefix\"].iloc[trial_idx]"
   ]
  },
  {
   "cell_type": "code",
   "execution_count": 10,
   "metadata": {},
   "outputs": [
    {
     "data": {
      "text/plain": [
       "PosixPath('../data_processed/dtag/dtag_split_wav_filtered/t223_20190704_s1_t10_dtag_filtered.wav')"
      ]
     },
     "execution_count": 10,
     "metadata": {},
     "output_type": "execute_result"
    }
   ],
   "source": [
    "dtag_file = list(dtag_filtered_bpf_path.glob(f\"t{trial_idx:03d}_*.wav\"))[0]\n",
    "dtag_file"
   ]
  },
  {
   "cell_type": "code",
   "execution_count": 11,
   "metadata": {},
   "outputs": [],
   "source": [
    "dtag_sig, dtag_fs = sf.read(dtag_file)\n",
    "dtag_t = np.arange(dtag_sig.size) / dtag_fs"
   ]
  },
  {
   "cell_type": "code",
   "execution_count": 12,
   "metadata": {},
   "outputs": [],
   "source": [
    "y2 = np.sin(180e3 * 2*np.pi*dtag_t)\n",
    "dtag_sig_mult = dtag_sig * y2"
   ]
  },
  {
   "cell_type": "code",
   "execution_count": 13,
   "metadata": {},
   "outputs": [],
   "source": [
    "sf.write(output_path / (dtag_file.stem + \"_mult.wav\"), dtag_sig_mult, dtag_fs)"
   ]
  },
  {
   "cell_type": "markdown",
   "metadata": {},
   "source": [
    "Below we figure out the frame number for video:"
   ]
  },
  {
   "cell_type": "code",
   "execution_count": 14,
   "metadata": {},
   "outputs": [
    {
     "data": {
      "text/plain": [
       "20.59685752314815"
      ]
     },
     "execution_count": 14,
     "metadata": {},
     "output_type": "execute_result"
    }
   ],
   "source": [
    "df_main.loc[trial_idx, \"tap_sync_time_dtag2video\"]"
   ]
  },
  {
   "cell_type": "code",
   "execution_count": 15,
   "metadata": {},
   "outputs": [
    {
     "data": {
      "text/plain": [
       "'14:50.800'"
      ]
     },
     "execution_count": 15,
     "metadata": {},
     "output_type": "execute_result"
    }
   ],
   "source": [
    "df_main.loc[trial_idx, \"dtag_trial_start_time\"]"
   ]
  },
  {
   "cell_type": "code",
   "execution_count": 16,
   "metadata": {},
   "outputs": [],
   "source": [
    "# start of dtag segment time in total dtag time\n",
    "sync_time_seg2dtag = datetime.datetime.strptime(\n",
    "    df_main.loc[trial_idx, \"dtag_trial_start_time\"], \"%M:%S.%f\"\n",
    ")\n",
    "\n",
    "# convert sync_time_seg2dtag to be based on seconds\n",
    "sync_time_seg2dtag = (\n",
    "    sync_time_seg2dtag.minute * 60\n",
    "    + sync_time_seg2dtag.second\n",
    "    + sync_time_seg2dtag.microsecond / 1e6\n",
    ")"
   ]
  },
  {
   "cell_type": "code",
   "execution_count": 17,
   "metadata": {},
   "outputs": [
    {
     "data": {
      "text/plain": [
       "911.3968575231481"
      ]
     },
     "execution_count": 17,
     "metadata": {},
     "output_type": "execute_result"
    }
   ],
   "source": [
    "dtag_total_shift = sync_time_seg2dtag + df_main.loc[trial_idx, \"tap_sync_time_dtag2video\"]\n",
    "dtag_total_shift"
   ]
  },
  {
   "cell_type": "code",
   "execution_count": 18,
   "metadata": {},
   "outputs": [
    {
     "data": {
      "text/plain": [
       "27314.56381996875"
      ]
     },
     "execution_count": 18,
     "metadata": {},
     "output_type": "execute_result"
    }
   ],
   "source": [
    "dtag_total_shift * video_fs"
   ]
  },
  {
   "cell_type": "code",
   "execution_count": 19,
   "metadata": {},
   "outputs": [
    {
     "data": {
      "text/plain": [
       "'20190704/session1/gopro_overhead/GOPR1487.MP4'"
      ]
     },
     "execution_count": 19,
     "metadata": {},
     "output_type": "execute_result"
    }
   ],
   "source": [
    "df_main[\"gopro_video\"].iloc[trial_idx]"
   ]
  },
  {
   "cell_type": "markdown",
   "metadata": {},
   "source": [
    "### Trial 196"
   ]
  },
  {
   "cell_type": "code",
   "execution_count": 20,
   "metadata": {},
   "outputs": [],
   "source": [
    "trial_idx = 196"
   ]
  },
  {
   "cell_type": "code",
   "execution_count": 21,
   "metadata": {},
   "outputs": [
    {
     "data": {
      "text/plain": [
       "'20190703_s2_t4'"
      ]
     },
     "execution_count": 21,
     "metadata": {},
     "output_type": "execute_result"
    }
   ],
   "source": [
    "df_main[\"fname_prefix\"].iloc[trial_idx]"
   ]
  },
  {
   "cell_type": "code",
   "execution_count": 22,
   "metadata": {},
   "outputs": [
    {
     "data": {
      "text/plain": [
       "PosixPath('../data_processed/dtag/dtag_split_wav_filtered/t196_20190703_s2_t04_dtag_filtered.wav')"
      ]
     },
     "execution_count": 22,
     "metadata": {},
     "output_type": "execute_result"
    }
   ],
   "source": [
    "dtag_file = list(dtag_filtered_bpf_path.glob(f\"t{trial_idx:03d}_*.wav\"))[0]\n",
    "dtag_file"
   ]
  },
  {
   "cell_type": "code",
   "execution_count": 23,
   "metadata": {},
   "outputs": [],
   "source": [
    "dtag_sig, dtag_fs = sf.read(dtag_file)\n",
    "dtag_t = np.arange(dtag_sig.size) / dtag_fs"
   ]
  },
  {
   "cell_type": "code",
   "execution_count": 24,
   "metadata": {},
   "outputs": [],
   "source": [
    "y2 = np.sin(180e3 * 2*np.pi*dtag_t)\n",
    "dtag_sig_mult = dtag_sig * y2"
   ]
  },
  {
   "cell_type": "code",
   "execution_count": 25,
   "metadata": {},
   "outputs": [],
   "source": [
    "sf.write(output_path / (dtag_file.stem + \"_mult.wav\"), dtag_sig_mult, dtag_fs)"
   ]
  },
  {
   "cell_type": "markdown",
   "metadata": {},
   "source": [
    "Below we figure out the frame number for video:"
   ]
  },
  {
   "cell_type": "code",
   "execution_count": 26,
   "metadata": {},
   "outputs": [
    {
     "data": {
      "text/plain": [
       "19.03865069444445"
      ]
     },
     "execution_count": 26,
     "metadata": {},
     "output_type": "execute_result"
    }
   ],
   "source": [
    "df_main.loc[trial_idx, \"tap_sync_time_dtag2video\"]"
   ]
  },
  {
   "cell_type": "code",
   "execution_count": 27,
   "metadata": {},
   "outputs": [
    {
     "data": {
      "text/plain": [
       "'15:19.570'"
      ]
     },
     "execution_count": 27,
     "metadata": {},
     "output_type": "execute_result"
    }
   ],
   "source": [
    "df_main.loc[trial_idx, \"dtag_trial_start_time\"]"
   ]
  },
  {
   "cell_type": "code",
   "execution_count": 28,
   "metadata": {},
   "outputs": [],
   "source": [
    "# start of dtag segment time in total dtag time\n",
    "sync_time_seg2dtag = datetime.datetime.strptime(\n",
    "    df_main.loc[trial_idx, \"dtag_trial_start_time\"], \"%M:%S.%f\"\n",
    ")\n",
    "\n",
    "# convert sync_time_seg2dtag to be based on seconds\n",
    "sync_time_seg2dtag = (\n",
    "    sync_time_seg2dtag.minute * 60\n",
    "    + sync_time_seg2dtag.second\n",
    "    + sync_time_seg2dtag.microsecond / 1e6\n",
    ")"
   ]
  },
  {
   "cell_type": "code",
   "execution_count": 29,
   "metadata": {},
   "outputs": [
    {
     "data": {
      "text/plain": [
       "938.6086506944445"
      ]
     },
     "execution_count": 29,
     "metadata": {},
     "output_type": "execute_result"
    }
   ],
   "source": [
    "dtag_total_shift = sync_time_seg2dtag + df_main.loc[trial_idx, \"tap_sync_time_dtag2video\"]\n",
    "dtag_total_shift"
   ]
  },
  {
   "cell_type": "code",
   "execution_count": 30,
   "metadata": {},
   "outputs": [
    {
     "data": {
      "text/plain": [
       "28130.1012613125"
      ]
     },
     "execution_count": 30,
     "metadata": {},
     "output_type": "execute_result"
    }
   ],
   "source": [
    "dtag_total_shift * video_fs"
   ]
  },
  {
   "cell_type": "code",
   "execution_count": 31,
   "metadata": {},
   "outputs": [
    {
     "data": {
      "text/plain": [
       "196"
      ]
     },
     "execution_count": 31,
     "metadata": {},
     "output_type": "execute_result"
    }
   ],
   "source": [
    "trial_idx"
   ]
  },
  {
   "cell_type": "code",
   "execution_count": 32,
   "metadata": {},
   "outputs": [
    {
     "data": {
      "text/plain": [
       "'20190703/session2/gopro_overhead/GOPR1485.MP4'"
      ]
     },
     "execution_count": 32,
     "metadata": {},
     "output_type": "execute_result"
    }
   ],
   "source": [
    "df_main[\"gopro_video\"].iloc[trial_idx]"
   ]
  },
  {
   "cell_type": "code",
   "execution_count": null,
   "metadata": {},
   "outputs": [],
   "source": []
  },
  {
   "cell_type": "code",
   "execution_count": null,
   "metadata": {},
   "outputs": [],
   "source": []
  },
  {
   "cell_type": "code",
   "execution_count": null,
   "metadata": {},
   "outputs": [],
   "source": []
  }
 ],
 "metadata": {
  "kernelspec": {
   "display_name": "porpoise_spheroid",
   "language": "python",
   "name": "python3"
  },
  "language_info": {
   "codemirror_mode": {
    "name": "ipython",
    "version": 3
   },
   "file_extension": ".py",
   "mimetype": "text/x-python",
   "name": "python",
   "nbconvert_exporter": "python",
   "pygments_lexer": "ipython3",
   "version": "3.9.16"
  }
 },
 "nbformat": 4,
 "nbformat_minor": 2
}
